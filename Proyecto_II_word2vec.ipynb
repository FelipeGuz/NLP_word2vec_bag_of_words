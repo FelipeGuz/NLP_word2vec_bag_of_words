{
 "cells": [
  {
   "cell_type": "markdown",
   "metadata": {},
   "source": [
    "# Proyecto II: De palabras a Vectores\n",
    "\n",
    "En este proyecto vamos a implementar uno de los sistemas más utilizados par aconvertir palabras a vectores **word2vec**. En este proyecto la idea es que ustedes creén una base de datos de texto, la cúal utilizarán para entrenar la códigficación de estás palabras, y a partir de allí implementar ciertos sistemas. Par afacilitar el trabajo, en este notebook pueden encontrar unas funciones que fueron extraidas de esté [link](https://towardsdatascience.com/a-word2vec-implementation-using-numpy-and-python-d256cf0e5f28), y adaptadas para trabajar con el lenguaje español. Sientanse libres de utilizar estas funciones o de adaptarlas asu gusto. Las funciones toman como entrada un texto en formato plano, y al finalizar entregan el vector de palabras de contexto y el vector target que puede ser utilizado para entrenar el modelo word2vec. Los datos de entrenamiento se entregan en una lista que contiene el vector de salida (codificación one hot de una palabra) y el vector que contiene la suma de los vectores hot encoded de las palabras de contexto. Para escoger el tamaño de la palabra de contexto deben modificar el parámetro $C$.\n",
    "\n",
    "Para este proyecto necesitan realizar lo siguiente:\n",
    "\n",
    "1. Obtengan un corpus de texto plano en Español, lo suficientemente largo, que contenga información sobre diferentes países. Este texto lo pueden extraer de wikipedia.\n",
    "2. Con la información de este corpus entrenen un modelo word2vec, aquí debe seleccionar un valor $N$ que representa la longitud del vector que representará las palabras. Este modelo es una red neuronal con una sola capa oculta de $N$ neuronas.\n",
    "3. Una vez tengan el modelo identifiquen la relación entre algunos países (no todos) de su corpus y sus capitales.\n",
    "4. Mediante esta relación encuentren las capitales de los demás países que incluyeron en el corpus. Para esto deben realizar una búsqueda de vectores cercanos a un punto en el espacio $\\mathbb{R}^{\\text{N}}$. Esta búsqueda la pueden realizar con *Locally Sensitive Hashing*.\n",
    "4. Realice una visualización en 2D o 3D de los vectores correspondientes a los países y sus capitales. Indicando los que usarón de referencia para encontrar la relación entre país y capital, y aquellos para los cuales no utilizarón esa relación.\n",
    "5. Seleccione 5 Palabras y para ellas calcule las 10 palabras más parecidas (sinonimos) en orden de similitud.\n",
    "6. Construya un nuevo corpus, más pequeño, sobre un tema cualquiera. Para este corpus necesita la versión en Español y en Ingles de los textos. Una vez más pueden utilizar Wikipedia para esto. \n",
    "7. Obtenga las representaciones en vectores par alas palabras en Español y en Ingles.\n",
    "8. De los datos obtenidos, escoga un conjunto $m$ de palabras en español, y las respectiva traducción en ingles (que se encuentren en el vocabulario que construyeron) y planteé el problema de transformacion $\\mathcal{X}\\mathbf{R} = \\mathcal{Y}$. De tal forma que encuentren la matrix de \"traducción\" $\\mathbf{R}$.\n",
    "9. Realicé esta operación para varios valores de $m$.\n",
    "10. Finalmente escoja algunas palabras en Español, apliqueles la transformación $\\mathbf{R}$ y liste las 5 palabras más cercanas en $\\mathcal{Y}$ a esta traducción.\n",
    "\n",
    "Al finalizar los diferentes puntos del proyecto, contesten las isguientes preguntas:\n",
    "\n",
    "1. ¿Qué problemas tuvierón a la hora de implementar el modelo word2vec?\n",
    "2. ¿Cómo escogierón el parámetro $N$?\n",
    "3. ¿Qué pueden decir de los resultados del modelo buscando la relación entre los países y las capitales?\n",
    "4. ¿Qué tan bien funciona el modelo para los sinonimos?, ¿Cómo creen que se puede mejorar este modelo?\n",
    "5. ¿Cómo afecta el parámetro $m$ el funcionamiento del modelo de traducción?\n",
    "6. ¿Cómo mejorarian el modelo de traducción?\n",
    "7. ¿Qué concluyen de este proyecto y de los resultados obtenidos?\n",
    "\n",
    "Al finalizar deben entregar el notebook, con los archivos de soporte (los corpus) y demás elementos que consideren necesarios. Recuerde dar respuesta a las preguntas del notebook, y comentar cada parte del proceso. El proyecto se debe entregar a más tardar el **Domingo 29 de Marzo a las 12 de la noche**.\n"
   ]
  },
  {
   "cell_type": "code",
   "execution_count": 3,
   "metadata": {},
   "outputs": [],
   "source": [
    "# Importacndo librerias necesarias\n",
    "\n",
    "import re \n",
    "import numpy as np"
   ]
  },
  {
   "cell_type": "code",
   "execution_count": 4,
   "metadata": {},
   "outputs": [],
   "source": [
    "# Función para leer y procesar el archivo en texto plano.\n",
    "\n",
    "def get_file_data(fname, stop_word_removal='no'):\n",
    "    file_contents = []\n",
    "    with open(fname) as f:\n",
    "        file_contents = f.read()\n",
    "    text = []\n",
    "    for val in file_contents.split('.'):\n",
    "        val = re.sub(r'[,¡!¿?;-]+','.',val)\n",
    "        val = re.sub(r'á','a',val)\n",
    "        val = re.sub(r'é','e',val)\n",
    "        val = re.sub(r'í','i',val)\n",
    "        val = re.sub(r'ó','o',val)\n",
    "        val = re.sub(r'ú','u',val)\n",
    "        val = re.sub(r'Á','A',val)\n",
    "        val = re.sub(r'É','E',val)\n",
    "        val = re.sub(r'Í','I',val)\n",
    "        val = re.sub(r'Ó','O',val)\n",
    "        val = re.sub(r'Ú','U',val)\n",
    "        val = re.sub(r'ñ','n',val)\n",
    "        val = re.sub(r'Ñ','N',val)\n",
    "        sent = re.findall(\"[A-Za-z]+\", val)\n",
    "        line = ''\n",
    "        for words in sent:\n",
    "            \n",
    "            if stop_word_removal == 'yes': \n",
    "                if len(words) > 1 and words not in stop_words:\n",
    "                    line = line + ' ' + words\n",
    "            else:\n",
    "                if len(words) > 1 :\n",
    "                    line = line + ' ' + words\n",
    "        text.append(line)\n",
    "    return text\n",
    "\n",
    "# Función para obtener un Vocabulario en función del texto procesado\n",
    "\n",
    "def generate_dictinoary_data(text):\n",
    "    word_to_index= dict()\n",
    "    index_to_word = dict()\n",
    "    corpus = []\n",
    "    count = 0\n",
    "    vocab_size = 0\n",
    "    \n",
    "    for row in text:\n",
    "        for word in row.split():\n",
    "            word = word.lower()\n",
    "            corpus.append(word)\n",
    "            if word_to_index.get(word) == None:\n",
    "                word_to_index.update ( {word : count})\n",
    "                index_to_word.update ( {count : word })\n",
    "                count  += 1\n",
    "    vocab_size = len(word_to_index)\n",
    "    length_of_corpus = len(corpus)\n",
    "    \n",
    "    return word_to_index,index_to_word,corpus,vocab_size,length_of_corpus\n",
    "\n",
    "# Función para generar representaciones one hot de los vectores target y del corpus\n",
    "\n",
    "def get_one_hot_vectors(target_word,context_words,vocab_size,word_to_index):\n",
    "    \n",
    "    #Create an array of size = vocab_size filled with zeros\n",
    "    trgt_word_vector = np.zeros(vocab_size)\n",
    "    \n",
    "    #Get the index of the target_word according to the dictionary word_to_index. \n",
    "    index_of_word_dictionary = word_to_index.get(target_word) \n",
    "    \n",
    "    #Set the index to 1\n",
    "    trgt_word_vector[index_of_word_dictionary] = 1\n",
    "    \n",
    "    #Repeat same steps for context_words but in a loop\n",
    "    ctxt_word_vector = np.zeros(vocab_size)\n",
    "    \n",
    "    \n",
    "    for word in context_words:\n",
    "        index_of_word_dictionary = word_to_index.get(word) \n",
    "        ctxt_word_vector[index_of_word_dictionary] = 1\n",
    "        \n",
    "    return trgt_word_vector,ctxt_word_vector\n",
    "\n",
    "# Función para generar los datos de entrenamiento para la red neuronal que representa el modelo word2vec\n",
    "\n",
    "def generate_training_data(corpus,window_size,vocab_size,word_to_index,length_of_corpus,sample=None):\n",
    "\n",
    "    training_data =  []\n",
    "    training_sample_words =  []\n",
    "    for i,word in enumerate(corpus):\n",
    "\n",
    "        index_target_word = i\n",
    "        target_word = word\n",
    "        context_words = []\n",
    "\n",
    "        #when target word is the first word\n",
    "        if i == 0:  \n",
    "\n",
    "            # trgt_word_index:(0), ctxt_word_index:(1,2)\n",
    "            context_words = [corpus[x] for x in range(i + 1 , window_size + 1)] \n",
    "\n",
    "\n",
    "        #when target word is the last word\n",
    "        elif i == len(corpus)-1:\n",
    "\n",
    "            # trgt_word_index:(9), ctxt_word_index:(8,7), length_of_corpus = 10\n",
    "            context_words = [corpus[x] for x in range(length_of_corpus - 2 ,length_of_corpus -2 - window_size  , -1 )]\n",
    "\n",
    "        #When target word is the middle word\n",
    "        else:\n",
    "\n",
    "            #Before the middle target word\n",
    "            before_target_word_index = index_target_word - 1\n",
    "            for x in range(before_target_word_index, before_target_word_index - window_size , -1):\n",
    "                if x >=0:\n",
    "                    context_words.extend([corpus[x]])\n",
    "\n",
    "            #After the middle target word\n",
    "            after_target_word_index = index_target_word + 1\n",
    "            for x in range(after_target_word_index, after_target_word_index + window_size):\n",
    "                if x < len(corpus):\n",
    "                    context_words.extend([corpus[x]])\n",
    "\n",
    "\n",
    "        trgt_word_vector,ctxt_word_vector = get_one_hot_vectors(target_word,context_words,vocab_size,word_to_index)\n",
    "        training_data.append([trgt_word_vector,ctxt_word_vector])   \n",
    "        \n",
    "        if sample is not None:\n",
    "            training_sample_words.append([target_word,context_words])   \n",
    "        \n",
    "    return training_data,training_sample_words"
   ]
  },
  {
   "cell_type": "code",
   "execution_count": 5,
   "metadata": {},
   "outputs": [],
   "source": [
    "# Ejecución del código\n",
    "\n",
    "fname = 'paises' #Nombre del archivo\n",
    "C = 2 # Número de palabras de contexto a la derecha y a la izquierda\n",
    "text = get_file_data(fname, stop_word_removal='no')\n",
    "word_to_index,index_to_word,corpus,vocab_size,length_of_corpus = generate_dictinoary_data(text)\n",
    "training_data,training_sample_words = generate_training_data(corpus,C,vocab_size,word_to_index,length_of_corpus,sample=None)"
   ]
  },
  {
   "cell_type": "markdown",
   "metadata": {},
   "source": [
    "# Solucion"
   ]
  },
  {
   "cell_type": "code",
   "execution_count": 14,
   "metadata": {},
   "outputs": [
    {
     "data": {
      "text/plain": [
       "1524"
      ]
     },
     "execution_count": 14,
     "metadata": {},
     "output_type": "execute_result"
    }
   ],
   "source": [
    "vocab_size"
   ]
  },
  {
   "cell_type": "code",
   "execution_count": 6,
   "metadata": {},
   "outputs": [],
   "source": [
    "# TensorFlow\n",
    "import tensorflow as tf\n",
    "from tensorflow.keras.models import Sequential\n",
    "from tensorflow.keras.layers import Dense, Dropout, LSTM\n",
    "\n",
    "from sklearn.model_selection import train_test_split"
   ]
  },
  {
   "cell_type": "code",
   "execution_count": 20,
   "metadata": {},
   "outputs": [],
   "source": [
    "X = np.array([x[1] for x in training_data])\n",
    "Y = np.array([y[0] for y in training_data])"
   ]
  },
  {
   "cell_type": "code",
   "execution_count": 21,
   "metadata": {},
   "outputs": [],
   "source": [
    "# Dividiendo train test\n",
    "X_train, X_test, Y_train, Y_test = train_test_split(X,Y,test_size=0.3,random_state=42)"
   ]
  },
  {
   "cell_type": "code",
   "execution_count": 22,
   "metadata": {},
   "outputs": [
    {
     "data": {
      "text/plain": [
       "[array([1., 0., 0., ..., 0., 0., 0.]), array([0., 1., 1., ..., 0., 0., 0.])]"
      ]
     },
     "execution_count": 22,
     "metadata": {},
     "output_type": "execute_result"
    }
   ],
   "source": [
    "training_data[0]"
   ]
  },
  {
   "cell_type": "code",
   "execution_count": 29,
   "metadata": {},
   "outputs": [],
   "source": [
    "model = Sequential()  \n",
    "model.add(Dense(100,input_shape=(vocab_size,), activation='relu'))\n",
    "model.add(Dense(vocab_size, activation='softmax'))\n",
    "\n",
    "model.compile(loss='CategoricalCrossentropy', optimizer='rmsprop', metrics=['accuracy'])  "
   ]
  },
  {
   "cell_type": "code",
   "execution_count": 30,
   "metadata": {},
   "outputs": [
    {
     "name": "stdout",
     "output_type": "stream",
     "text": [
      "Epoch 1/50\n",
      "103/103 [==============================] - 1s 9ms/step - loss: 6.9143 - accuracy: 0.0889 - val_loss: 6.4007 - val_accuracy: 0.0830\n",
      "Epoch 2/50\n",
      "103/103 [==============================] - 1s 7ms/step - loss: 5.9737 - accuracy: 0.0883 - val_loss: 6.3893 - val_accuracy: 0.0830\n",
      "Epoch 3/50\n",
      "103/103 [==============================] - 1s 7ms/step - loss: 5.7286 - accuracy: 0.0883 - val_loss: 6.4507 - val_accuracy: 0.0830\n",
      "Epoch 4/50\n",
      "103/103 [==============================] - 1s 7ms/step - loss: 5.5663 - accuracy: 0.0919 - val_loss: 6.4648 - val_accuracy: 0.0908\n",
      "Epoch 5/50\n",
      "103/103 [==============================] - 1s 7ms/step - loss: 5.4239 - accuracy: 0.1004 - val_loss: 6.5015 - val_accuracy: 0.0951\n",
      "Epoch 6/50\n",
      "103/103 [==============================] - 1s 7ms/step - loss: 5.2911 - accuracy: 0.1108 - val_loss: 6.5508 - val_accuracy: 0.0958\n",
      "Epoch 7/50\n",
      "103/103 [==============================] - 1s 7ms/step - loss: 5.1667 - accuracy: 0.1199 - val_loss: 6.5782 - val_accuracy: 0.1050\n",
      "Epoch 8/50\n",
      "103/103 [==============================] - 1s 7ms/step - loss: 5.0426 - accuracy: 0.1260 - val_loss: 6.5880 - val_accuracy: 0.1107\n",
      "Epoch 9/50\n",
      "103/103 [==============================] - 1s 7ms/step - loss: 4.9185 - accuracy: 0.1318 - val_loss: 6.6492 - val_accuracy: 0.1121\n",
      "Epoch 10/50\n",
      "103/103 [==============================] - 1s 7ms/step - loss: 4.7935 - accuracy: 0.1400 - val_loss: 6.6998 - val_accuracy: 0.1143\n",
      "Epoch 11/50\n",
      "103/103 [==============================] - 1s 7ms/step - loss: 4.6666 - accuracy: 0.1439 - val_loss: 6.7490 - val_accuracy: 0.1178\n",
      "Epoch 12/50\n",
      "103/103 [==============================] - 1s 7ms/step - loss: 4.5377 - accuracy: 0.1552 - val_loss: 6.8398 - val_accuracy: 0.1164\n",
      "Epoch 13/50\n",
      "103/103 [==============================] - 1s 7ms/step - loss: 4.4082 - accuracy: 0.1656 - val_loss: 6.9098 - val_accuracy: 0.1150\n",
      "Epoch 14/50\n",
      "103/103 [==============================] - 1s 7ms/step - loss: 4.2754 - accuracy: 0.1795 - val_loss: 6.9933 - val_accuracy: 0.1192\n",
      "Epoch 15/50\n",
      "103/103 [==============================] - 1s 7ms/step - loss: 4.1402 - accuracy: 0.1926 - val_loss: 7.0059 - val_accuracy: 0.1221\n",
      "Epoch 16/50\n",
      "103/103 [==============================] - 1s 7ms/step - loss: 4.0027 - accuracy: 0.2045 - val_loss: 7.0953 - val_accuracy: 0.1228\n",
      "Epoch 17/50\n",
      "103/103 [==============================] - 1s 7ms/step - loss: 3.8618 - accuracy: 0.2264 - val_loss: 7.1950 - val_accuracy: 0.1228\n",
      "Epoch 18/50\n",
      "103/103 [==============================] - 1s 7ms/step - loss: 3.7176 - accuracy: 0.2483 - val_loss: 7.2453 - val_accuracy: 0.1242\n",
      "Epoch 19/50\n",
      "103/103 [==============================] - 1s 7ms/step - loss: 3.5699 - accuracy: 0.2766 - val_loss: 7.3484 - val_accuracy: 0.1242\n",
      "Epoch 20/50\n",
      "103/103 [==============================] - 1s 7ms/step - loss: 3.4182 - accuracy: 0.2979 - val_loss: 7.4829 - val_accuracy: 0.1235\n",
      "Epoch 21/50\n",
      "103/103 [==============================] - 1s 7ms/step - loss: 3.2643 - accuracy: 0.3195 - val_loss: 7.5836 - val_accuracy: 0.1228\n",
      "Epoch 22/50\n",
      "103/103 [==============================] - 1s 7ms/step - loss: 3.1075 - accuracy: 0.3460 - val_loss: 7.6248 - val_accuracy: 0.1221\n",
      "Epoch 23/50\n",
      "103/103 [==============================] - 1s 7ms/step - loss: 2.9440 - accuracy: 0.3749 - val_loss: 7.7471 - val_accuracy: 0.1235\n",
      "Epoch 24/50\n",
      "103/103 [==============================] - 1s 6ms/step - loss: 2.7803 - accuracy: 0.3974 - val_loss: 7.8242 - val_accuracy: 0.1256\n",
      "Epoch 25/50\n",
      "103/103 [==============================] - 1s 7ms/step - loss: 2.6135 - accuracy: 0.4236 - val_loss: 7.9447 - val_accuracy: 0.1242\n",
      "Epoch 26/50\n",
      "103/103 [==============================] - 1s 7ms/step - loss: 2.4427 - accuracy: 0.4474 - val_loss: 8.0397 - val_accuracy: 0.1256\n",
      "Epoch 27/50\n",
      "103/103 [==============================] - 1s 7ms/step - loss: 2.2692 - accuracy: 0.4860 - val_loss: 8.1707 - val_accuracy: 0.1278\n",
      "Epoch 28/50\n",
      "103/103 [==============================] - 1s 7ms/step - loss: 2.0979 - accuracy: 0.5134 - val_loss: 8.2344 - val_accuracy: 0.1278\n",
      "Epoch 29/50\n",
      "103/103 [==============================] - 1s 7ms/step - loss: 1.9240 - accuracy: 0.5444 - val_loss: 8.3225 - val_accuracy: 0.1256\n",
      "Epoch 30/50\n",
      "103/103 [==============================] - 1s 7ms/step - loss: 1.7489 - accuracy: 0.5898 - val_loss: 8.4454 - val_accuracy: 0.1256\n",
      "Epoch 31/50\n",
      "103/103 [==============================] - 1s 7ms/step - loss: 1.5771 - accuracy: 0.6336 - val_loss: 8.5073 - val_accuracy: 0.1214\n",
      "Epoch 32/50\n",
      "103/103 [==============================] - 1s 7ms/step - loss: 1.4080 - accuracy: 0.6765 - val_loss: 8.6584 - val_accuracy: 0.1242\n",
      "Epoch 33/50\n",
      "103/103 [==============================] - 1s 7ms/step - loss: 1.2474 - accuracy: 0.7185 - val_loss: 8.7461 - val_accuracy: 0.1235\n",
      "Epoch 34/50\n",
      "103/103 [==============================] - 1s 7ms/step - loss: 1.0927 - accuracy: 0.7617 - val_loss: 8.8586 - val_accuracy: 0.1228\n",
      "Epoch 35/50\n",
      "103/103 [==============================] - 1s 7ms/step - loss: 0.9498 - accuracy: 0.8086 - val_loss: 8.9741 - val_accuracy: 0.1221\n",
      "Epoch 36/50\n",
      "103/103 [==============================] - 1s 7ms/step - loss: 0.8189 - accuracy: 0.8506 - val_loss: 9.0845 - val_accuracy: 0.1221\n",
      "Epoch 37/50\n",
      "103/103 [==============================] - 1s 7ms/step - loss: 0.7026 - accuracy: 0.8810 - val_loss: 9.2194 - val_accuracy: 0.1228\n",
      "Epoch 38/50\n",
      "103/103 [==============================] - 1s 7ms/step - loss: 0.6004 - accuracy: 0.9011 - val_loss: 9.3232 - val_accuracy: 0.1214\n",
      "Epoch 39/50\n",
      "103/103 [==============================] - 1s 7ms/step - loss: 0.5134 - accuracy: 0.9194 - val_loss: 9.4146 - val_accuracy: 0.1235\n",
      "Epoch 40/50\n",
      "103/103 [==============================] - 1s 7ms/step - loss: 0.4378 - accuracy: 0.9355 - val_loss: 9.5319 - val_accuracy: 0.1242\n",
      "Epoch 41/50\n",
      "103/103 [==============================] - 1s 7ms/step - loss: 0.3756 - accuracy: 0.9501 - val_loss: 9.6816 - val_accuracy: 0.1228\n",
      "Epoch 42/50\n",
      "103/103 [==============================] - 1s 7ms/step - loss: 0.3242 - accuracy: 0.9562 - val_loss: 9.7870 - val_accuracy: 0.1235\n",
      "Epoch 43/50\n",
      "103/103 [==============================] - 1s 7ms/step - loss: 0.2817 - accuracy: 0.9632 - val_loss: 9.8891 - val_accuracy: 0.1178\n",
      "Epoch 44/50\n",
      "103/103 [==============================] - 1s 7ms/step - loss: 0.2451 - accuracy: 0.9671 - val_loss: 10.0331 - val_accuracy: 0.1178\n",
      "Epoch 45/50\n",
      "103/103 [==============================] - 1s 7ms/step - loss: 0.2153 - accuracy: 0.9699 - val_loss: 10.1352 - val_accuracy: 0.1192\n",
      "Epoch 46/50\n",
      "103/103 [==============================] - 1s 7ms/step - loss: 0.1902 - accuracy: 0.9760 - val_loss: 10.2131 - val_accuracy: 0.1164\n",
      "Epoch 47/50\n",
      "103/103 [==============================] - 1s 7ms/step - loss: 0.1680 - accuracy: 0.9790 - val_loss: 10.3585 - val_accuracy: 0.1143\n",
      "Epoch 48/50\n",
      "103/103 [==============================] - 1s 7ms/step - loss: 0.1500 - accuracy: 0.9802 - val_loss: 10.4589 - val_accuracy: 0.1121\n",
      "Epoch 49/50\n",
      "103/103 [==============================] - 1s 7ms/step - loss: 0.1340 - accuracy: 0.9805 - val_loss: 10.5469 - val_accuracy: 0.1150\n",
      "Epoch 50/50\n",
      "103/103 [==============================] - 1s 7ms/step - loss: 0.1203 - accuracy: 0.9823 - val_loss: 10.6681 - val_accuracy: 0.1121\n"
     ]
    },
    {
     "data": {
      "text/plain": [
       "<tensorflow.python.keras.callbacks.History at 0x7fbd4e41bc70>"
      ]
     },
     "execution_count": 30,
     "metadata": {},
     "output_type": "execute_result"
    }
   ],
   "source": [
    "model.fit(X_train,Y_train,epochs=50,validation_data=(X_test,Y_test))"
   ]
  },
  {
   "cell_type": "code",
   "execution_count": null,
   "metadata": {},
   "outputs": [],
   "source": []
  }
 ],
 "metadata": {
  "kernelspec": {
   "display_name": "Python 3",
   "language": "python",
   "name": "python3"
  },
  "language_info": {
   "codemirror_mode": {
    "name": "ipython",
    "version": 3
   },
   "file_extension": ".py",
   "mimetype": "text/x-python",
   "name": "python",
   "nbconvert_exporter": "python",
   "pygments_lexer": "ipython3",
   "version": "3.8.5"
  }
 },
 "nbformat": 4,
 "nbformat_minor": 2
}
