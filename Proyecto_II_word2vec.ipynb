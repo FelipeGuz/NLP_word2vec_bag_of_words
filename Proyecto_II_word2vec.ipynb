{
 "cells": [
  {
   "cell_type": "markdown",
   "metadata": {
    "id": "12hsEen46S3X"
   },
   "source": [
    "# Proyecto II: De palabras a Vectores\n",
    "\n",
    "En este proyecto vamos a implementar uno de los sistemas más utilizados par aconvertir palabras a vectores **word2vec**. En este proyecto la idea es que ustedes creén una base de datos de texto, la cúal utilizarán para entrenar la códigficación de estás palabras, y a partir de allí implementar ciertos sistemas. Par afacilitar el trabajo, en este notebook pueden encontrar unas funciones que fueron extraidas de esté [link](https://towardsdatascience.com/a-word2vec-implementation-using-numpy-and-python-d256cf0e5f28), y adaptadas para trabajar con el lenguaje español. Sientanse libres de utilizar estas funciones o de adaptarlas asu gusto. Las funciones toman como entrada un texto en formato plano, y al finalizar entregan el vector de palabras de contexto y el vector target que puede ser utilizado para entrenar el modelo word2vec. Los datos de entrenamiento se entregan en una lista que contiene el vector de salida (codificación one hot de una palabra) y el vector que contiene la suma de los vectores hot encoded de las palabras de contexto. Para escoger el tamaño de la palabra de contexto deben modificar el parámetro $C$.\n",
    "\n",
    "Para este proyecto necesitan realizar lo siguiente:\n",
    "\n",
    "1. Obtengan un corpus de texto plano en Español, lo suficientemente largo, que contenga información sobre diferentes países. Este texto lo pueden extraer de wikipedia.\n",
    "2. Con la información de este corpus entrenen un modelo word2vec, aquí debe seleccionar un valor $N$ que representa la longitud del vector que representará las palabras. Este modelo es una red neuronal con una sola capa oculta de $N$ neuronas.\n",
    "3. Una vez tengan el modelo identifiquen la relación entre algunos países (no todos) de su corpus y sus capitales.\n",
    "4. Mediante esta relación encuentren las capitales de los demás países que incluyeron en el corpus. Para esto deben realizar una búsqueda de vectores cercanos a un punto en el espacio $\\mathbb{R}^{\\text{N}}$. Esta búsqueda la pueden realizar con *Locally Sensitive Hashing*.\n",
    "4. Realice una visualización en 2D o 3D de los vectores correspondientes a los países y sus capitales. Indicando los que usarón de referencia para encontrar la relación entre país y capital, y aquellos para los cuales no utilizarón esa relación.\n",
    "5. Seleccione 5 Palabras y para ellas calcule las 10 palabras más parecidas (sinonimos) en orden de similitud.\n",
    "6. Construya un nuevo corpus, más pequeño, sobre un tema cualquiera. Para este corpus necesita la versión en Español y en Ingles de los textos. Una vez más pueden utilizar Wikipedia para esto. \n",
    "7. Obtenga las representaciones en vectores par alas palabras en Español y en Ingles.\n",
    "8. De los datos obtenidos, escoga un conjunto $m$ de palabras en español, y las respectiva traducción en ingles (que se encuentren en el vocabulario que construyeron) y planteé el problema de transformacion $\\mathcal{X}\\mathbf{R} = \\mathcal{Y}$. De tal forma que encuentren la matrix de \"traducción\" $\\mathbf{R}$.\n",
    "9. Realicé esta operación para varios valores de $m$.\n",
    "10. Finalmente escoja algunas palabras en Español, apliqueles la transformación $\\mathbf{R}$ y liste las 5 palabras más cercanas en $\\mathcal{Y}$ a esta traducción.\n",
    "\n",
    "Al finalizar los diferentes puntos del proyecto, contesten las isguientes preguntas:\n",
    "\n",
    "1. ¿Qué problemas tuvierón a la hora de implementar el modelo word2vec?\n",
    "2. ¿Cómo escogierón el parámetro $N$?\n",
    "3. ¿Qué pueden decir de los resultados del modelo buscando la relación entre los países y las capitales?\n",
    "4. ¿Qué tan bien funciona el modelo para los sinonimos?, ¿Cómo creen que se puede mejorar este modelo?\n",
    "5. ¿Cómo afecta el parámetro $m$ el funcionamiento del modelo de traducción?\n",
    "6. ¿Cómo mejorarian el modelo de traducción?\n",
    "7. ¿Qué concluyen de este proyecto y de los resultados obtenidos?\n",
    "\n",
    "Al finalizar deben entregar el notebook, con los archivos de soporte (los corpus) y demás elementos que consideren necesarios. Recuerde dar respuesta a las preguntas del notebook, y comentar cada parte del proceso. El proyecto se debe entregar a más tardar el **Domingo 29 de Marzo a las 12 de la noche**.\n"
   ]
  },
  {
   "cell_type": "code",
   "execution_count": 1,
   "metadata": {},
   "outputs": [
    {
     "name": "stdout",
     "output_type": "stream",
     "text": [
      "Defaulting to user installation because normal site-packages is not writeable\n",
      "Requirement already satisfied: lshashpy3 in /home/felipe/.local/lib/python3.8/site-packages (0.0.8)\n"
     ]
    }
   ],
   "source": [
    "# Instalacion de libreria para algoritmo de clasificacion\n",
    "!pip3 install lshashpy3"
   ]
  },
  {
   "cell_type": "code",
   "execution_count": 2,
   "metadata": {
    "id": "89YpInSR6S3i"
   },
   "outputs": [],
   "source": [
    "# Importacndo librerias necesarias\n",
    "\n",
    "import re \n",
    "import numpy as np\n",
    "\n",
    "# Matplotlib\n",
    "from mpl_toolkits import mplot3d\n",
    "import numpy as np\n",
    "import matplotlib.pyplot as plt\n",
    "\n",
    "# TensorFlow\n",
    "import tensorflow as tf\n",
    "from tensorflow.keras.models import Sequential\n",
    "from tensorflow.keras.layers import Dense, Dropout, LSTM\n",
    "\n",
    "# Sklearn\n",
    "from sklearn.model_selection import train_test_split\n",
    "from sklearn.decomposition import PCA\n",
    "\n",
    "# Algoritmo de Locally Sensitive Hashing\n",
    "import lshashpy3 as lshash"
   ]
  },
  {
   "cell_type": "code",
   "execution_count": 3,
   "metadata": {
    "id": "RDGGYLqQ6S3l"
   },
   "outputs": [],
   "source": [
    "# Función para leer y procesar el archivo en texto plano.\n",
    "\n",
    "def get_file_data(fname, stop_word_removal='no'):\n",
    "    file_contents = []\n",
    "    with open(fname,encoding=\"utf-8\") as f:\n",
    "        file_contents = f.read()\n",
    "    text = []\n",
    "    for val in file_contents.split('.'):\n",
    "        val = re.sub(r'[,¡!¿?;-]+','.',val)\n",
    "        val = re.sub(r'á','a',val)\n",
    "        val = re.sub(r'é','e',val)\n",
    "        val = re.sub(r'í','i',val)\n",
    "        val = re.sub(r'ó','o',val)\n",
    "        val = re.sub(r'ú','u',val)\n",
    "        val = re.sub(r'Á','A',val)\n",
    "        val = re.sub(r'É','E',val)\n",
    "        val = re.sub(r'Í','I',val)\n",
    "        val = re.sub(r'Ó','O',val)\n",
    "        val = re.sub(r'Ú','U',val)\n",
    "        val = re.sub(r'ñ','n',val)\n",
    "        val = re.sub(r'Ñ','N',val)\n",
    "        sent = re.findall(\"[A-Za-z]+\", val)\n",
    "        line = ''\n",
    "        for words in sent:\n",
    "            \n",
    "            if stop_word_removal == 'yes': \n",
    "                if len(words) > 1 and words not in stop_words:\n",
    "                    line = line + ' ' + words\n",
    "            else:\n",
    "                if len(words) > 1 :\n",
    "                    line = line + ' ' + words\n",
    "        text.append(line)\n",
    "    return text\n",
    "\n",
    "# Función para obtener un Vocabulario en función del texto procesado\n",
    "\n",
    "def generate_dictinoary_data(text):\n",
    "    word_to_index= dict()\n",
    "    index_to_word = dict()\n",
    "    corpus = []\n",
    "    count = 0\n",
    "    vocab_size = 0\n",
    "    \n",
    "    for row in text:\n",
    "        for word in row.split():\n",
    "            word = word.lower()\n",
    "            corpus.append(word)\n",
    "            if word_to_index.get(word) == None:\n",
    "                word_to_index.update ( {word : count})\n",
    "                index_to_word.update ( {count : word })\n",
    "                count  += 1\n",
    "    vocab_size = len(word_to_index)\n",
    "    length_of_corpus = len(corpus)\n",
    "    \n",
    "    return word_to_index,index_to_word,corpus,vocab_size,length_of_corpus\n",
    "\n",
    "# Función para generar representaciones one hot de los vectores target y del corpus\n",
    "\n",
    "def get_one_hot_vectors(target_word,context_words,vocab_size,word_to_index):\n",
    "    \n",
    "    #Create an array of size = vocab_size filled with zeros\n",
    "    trgt_word_vector = np.zeros(vocab_size)\n",
    "    \n",
    "    #Get the index of the target_word according to the dictionary word_to_index. \n",
    "    index_of_word_dictionary = word_to_index.get(target_word) \n",
    "    \n",
    "    #Set the index to 1\n",
    "    trgt_word_vector[index_of_word_dictionary] = 1\n",
    "    \n",
    "    #Repeat same steps for context_words but in a loop\n",
    "    ctxt_word_vector = np.zeros(vocab_size)\n",
    "    \n",
    "    \n",
    "    for word in context_words:\n",
    "        index_of_word_dictionary = word_to_index.get(word) \n",
    "        ctxt_word_vector[index_of_word_dictionary] = 1\n",
    "        \n",
    "    return trgt_word_vector,ctxt_word_vector\n",
    "\n",
    "# Función para generar los datos de entrenamiento para la red neuronal que representa el modelo word2vec\n",
    "\n",
    "def generate_training_data(corpus,window_size,vocab_size,word_to_index,length_of_corpus,sample=None):\n",
    "\n",
    "    training_data =  []\n",
    "    training_sample_words =  []\n",
    "    for i,word in enumerate(corpus):\n",
    "\n",
    "        index_target_word = i\n",
    "        target_word = word\n",
    "        context_words = []\n",
    "\n",
    "        #when target word is the first word\n",
    "        if i == 0:  \n",
    "\n",
    "            # trgt_word_index:(0), ctxt_word_index:(1,2)\n",
    "            context_words = [corpus[x] for x in range(i + 1 , window_size + 1)] \n",
    "\n",
    "\n",
    "        #when target word is the last word\n",
    "        elif i == len(corpus)-1:\n",
    "\n",
    "            # trgt_word_index:(9), ctxt_word_index:(8,7), length_of_corpus = 10\n",
    "            context_words = [corpus[x] for x in range(length_of_corpus - 2 ,length_of_corpus -2 - window_size  , -1 )]\n",
    "\n",
    "        #When target word is the middle word\n",
    "        else:\n",
    "\n",
    "            #Before the middle target word\n",
    "            before_target_word_index = index_target_word - 1\n",
    "            for x in range(before_target_word_index, before_target_word_index - window_size , -1):\n",
    "                if x >=0:\n",
    "                    context_words.extend([corpus[x]])\n",
    "\n",
    "            #After the middle target word\n",
    "            after_target_word_index = index_target_word + 1\n",
    "            for x in range(after_target_word_index, after_target_word_index + window_size):\n",
    "                if x < len(corpus):\n",
    "                    context_words.extend([corpus[x]])\n",
    "\n",
    "\n",
    "        trgt_word_vector,ctxt_word_vector = get_one_hot_vectors(target_word,context_words,vocab_size,word_to_index)\n",
    "        training_data.append([trgt_word_vector,ctxt_word_vector])   \n",
    "        \n",
    "        if sample is not None:\n",
    "            training_sample_words.append([target_word,context_words])   \n",
    "        \n",
    "    return training_data,training_sample_words"
   ]
  },
  {
   "cell_type": "markdown",
   "metadata": {
    "id": "7uqitzoR6S3o"
   },
   "source": [
    "# Solucion"
   ]
  },
  {
   "cell_type": "markdown",
   "metadata": {},
   "source": [
    "# Punto 2"
   ]
  },
  {
   "cell_type": "code",
   "execution_count": 4,
   "metadata": {
    "id": "cf-0eymC6S3n"
   },
   "outputs": [],
   "source": [
    "# Ejecución del código\n",
    "\n",
    "fname = 'paises' #Nombre del archivo\n",
    "C = 2 # Número de palabras de contexto a la derecha y a la izquierda\n",
    "text = get_file_data(fname, stop_word_removal='no')\n",
    "word_to_index,index_to_word,corpus,vocab_size,length_of_corpus = generate_dictinoary_data(text)\n",
    "training_data,training_sample_words = generate_training_data(corpus,C,vocab_size,word_to_index,length_of_corpus,sample=None)"
   ]
  },
  {
   "cell_type": "code",
   "execution_count": 5,
   "metadata": {
    "id": "7DmaQLxc6S3q"
   },
   "outputs": [],
   "source": [
    "# Matriz de entrada y de salida\n",
    "X = np.array([x[1] for x in training_data])\n",
    "Y = np.array([y[0] for y in training_data])"
   ]
  },
  {
   "cell_type": "code",
   "execution_count": 6,
   "metadata": {
    "id": "lK6lKPYC6S3u"
   },
   "outputs": [],
   "source": [
    "# Definiendo red neuronal\n",
    "model = Sequential()  \n",
    "model.add(Dense(100,input_shape=(vocab_size,), activation='relu'))\n",
    "model.add(Dense(vocab_size, activation='softmax'))\n",
    "\n",
    "model.compile(loss='CategoricalCrossentropy', optimizer='rmsprop', metrics=['accuracy'])  "
   ]
  },
  {
   "cell_type": "code",
   "execution_count": 7,
   "metadata": {
    "colab": {
     "base_uri": "https://localhost:8080/"
    },
    "id": "zqM7OnIV6S3v",
    "outputId": "4ab2c00b-7206-4224-f1c6-6e2de4765b86"
   },
   "outputs": [
    {
     "name": "stdout",
     "output_type": "stream",
     "text": [
      "Epoch 1/50\n",
      "160/160 [==============================] - 1s 8ms/step - loss: 6.7600 - accuracy: 0.0768\n",
      "Epoch 2/50\n",
      "160/160 [==============================] - 1s 8ms/step - loss: 5.9866 - accuracy: 0.0858\n",
      "Epoch 3/50\n",
      "160/160 [==============================] - 1s 7ms/step - loss: 5.7768 - accuracy: 0.0862\n",
      "Epoch 4/50\n",
      "160/160 [==============================] - 1s 7ms/step - loss: 5.6242 - accuracy: 0.0982\n",
      "Epoch 5/50\n",
      "160/160 [==============================] - 1s 7ms/step - loss: 5.4859 - accuracy: 0.1097\n",
      "Epoch 6/50\n",
      "160/160 [==============================] - 1s 7ms/step - loss: 5.3558 - accuracy: 0.1189\n",
      "Epoch 7/50\n",
      "160/160 [==============================] - 1s 7ms/step - loss: 5.2341 - accuracy: 0.1256\n",
      "Epoch 8/50\n",
      "160/160 [==============================] - 1s 7ms/step - loss: 5.1167 - accuracy: 0.1311\n",
      "Epoch 9/50\n",
      "160/160 [==============================] - 1s 7ms/step - loss: 5.0009 - accuracy: 0.1364\n",
      "Epoch 10/50\n",
      "160/160 [==============================] - 1s 8ms/step - loss: 4.8893 - accuracy: 0.1442\n",
      "Epoch 11/50\n",
      "160/160 [==============================] - 1s 8ms/step - loss: 4.7763 - accuracy: 0.1548\n",
      "Epoch 12/50\n",
      "160/160 [==============================] - 1s 7ms/step - loss: 4.6649 - accuracy: 0.1652\n",
      "Epoch 13/50\n",
      "160/160 [==============================] - 1s 7ms/step - loss: 4.5540 - accuracy: 0.1789\n",
      "Epoch 14/50\n",
      "160/160 [==============================] - 1s 7ms/step - loss: 4.4416 - accuracy: 0.1926\n",
      "Epoch 15/50\n",
      "160/160 [==============================] - 1s 7ms/step - loss: 4.3331 - accuracy: 0.2097\n",
      "Epoch 16/50\n",
      "160/160 [==============================] - 1s 7ms/step - loss: 4.2227 - accuracy: 0.2271\n",
      "Epoch 17/50\n",
      "160/160 [==============================] - 1s 7ms/step - loss: 4.1121 - accuracy: 0.2444\n",
      "Epoch 18/50\n",
      "160/160 [==============================] - 1s 7ms/step - loss: 4.0015 - accuracy: 0.2638\n",
      "Epoch 19/50\n",
      "160/160 [==============================] - 1s 7ms/step - loss: 3.8898 - accuracy: 0.2826\n",
      "Epoch 20/50\n",
      "160/160 [==============================] - 1s 7ms/step - loss: 3.7790 - accuracy: 0.3043\n",
      "Epoch 21/50\n",
      "160/160 [==============================] - 1s 7ms/step - loss: 3.6700 - accuracy: 0.3233\n",
      "Epoch 22/50\n",
      "160/160 [==============================] - 1s 8ms/step - loss: 3.5586 - accuracy: 0.3461\n",
      "Epoch 23/50\n",
      "160/160 [==============================] - 1s 8ms/step - loss: 3.4487 - accuracy: 0.3598\n",
      "Epoch 24/50\n",
      "160/160 [==============================] - 1s 7ms/step - loss: 3.3402 - accuracy: 0.3823\n",
      "Epoch 25/50\n",
      "160/160 [==============================] - 1s 7ms/step - loss: 3.2307 - accuracy: 0.4011\n",
      "Epoch 26/50\n",
      "160/160 [==============================] - 1s 8ms/step - loss: 3.1218 - accuracy: 0.4152\n",
      "Epoch 27/50\n",
      "160/160 [==============================] - 1s 7ms/step - loss: 3.0128 - accuracy: 0.4319\n",
      "Epoch 28/50\n",
      "160/160 [==============================] - 1s 7ms/step - loss: 2.9031 - accuracy: 0.4474\n",
      "Epoch 29/50\n",
      "160/160 [==============================] - 1s 7ms/step - loss: 2.7928 - accuracy: 0.4633\n",
      "Epoch 30/50\n",
      "160/160 [==============================] - 1s 7ms/step - loss: 2.6852 - accuracy: 0.4803\n",
      "Epoch 31/50\n",
      "160/160 [==============================] - 1s 7ms/step - loss: 2.5764 - accuracy: 0.4921\n",
      "Epoch 32/50\n",
      "160/160 [==============================] - 1s 7ms/step - loss: 2.4674 - accuracy: 0.5109\n",
      "Epoch 33/50\n",
      "160/160 [==============================] - 1s 7ms/step - loss: 2.3587 - accuracy: 0.5301\n",
      "Epoch 34/50\n",
      "160/160 [==============================] - 1s 7ms/step - loss: 2.2506 - accuracy: 0.5477\n",
      "Epoch 35/50\n",
      "160/160 [==============================] - 1s 7ms/step - loss: 2.1417 - accuracy: 0.5673\n",
      "Epoch 36/50\n",
      "160/160 [==============================] - 1s 7ms/step - loss: 2.0341 - accuracy: 0.5814\n",
      "Epoch 37/50\n",
      "160/160 [==============================] - 1s 8ms/step - loss: 1.9278 - accuracy: 0.5996\n",
      "Epoch 38/50\n",
      "160/160 [==============================] - 1s 8ms/step - loss: 1.8217 - accuracy: 0.6173\n",
      "Epoch 39/50\n",
      "160/160 [==============================] - 1s 7ms/step - loss: 1.7177 - accuracy: 0.6328\n",
      "Epoch 40/50\n",
      "160/160 [==============================] - 1s 7ms/step - loss: 1.6132 - accuracy: 0.6504\n",
      "Epoch 41/50\n",
      "160/160 [==============================] - 1s 8ms/step - loss: 1.5116 - accuracy: 0.6645\n",
      "Epoch 42/50\n",
      "160/160 [==============================] - 1s 7ms/step - loss: 1.4114 - accuracy: 0.6786\n",
      "Epoch 43/50\n",
      "160/160 [==============================] - 1s 7ms/step - loss: 1.3132 - accuracy: 0.6904\n",
      "Epoch 44/50\n",
      "160/160 [==============================] - 1s 8ms/step - loss: 1.2176 - accuracy: 0.7086\n",
      "Epoch 45/50\n",
      "160/160 [==============================] - 1s 8ms/step - loss: 1.1239 - accuracy: 0.7251\n",
      "Epoch 46/50\n",
      "160/160 [==============================] - 1s 8ms/step - loss: 1.0342 - accuracy: 0.7407\n",
      "Epoch 47/50\n",
      "160/160 [==============================] - 1s 8ms/step - loss: 0.9482 - accuracy: 0.7601\n",
      "Epoch 48/50\n",
      "160/160 [==============================] - 1s 8ms/step - loss: 0.8656 - accuracy: 0.7821\n",
      "Epoch 49/50\n",
      "160/160 [==============================] - 1s 8ms/step - loss: 0.7867 - accuracy: 0.8033\n",
      "Epoch 50/50\n",
      "160/160 [==============================] - 1s 7ms/step - loss: 0.7127 - accuracy: 0.8244\n"
     ]
    },
    {
     "data": {
      "text/plain": [
       "<tensorflow.python.keras.callbacks.History at 0x7f38c425d310>"
      ]
     },
     "execution_count": 7,
     "metadata": {},
     "output_type": "execute_result"
    }
   ],
   "source": [
    "# Entrenando\n",
    "model.fit(X,Y,epochs=50)"
   ]
  },
  {
   "cell_type": "code",
   "execution_count": 8,
   "metadata": {},
   "outputs": [],
   "source": [
    "# Obteniendo representaciones de los vectores con las matrices de pesos\n",
    "W1 = model.get_weights()[0]\n",
    "W2 = model.get_weights()[2]\n",
    "D = 0.5*(W2.T+W1)"
   ]
  },
  {
   "cell_type": "markdown",
   "metadata": {
    "id": "c0WIE7O46S3y"
   },
   "source": [
    "# Punto 3: Calculando relaciones entre paises y capitales"
   ]
  },
  {
   "cell_type": "code",
   "execution_count": 9,
   "metadata": {
    "id": "jeqvxj3v6S30"
   },
   "outputs": [],
   "source": [
    "# Obteniendo indices de los vectores que representan los paises y capitales\n",
    "peru_index      = word_to_index['peru']\n",
    "lima_index      = word_to_index['lima']\n",
    "\n",
    "nepal_index     = word_to_index['nepal']\n",
    "katmandu_index  = word_to_index['katmandu']\n",
    "\n",
    "brunei_index    = word_to_index['brunei']\n",
    "bandar_index    = word_to_index['bandar']\n",
    "\n",
    "canada_index    = word_to_index['canada']\n",
    "ottawa_index    = word_to_index['ottawa']\n",
    "\n",
    "dinamarca_index = word_to_index['dinamarca']\n",
    "copenhague_index = word_to_index['copenhague']\n",
    "\n",
    "gambia_index    = word_to_index['gambia']\n",
    "banjul_index    = word_to_index['banjul'] "
   ]
  },
  {
   "cell_type": "code",
   "execution_count": 10,
   "metadata": {
    "id": "LP7VADPx6S30"
   },
   "outputs": [],
   "source": [
    "# Obteniendo los vectores que representan los paises y capitales\n",
    "peru = D[peru_index]\n",
    "lima = D[lima_index]\n",
    "\n",
    "nepal = D[nepal_index]\n",
    "katmandu = D[katmandu_index]\n",
    "\n",
    "brunei = D[brunei_index]\n",
    "bandar = D[bandar_index]\n",
    "\n",
    "canada = D[canada_index]\n",
    "ottawa = D[ottawa_index]\n",
    "\n",
    "dinamarca = D[dinamarca_index]\n",
    "copenhague = D[copenhague_index]\n",
    "\n",
    "gambia = D[gambia_index]\n",
    "banjul = D[banjul_index]"
   ]
  },
  {
   "cell_type": "code",
   "execution_count": 11,
   "metadata": {
    "id": "HbzucVPr6S31"
   },
   "outputs": [],
   "source": [
    "# Calculando relaciones entre paises y capitales\n",
    "\n",
    "r_peru   = peru-lima\n",
    "r_nepal  = nepal- katmandu\n",
    "r_brunei = brunei-bandar\n",
    "r_canada = canada-ottawa\n",
    "r_dinamarca = dinamarca-copenhague\n",
    "\n",
    "# Vector representativo\n",
    "capital = np.array([r_peru,r_nepal,r_brunei,r_canada,r_dinamarca]).mean(axis=0)"
   ]
  },
  {
   "cell_type": "markdown",
   "metadata": {},
   "source": [
    "# Punto 4: Locally Sensitive Hashing"
   ]
  },
  {
   "cell_type": "code",
   "execution_count": 219,
   "metadata": {
    "id": "IJoDEKLq6S32"
   },
   "outputs": [],
   "source": [
    "# Modelo con 4 divisiones y vectores de R^100\n",
    "lsh = lshash.LSHash(4, 100,num_hashtables=10)\n",
    "\n",
    "for word in D:\n",
    "    lsh.index(word)"
   ]
  },
  {
   "cell_type": "code",
   "execution_count": 220,
   "metadata": {},
   "outputs": [],
   "source": [
    "# Funcion para obtener el indice de un vector en la matriz\n",
    "def getIndex(D,v):\n",
    "    k = np.where(D==v)[0].tolist()\n",
    "    i = max(set(k),key=k.count)\n",
    "    return i"
   ]
  },
  {
   "cell_type": "markdown",
   "metadata": {},
   "source": [
    "### Peru"
   ]
  },
  {
   "cell_type": "code",
   "execution_count": 221,
   "metadata": {},
   "outputs": [
    {
     "data": {
      "text/plain": [
       "True"
      ]
     },
     "execution_count": 221,
     "metadata": {},
     "output_type": "execute_result"
    }
   ],
   "source": [
    "# Consultando vector en el modelo\n",
    "nn = lsh.query(list(peru+capital), distance_func=\"cosine\")\n",
    "\n",
    "# Verificando que existe\n",
    "'lima' in [index_to_word[getIndex(D,nn[i][0][0])] for i in range(len(nn))]"
   ]
  },
  {
   "cell_type": "markdown",
   "metadata": {},
   "source": [
    "### Nepal"
   ]
  },
  {
   "cell_type": "code",
   "execution_count": 222,
   "metadata": {
    "colab": {
     "base_uri": "https://localhost:8080/"
    },
    "id": "GngtdWmy7Iim",
    "outputId": "1260270d-e29a-4098-df12-5969b05e41e2"
   },
   "outputs": [
    {
     "data": {
      "text/plain": [
       "True"
      ]
     },
     "execution_count": 222,
     "metadata": {},
     "output_type": "execute_result"
    }
   ],
   "source": [
    "# Consultando vector en el modelo\n",
    "nn = lsh.query(list(nepal+capital), distance_func=\"cosine\")\n",
    "\n",
    "# Verificando que existe\n",
    "'katmandu' in [index_to_word[getIndex(D,nn[i][0][0])] for i in range(len(nn))]"
   ]
  },
  {
   "cell_type": "markdown",
   "metadata": {},
   "source": [
    "### Brunei"
   ]
  },
  {
   "cell_type": "code",
   "execution_count": 223,
   "metadata": {},
   "outputs": [
    {
     "data": {
      "text/plain": [
       "True"
      ]
     },
     "execution_count": 223,
     "metadata": {},
     "output_type": "execute_result"
    }
   ],
   "source": [
    "# Consultando vector en el modelo\n",
    "nn = lsh.query(list(brunei+capital), distance_func=\"cosine\")\n",
    "\n",
    "# Verificando que existe\n",
    "'bandar' in [index_to_word[getIndex(D,nn[i][0][0])] for i in range(len(nn))]"
   ]
  },
  {
   "cell_type": "markdown",
   "metadata": {},
   "source": [
    "### Canada"
   ]
  },
  {
   "cell_type": "code",
   "execution_count": 224,
   "metadata": {},
   "outputs": [
    {
     "data": {
      "text/plain": [
       "True"
      ]
     },
     "execution_count": 224,
     "metadata": {},
     "output_type": "execute_result"
    }
   ],
   "source": [
    "# Consultando vector en el modelo\n",
    "nn = lsh.query(list(canada+capital), distance_func=\"cosine\")\n",
    "\n",
    "# Verificando que existe\n",
    "'ottawa' in [index_to_word[getIndex(D,nn[i][0][0])] for i in range(len(nn))]"
   ]
  },
  {
   "cell_type": "markdown",
   "metadata": {},
   "source": [
    "### Dinamarca"
   ]
  },
  {
   "cell_type": "code",
   "execution_count": 225,
   "metadata": {},
   "outputs": [
    {
     "data": {
      "text/plain": [
       "True"
      ]
     },
     "execution_count": 225,
     "metadata": {},
     "output_type": "execute_result"
    }
   ],
   "source": [
    "# Consultando vector en el modelo\n",
    "nn = lsh.query(list(dinamarca+capital), distance_func=\"cosine\")\n",
    "\n",
    "# Verificando que existe\n",
    "'copenhague' in [index_to_word[getIndex(D,nn[i][0][0])] for i in range(len(nn))]"
   ]
  },
  {
   "cell_type": "markdown",
   "metadata": {},
   "source": [
    "### Gambia"
   ]
  },
  {
   "cell_type": "code",
   "execution_count": 226,
   "metadata": {},
   "outputs": [
    {
     "data": {
      "text/plain": [
       "True"
      ]
     },
     "execution_count": 226,
     "metadata": {},
     "output_type": "execute_result"
    }
   ],
   "source": [
    "# Consultando vector en el modelo\n",
    "nn = lsh.query(list(gambia+capital), distance_func=\"cosine\")\n",
    "\n",
    "# Verificando que existe\n",
    "'banjul' in [index_to_word[getIndex(D,nn[i][0][0])] for i in range(len(nn))]"
   ]
  },
  {
   "cell_type": "markdown",
   "metadata": {},
   "source": [
    "# Punto 5: Graficando vectores de paises y capitales con PCA"
   ]
  },
  {
   "cell_type": "code",
   "execution_count": 16,
   "metadata": {},
   "outputs": [],
   "source": [
    "M_pais = ['peru','nepal','brunei','canada','dinamarca','gambia','lima','katmandu','bandar','ottawa','copenhague','banjul']\n",
    "M_indx = [word_to_index[word] for word in M_pais]\n",
    "M = D[M_indx,:]"
   ]
  },
  {
   "cell_type": "markdown",
   "metadata": {},
   "source": [
    "## 2D"
   ]
  },
  {
   "cell_type": "code",
   "execution_count": null,
   "metadata": {},
   "outputs": [],
   "source": [
    "# Aplicando PCA con 3 componentes\n",
    "pca = PCA(n_components=2)\n",
    "pca.fit(M.T)\n",
    "\n",
    "print(\"Varianza explicada: \",pca.explained_variance_ratio_)"
   ]
  },
  {
   "cell_type": "code",
   "execution_count": 47,
   "metadata": {},
   "outputs": [
    {
     "data": {
      "image/png": "[encoded data removed]",
      "text/plain": [
       "<Figure size 576x576 with 1 Axes>"
      ]
     },
     "metadata": {
      "needs_background": "light"
     },
     "output_type": "display_data"
    }
   ],
   "source": [
    "fig = plt.figure(figsize=(8,8))\n",
    "ax = plt.axes()\n",
    "\n",
    "x = pca.components_[0,:]\n",
    "y = pca.components_[1,:]\n",
    "\n",
    "labels = ['peru','nepal','brunei','canada','dinamarca','gambia','lima','katmandu','bandar','ottawa','copenhague','banjul']\n",
    "\n",
    "plt.scatter(x[0:6],y[0:6],color='b')\n",
    "plt.scatter(x[6:],y[6:],color='r')\n",
    "\n",
    "for label in range(12):\n",
    "    ax.text(xdata[label],ydata[label],labels[label])"
   ]
  },
  {
   "cell_type": "markdown",
   "metadata": {},
   "source": [
    "## 3D"
   ]
  },
  {
   "cell_type": "code",
   "execution_count": 17,
   "metadata": {
    "colab": {
     "base_uri": "https://localhost:8080/"
    },
    "id": "CtBwaR3o6S34",
    "outputId": "72aa4da1-fa0e-41d0-887d-5cfb997225b4"
   },
   "outputs": [
    {
     "name": "stdout",
     "output_type": "stream",
     "text": [
      "Varianza explicada:  [0.22434783 0.12191194 0.1189066 ]\n"
     ]
    }
   ],
   "source": [
    "# Aplicando PCA con 3 componentes\n",
    "pca = PCA(n_components=3)\n",
    "pca.fit(M.T)\n",
    "\n",
    "print(\"Varianza explicada: \",pca.explained_variance_ratio_)"
   ]
  },
  {
   "cell_type": "code",
   "execution_count": 19,
   "metadata": {
    "colab": {
     "base_uri": "https://localhost:8080/",
     "height": 575
    },
    "id": "J9QoZZpbScdq",
    "outputId": "2c456b4a-44a8-47a7-8488-d7dac1b1c37c"
   },
   "outputs": [
    {
     "data": {
      "image/png": "[encoded data removed]",
      "text/plain": [
       "<Figure size 720x720 with 1 Axes>"
      ]
     },
     "metadata": {
      "needs_background": "light"
     },
     "output_type": "display_data"
    }
   ],
   "source": [
    "# Graficando las componentes de PCA\n",
    "fig = plt.figure(figsize=(10,10))\n",
    "ax = plt.axes(projection='3d')\n",
    "\n",
    "\n",
    "labels = ['peru','nepal','brunei','canada','dinamarca','gambia','lima','katmandu','bandar','ottawa','copenhague','banjul']\n",
    "\n",
    "# componentes de PCA\n",
    "xdata = pca.components_[0,:]\n",
    "ydata = pca.components_[1,:]\n",
    "zdata = pca.components_[2,:]\n",
    "\n",
    "ax.scatter3D(xdata[0:6], ydata[0:6], zdata[0:6],color='b')\n",
    "ax.scatter3D(xdata[6:], ydata[6:], zdata[6:],color='r')\n",
    "\n",
    "for label in range(12):\n",
    "    ax.text(xdata[label],ydata[label],zdata[label],labels[label])"
   ]
  },
  {
   "cell_type": "markdown",
   "metadata": {
    "id": "5Uc0c3R4Z99k"
   },
   "source": [
    "# Punto 6: Encontrando sinonimos"
   ]
  },
  {
   "cell_type": "code",
   "execution_count": 20,
   "metadata": {
    "id": "MwQuP6W4Z_MX"
   },
   "outputs": [],
   "source": [
    "# Modelo con 4 divisiones y vectores de R^100\n",
    "lsh = lshash.LSHash(4, 100)\n",
    "\n",
    "for word in D:\n",
    "    lsh.index(word)"
   ]
  },
  {
   "cell_type": "code",
   "execution_count": 21,
   "metadata": {
    "id": "Du9C6hYzaOtL"
   },
   "outputs": [],
   "source": [
    "# Palabras a buscar sinonimos\n",
    "words = ['restos','mundo','antigua','comunidades','divide']\n",
    "\n",
    "# Indices y vectores de las palabras\n",
    "words_indx = [word_to_index[w] for w in words]\n",
    "indx_vec = [D[i] for i in words_indx]"
   ]
  },
  {
   "cell_type": "code",
   "execution_count": 22,
   "metadata": {
    "colab": {
     "base_uri": "https://localhost:8080/"
    },
    "id": "GyJiHmQxaLFn",
    "outputId": "f41a720f-e988-4e7c-c34e-3a1e7849cc14"
   },
   "outputs": [
    {
     "name": "stdout",
     "output_type": "stream",
     "text": [
      "['restos', 'acumulacion', 'extensa', 'tratandose', 'longitud', 'comenzara', 'transformacion', 'dictadura', 'red', 'dominante']\n",
      "['mundo', 'mismo', 'mayapajit', 'algodon', 'nivel', 'anchura', 'produccion', 'guano', 'intenso', 'maxima']\n",
      "['antigua', 'ricas', 'extenso', 'rural', 'civilizacion', 'longitud', 'frescas', 'antiguas', 'quinta', 'popular']\n",
      "['comunidades', 'algunas', 'benin', 'enfermedades', 'piezas', 'guerras', 'parlamentarias', 'lineas', 'venezuela', 'alrededor']\n",
      "['divide', 'mantuvo', 'definieron', 'separados', 'libro', 'retiraron', 'organiza', 'aldea', 'articula', 'unieron']\n"
     ]
    }
   ],
   "source": [
    "# Buscando las 10 palabras que mas se parecen\n",
    "top = 10\n",
    "for word in indx_vec:\n",
    "    vecinos = lsh.query(word.tolist(),num_results=top,distance_func='cosine')\n",
    "    print([index_to_word[getIndex(D,vecinos[i][0][0])] for i in range(len(vecinos))])"
   ]
  },
  {
   "cell_type": "markdown",
   "metadata": {
    "id": "VQwqqZMMlw_1"
   },
   "source": [
    "# Punto 7 y 8: obteniendo corpus y representación de vectores"
   ]
  },
  {
   "cell_type": "markdown",
   "metadata": {},
   "source": [
    "### Español"
   ]
  },
  {
   "cell_type": "code",
   "execution_count": 73,
   "metadata": {
    "id": "lvzAc0m5lyQA"
   },
   "outputs": [],
   "source": [
    "# Ejecución del código\n",
    "\n",
    "fname = 'cuento.txt' #Nombre del archivo\n",
    "C_E = 2 # Número de palabras de contexto a la derecha y a la izquierda\n",
    "text_E = get_file_data(fname, stop_word_removal='no')\n",
    "word_to_index_E,index_to_word_E,corpus_E,vocab_size_E,length_of_corpus_E = generate_dictinoary_data(text_E)\n",
    "training_data_E,training_sample_words_E = generate_training_data(corpus_E,C_E,vocab_size_E,word_to_index_E,length_of_corpus_E,sample=None)"
   ]
  },
  {
   "cell_type": "code",
   "execution_count": 74,
   "metadata": {},
   "outputs": [
    {
     "data": {
      "text/plain": [
       "1027"
      ]
     },
     "execution_count": 74,
     "metadata": {},
     "output_type": "execute_result"
    }
   ],
   "source": [
    "vocab_size_E"
   ]
  },
  {
   "cell_type": "code",
   "execution_count": 75,
   "metadata": {},
   "outputs": [],
   "source": [
    "# Definiendo red neuronal\n",
    "model_E = Sequential()  \n",
    "model_E.add(Dense(50,input_shape=(vocab_size_E,), activation='relu'))\n",
    "model_E.add(Dense(vocab_size_E, activation='softmax'))\n",
    "\n",
    "model_E.compile(loss='CategoricalCrossentropy', optimizer='rmsprop', metrics=['accuracy'])  "
   ]
  },
  {
   "cell_type": "code",
   "execution_count": 88,
   "metadata": {},
   "outputs": [
    {
     "name": "stdout",
     "output_type": "stream",
     "text": [
      "Epoch 1/100\n",
      "53/53 [==============================] - 1s 11ms/step - loss: 4.0299 - accuracy: 0.7199 - val_loss: 4.1520 - val_accuracy: 0.7007\n",
      "Epoch 2/100\n",
      "53/53 [==============================] - 1s 10ms/step - loss: 3.7723 - accuracy: 0.7193 - val_loss: 4.0498 - val_accuracy: 0.7007\n",
      "Epoch 3/100\n",
      "53/53 [==============================] - 1s 9ms/step - loss: 3.5580 - accuracy: 0.7229 - val_loss: 3.9632 - val_accuracy: 0.7007\n",
      "Epoch 4/100\n",
      "53/53 [==============================] - 1s 10ms/step - loss: 3.3616 - accuracy: 0.7247 - val_loss: 3.8940 - val_accuracy: 0.7007\n",
      "Epoch 5/100\n",
      "53/53 [==============================] - 1s 10ms/step - loss: 3.1829 - accuracy: 0.7259 - val_loss: 3.8385 - val_accuracy: 0.7007\n",
      "Epoch 6/100\n",
      "53/53 [==============================] - 1s 19ms/step - loss: 3.0144 - accuracy: 0.7289 - val_loss: 3.7966 - val_accuracy: 0.6993\n",
      "Epoch 7/100\n",
      "53/53 [==============================] - 1s 27ms/step - loss: 2.8575 - accuracy: 0.7307 - val_loss: 3.7649 - val_accuracy: 0.7021\n",
      "Epoch 8/100\n",
      "53/53 [==============================] - 3s 48ms/step - loss: 2.7118 - accuracy: 0.7331 - val_loss: 3.7425 - val_accuracy: 0.6979\n",
      "Epoch 9/100\n",
      "53/53 [==============================] - 0s 8ms/step - loss: 2.5713 - accuracy: 0.7367 - val_loss: 3.7261 - val_accuracy: 0.6951\n",
      "Epoch 10/100\n",
      "53/53 [==============================] - 1s 10ms/step - loss: 2.4396 - accuracy: 0.7385 - val_loss: 3.7121 - val_accuracy: 0.6923\n",
      "Epoch 11/100\n",
      "53/53 [==============================] - 1s 10ms/step - loss: 2.3142 - accuracy: 0.7403 - val_loss: 3.7018 - val_accuracy: 0.6895\n",
      "Epoch 12/100\n",
      "53/53 [==============================] - 3s 63ms/step - loss: 2.1952 - accuracy: 0.7457 - val_loss: 3.7060 - val_accuracy: 0.6881\n",
      "Epoch 13/100\n",
      "53/53 [==============================] - 3s 56ms/step - loss: 2.0823 - accuracy: 0.7457 - val_loss: 3.7063 - val_accuracy: 0.6811\n",
      "Epoch 14/100\n",
      "53/53 [==============================] - 1s 17ms/step - loss: 1.9749 - accuracy: 0.7499 - val_loss: 3.7166 - val_accuracy: 0.6755\n",
      "Epoch 15/100\n",
      "53/53 [==============================] - 1s 15ms/step - loss: 1.8693 - accuracy: 0.7546 - val_loss: 3.7266 - val_accuracy: 0.6713\n",
      "Epoch 16/100\n",
      "53/53 [==============================] - 1s 16ms/step - loss: 1.7688 - accuracy: 0.7588 - val_loss: 3.7418 - val_accuracy: 0.6671\n",
      "Epoch 17/100\n",
      "53/53 [==============================] - 1s 22ms/step - loss: 1.6714 - accuracy: 0.7624 - val_loss: 3.7599 - val_accuracy: 0.6657\n",
      "Epoch 18/100\n",
      "53/53 [==============================] - 2s 46ms/step - loss: 1.5773 - accuracy: 0.7696 - val_loss: 3.7829 - val_accuracy: 0.6559\n",
      "Epoch 19/100\n",
      "53/53 [==============================] - 1s 11ms/step - loss: 1.4856 - accuracy: 0.7726 - val_loss: 3.8081 - val_accuracy: 0.6517\n",
      "Epoch 20/100\n",
      "53/53 [==============================] - 1s 13ms/step - loss: 1.3984 - accuracy: 0.7780 - val_loss: 3.8358 - val_accuracy: 0.6434\n",
      "Epoch 21/100\n",
      "53/53 [==============================] - 1s 13ms/step - loss: 1.3147 - accuracy: 0.7798 - val_loss: 3.8627 - val_accuracy: 0.6336\n",
      "Epoch 22/100\n",
      "53/53 [==============================] - 0s 7ms/step - loss: 1.2303 - accuracy: 0.7876 - val_loss: 3.8961 - val_accuracy: 0.6238\n",
      "Epoch 23/100\n",
      "53/53 [==============================] - 1s 10ms/step - loss: 1.1507 - accuracy: 0.7906 - val_loss: 3.9293 - val_accuracy: 0.6224\n",
      "Epoch 24/100\n",
      "53/53 [==============================] - 1s 10ms/step - loss: 1.0725 - accuracy: 0.7942 - val_loss: 3.9654 - val_accuracy: 0.6182\n",
      "Epoch 25/100\n",
      "53/53 [==============================] - 1s 10ms/step - loss: 0.9960 - accuracy: 0.7996 - val_loss: 3.9995 - val_accuracy: 0.6154\n",
      "Epoch 26/100\n",
      "53/53 [==============================] - 1s 14ms/step - loss: 0.9233 - accuracy: 0.8050 - val_loss: 4.0359 - val_accuracy: 0.6070\n",
      "Epoch 27/100\n",
      "53/53 [==============================] - 0s 8ms/step - loss: 0.8523 - accuracy: 0.8104 - val_loss: 4.0698 - val_accuracy: 0.6070\n",
      "Epoch 28/100\n",
      "53/53 [==============================] - 0s 9ms/step - loss: 0.7834 - accuracy: 0.8134 - val_loss: 4.1105 - val_accuracy: 0.6056\n",
      "Epoch 29/100\n",
      "53/53 [==============================] - 1s 14ms/step - loss: 0.7170 - accuracy: 0.8212 - val_loss: 4.1466 - val_accuracy: 0.5972\n",
      "Epoch 30/100\n",
      "53/53 [==============================] - 1s 11ms/step - loss: 0.6548 - accuracy: 0.8308 - val_loss: 4.1845 - val_accuracy: 0.5958\n",
      "Epoch 31/100\n",
      "53/53 [==============================] - 1s 14ms/step - loss: 0.5932 - accuracy: 0.8470 - val_loss: 4.2242 - val_accuracy: 0.5902\n",
      "Epoch 32/100\n",
      "53/53 [==============================] - 1s 16ms/step - loss: 0.5363 - accuracy: 0.8668 - val_loss: 4.2589 - val_accuracy: 0.5874\n",
      "Epoch 33/100\n",
      "53/53 [==============================] - 0s 9ms/step - loss: 0.4828 - accuracy: 0.8848 - val_loss: 4.2988 - val_accuracy: 0.5818\n",
      "Epoch 34/100\n",
      "53/53 [==============================] - 1s 18ms/step - loss: 0.4331 - accuracy: 0.8992 - val_loss: 4.3351 - val_accuracy: 0.5790\n",
      "Epoch 35/100\n",
      "53/53 [==============================] - 4s 80ms/step - loss: 0.3877 - accuracy: 0.9202 - val_loss: 4.3773 - val_accuracy: 0.5776\n",
      "Epoch 36/100\n",
      "53/53 [==============================] - 1s 10ms/step - loss: 0.3459 - accuracy: 0.9280 - val_loss: 4.4131 - val_accuracy: 0.5720\n",
      "Epoch 37/100\n",
      "53/53 [==============================] - 1s 10ms/step - loss: 0.3093 - accuracy: 0.9388 - val_loss: 4.4499 - val_accuracy: 0.5664\n",
      "Epoch 38/100\n",
      "53/53 [==============================] - 0s 9ms/step - loss: 0.2752 - accuracy: 0.9460 - val_loss: 4.4836 - val_accuracy: 0.5650\n",
      "Epoch 39/100\n",
      "53/53 [==============================] - 0s 9ms/step - loss: 0.2450 - accuracy: 0.9514 - val_loss: 4.5143 - val_accuracy: 0.5650\n",
      "Epoch 40/100\n",
      "53/53 [==============================] - 0s 9ms/step - loss: 0.2182 - accuracy: 0.9586 - val_loss: 4.5493 - val_accuracy: 0.5622\n",
      "Epoch 41/100\n",
      "53/53 [==============================] - 0s 8ms/step - loss: 0.1938 - accuracy: 0.9628 - val_loss: 4.5858 - val_accuracy: 0.5552\n",
      "Epoch 42/100\n",
      "53/53 [==============================] - 0s 8ms/step - loss: 0.1728 - accuracy: 0.9682 - val_loss: 4.6172 - val_accuracy: 0.5510\n",
      "Epoch 43/100\n",
      "53/53 [==============================] - 0s 8ms/step - loss: 0.1532 - accuracy: 0.9742 - val_loss: 4.6495 - val_accuracy: 0.5455\n",
      "Epoch 44/100\n",
      "53/53 [==============================] - 1s 12ms/step - loss: 0.1356 - accuracy: 0.9748 - val_loss: 4.6747 - val_accuracy: 0.5441\n",
      "Epoch 45/100\n",
      "53/53 [==============================] - 1s 10ms/step - loss: 0.1208 - accuracy: 0.9790 - val_loss: 4.7048 - val_accuracy: 0.5427\n",
      "Epoch 46/100\n",
      "53/53 [==============================] - 0s 9ms/step - loss: 0.1069 - accuracy: 0.9850 - val_loss: 4.7319 - val_accuracy: 0.5413\n",
      "Epoch 47/100\n",
      "53/53 [==============================] - 1s 10ms/step - loss: 0.0953 - accuracy: 0.9862 - val_loss: 4.7547 - val_accuracy: 0.5385\n",
      "Epoch 48/100\n",
      "53/53 [==============================] - 1s 12ms/step - loss: 0.0846 - accuracy: 0.9880 - val_loss: 4.7826 - val_accuracy: 0.5287\n",
      "Epoch 49/100\n",
      "53/53 [==============================] - 1s 16ms/step - loss: 0.0751 - accuracy: 0.9898 - val_loss: 4.8083 - val_accuracy: 0.5343\n",
      "Epoch 50/100\n",
      "53/53 [==============================] - 2s 29ms/step - loss: 0.0665 - accuracy: 0.9910 - val_loss: 4.8255 - val_accuracy: 0.5259\n",
      "Epoch 51/100\n",
      "53/53 [==============================] - 1s 10ms/step - loss: 0.0597 - accuracy: 0.9904 - val_loss: 4.8439 - val_accuracy: 0.5189\n",
      "Epoch 52/100\n",
      "53/53 [==============================] - 1s 16ms/step - loss: 0.0528 - accuracy: 0.9934 - val_loss: 4.8672 - val_accuracy: 0.5189\n",
      "Epoch 53/100\n",
      "53/53 [==============================] - 2s 34ms/step - loss: 0.0468 - accuracy: 0.9946 - val_loss: 4.8946 - val_accuracy: 0.5119\n",
      "Epoch 54/100\n",
      "53/53 [==============================] - 1s 17ms/step - loss: 0.0415 - accuracy: 0.9958 - val_loss: 4.9168 - val_accuracy: 0.5063\n",
      "Epoch 55/100\n",
      "53/53 [==============================] - 1s 14ms/step - loss: 0.0369 - accuracy: 0.9964 - val_loss: 4.9428 - val_accuracy: 0.5021\n",
      "Epoch 56/100\n",
      "53/53 [==============================] - 0s 8ms/step - loss: 0.0330 - accuracy: 0.9958 - val_loss: 4.9595 - val_accuracy: 0.4993\n",
      "Epoch 57/100\n",
      "53/53 [==============================] - 0s 9ms/step - loss: 0.0293 - accuracy: 0.9964 - val_loss: 4.9793 - val_accuracy: 0.5021\n",
      "Epoch 58/100\n"
     ]
    },
    {
     "name": "stdout",
     "output_type": "stream",
     "text": [
      "53/53 [==============================] - 0s 8ms/step - loss: 0.0266 - accuracy: 0.9970 - val_loss: 4.9991 - val_accuracy: 0.4965\n",
      "Epoch 59/100\n",
      "53/53 [==============================] - 0s 9ms/step - loss: 0.0237 - accuracy: 0.9976 - val_loss: 5.0218 - val_accuracy: 0.4951\n",
      "Epoch 60/100\n",
      "53/53 [==============================] - 0s 9ms/step - loss: 0.0214 - accuracy: 0.9976 - val_loss: 5.0488 - val_accuracy: 0.4909\n",
      "Epoch 61/100\n",
      "53/53 [==============================] - 0s 9ms/step - loss: 0.0189 - accuracy: 0.9976 - val_loss: 5.0654 - val_accuracy: 0.4951\n",
      "Epoch 62/100\n",
      "53/53 [==============================] - 0s 9ms/step - loss: 0.0172 - accuracy: 0.9976 - val_loss: 5.0823 - val_accuracy: 0.4895\n",
      "Epoch 63/100\n",
      "53/53 [==============================] - 0s 9ms/step - loss: 0.0157 - accuracy: 0.9976 - val_loss: 5.1023 - val_accuracy: 0.4867\n",
      "Epoch 64/100\n",
      "53/53 [==============================] - 0s 9ms/step - loss: 0.0146 - accuracy: 0.9988 - val_loss: 5.1137 - val_accuracy: 0.4895\n",
      "Epoch 65/100\n",
      "53/53 [==============================] - 1s 13ms/step - loss: 0.0130 - accuracy: 0.9982 - val_loss: 5.1295 - val_accuracy: 0.4839\n",
      "Epoch 66/100\n",
      "53/53 [==============================] - 0s 9ms/step - loss: 0.0118 - accuracy: 0.9982 - val_loss: 5.1520 - val_accuracy: 0.4825\n",
      "Epoch 67/100\n",
      "53/53 [==============================] - 1s 10ms/step - loss: 0.0109 - accuracy: 0.9976 - val_loss: 5.1712 - val_accuracy: 0.4811\n",
      "Epoch 68/100\n",
      "53/53 [==============================] - 1s 11ms/step - loss: 0.0101 - accuracy: 0.9982 - val_loss: 5.1823 - val_accuracy: 0.4811\n",
      "Epoch 69/100\n",
      "53/53 [==============================] - 0s 9ms/step - loss: 0.0094 - accuracy: 0.9982 - val_loss: 5.1952 - val_accuracy: 0.4783\n",
      "Epoch 70/100\n",
      "53/53 [==============================] - 1s 13ms/step - loss: 0.0085 - accuracy: 0.9982 - val_loss: 5.2135 - val_accuracy: 0.4811\n",
      "Epoch 71/100\n",
      "53/53 [==============================] - 0s 8ms/step - loss: 0.0081 - accuracy: 0.9982 - val_loss: 5.2264 - val_accuracy: 0.4811\n",
      "Epoch 72/100\n",
      "53/53 [==============================] - 0s 9ms/step - loss: 0.0076 - accuracy: 0.9988 - val_loss: 5.2406 - val_accuracy: 0.4783\n",
      "Epoch 73/100\n",
      "53/53 [==============================] - 0s 8ms/step - loss: 0.0070 - accuracy: 0.9982 - val_loss: 5.2661 - val_accuracy: 0.4783\n",
      "Epoch 74/100\n",
      "53/53 [==============================] - 1s 15ms/step - loss: 0.0067 - accuracy: 0.9988 - val_loss: 5.2820 - val_accuracy: 0.4741\n",
      "Epoch 75/100\n",
      "53/53 [==============================] - 1s 17ms/step - loss: 0.0062 - accuracy: 0.9988 - val_loss: 5.2985 - val_accuracy: 0.4727\n",
      "Epoch 76/100\n",
      "53/53 [==============================] - 4s 75ms/step - loss: 0.0059 - accuracy: 0.9982 - val_loss: 5.3172 - val_accuracy: 0.4699\n",
      "Epoch 77/100\n",
      "53/53 [==============================] - 0s 8ms/step - loss: 0.0055 - accuracy: 0.9988 - val_loss: 5.3384 - val_accuracy: 0.4685\n",
      "Epoch 78/100\n",
      "53/53 [==============================] - 0s 9ms/step - loss: 0.0053 - accuracy: 0.9988 - val_loss: 5.3564 - val_accuracy: 0.4657\n",
      "Epoch 79/100\n",
      "53/53 [==============================] - 1s 12ms/step - loss: 0.0051 - accuracy: 0.9982 - val_loss: 5.3747 - val_accuracy: 0.4671\n",
      "Epoch 80/100\n",
      "53/53 [==============================] - 0s 8ms/step - loss: 0.0048 - accuracy: 0.9976 - val_loss: 5.3916 - val_accuracy: 0.4657\n",
      "Epoch 81/100\n",
      "53/53 [==============================] - 0s 8ms/step - loss: 0.0045 - accuracy: 0.9982 - val_loss: 5.4109 - val_accuracy: 0.4615\n",
      "Epoch 82/100\n",
      "53/53 [==============================] - 0s 8ms/step - loss: 0.0043 - accuracy: 0.9988 - val_loss: 5.4287 - val_accuracy: 0.4615\n",
      "Epoch 83/100\n",
      "53/53 [==============================] - 1s 10ms/step - loss: 0.0042 - accuracy: 0.9982 - val_loss: 5.4424 - val_accuracy: 0.4559\n",
      "Epoch 84/100\n",
      "53/53 [==============================] - 0s 9ms/step - loss: 0.0040 - accuracy: 0.9982 - val_loss: 5.4669 - val_accuracy: 0.4559\n",
      "Epoch 85/100\n",
      "53/53 [==============================] - 1s 10ms/step - loss: 0.0038 - accuracy: 0.9982 - val_loss: 5.4815 - val_accuracy: 0.4490\n",
      "Epoch 86/100\n",
      "53/53 [==============================] - 0s 8ms/step - loss: 0.0038 - accuracy: 0.9982 - val_loss: 5.4985 - val_accuracy: 0.4476\n",
      "Epoch 87/100\n",
      "53/53 [==============================] - 1s 11ms/step - loss: 0.0037 - accuracy: 0.9982 - val_loss: 5.5209 - val_accuracy: 0.4503\n",
      "Epoch 88/100\n",
      "53/53 [==============================] - 0s 9ms/step - loss: 0.0036 - accuracy: 0.9982 - val_loss: 5.5387 - val_accuracy: 0.4490\n",
      "Epoch 89/100\n",
      "53/53 [==============================] - 0s 9ms/step - loss: 0.0034 - accuracy: 0.9976 - val_loss: 5.5586 - val_accuracy: 0.4392\n",
      "Epoch 90/100\n",
      "53/53 [==============================] - 1s 13ms/step - loss: 0.0033 - accuracy: 0.9982 - val_loss: 5.5778 - val_accuracy: 0.4434\n",
      "Epoch 91/100\n",
      "53/53 [==============================] - 1s 12ms/step - loss: 0.0032 - accuracy: 0.9982 - val_loss: 5.5906 - val_accuracy: 0.4392\n",
      "Epoch 92/100\n",
      "53/53 [==============================] - 1s 10ms/step - loss: 0.0033 - accuracy: 0.9982 - val_loss: 5.6048 - val_accuracy: 0.4350\n",
      "Epoch 93/100\n",
      "53/53 [==============================] - 0s 8ms/step - loss: 0.0030 - accuracy: 0.9976 - val_loss: 5.6333 - val_accuracy: 0.4336\n",
      "Epoch 94/100\n",
      "53/53 [==============================] - 1s 13ms/step - loss: 0.0030 - accuracy: 0.9982 - val_loss: 5.6532 - val_accuracy: 0.4336\n",
      "Epoch 95/100\n",
      "53/53 [==============================] - 1s 16ms/step - loss: 0.0029 - accuracy: 0.9976 - val_loss: 5.6645 - val_accuracy: 0.4294\n",
      "Epoch 96/100\n",
      "53/53 [==============================] - 4s 73ms/step - loss: 0.0029 - accuracy: 0.9976 - val_loss: 5.6873 - val_accuracy: 0.4280\n",
      "Epoch 97/100\n",
      "53/53 [==============================] - 1s 11ms/step - loss: 0.0027 - accuracy: 0.9982 - val_loss: 5.7111 - val_accuracy: 0.4238\n",
      "Epoch 98/100\n",
      "53/53 [==============================] - 1s 18ms/step - loss: 0.0028 - accuracy: 0.9976 - val_loss: 5.7270 - val_accuracy: 0.4266\n",
      "Epoch 99/100\n",
      "53/53 [==============================] - 0s 9ms/step - loss: 0.0028 - accuracy: 0.9982 - val_loss: 5.7389 - val_accuracy: 0.4252\n",
      "Epoch 100/100\n",
      "53/53 [==============================] - 1s 13ms/step - loss: 0.0028 - accuracy: 0.9988 - val_loss: 5.7618 - val_accuracy: 0.4252\n"
     ]
    },
    {
     "data": {
      "text/plain": [
       "<tensorflow.python.keras.callbacks.History at 0x7f38cb37aee0>"
      ]
     },
     "execution_count": 88,
     "metadata": {},
     "output_type": "execute_result"
    }
   ],
   "source": [
    "# Matriz de entrada y de salida\n",
    "X_E = np.array([x[1] for x in training_data_E])\n",
    "Y_E = np.array([y[0] for y in training_data_E])\n",
    "\n",
    "X_train_E,X_test_E,Y_train_E,Y_test_E = train_test_split(X_E,Y_E,test_size=0.3)\n",
    "\n",
    "# Entrenando\n",
    "model_E.fit(X_train_E,Y_train_E,epochs=100,validation_data=(X_test_E,Y_test_E))"
   ]
  },
  {
   "cell_type": "code",
   "execution_count": 89,
   "metadata": {},
   "outputs": [],
   "source": [
    "# Obteniendo representaciones de los vectores con las matrices de pesos\n",
    "W1 = model_E.get_weights()[0]\n",
    "W2 = model_E.get_weights()[2]\n",
    "D_E = 0.5*(W2.T+W1)"
   ]
  },
  {
   "cell_type": "markdown",
   "metadata": {},
   "source": [
    "### Ingles"
   ]
  },
  {
   "cell_type": "code",
   "execution_count": 78,
   "metadata": {
    "id": "QxzyRPFrl8JI"
   },
   "outputs": [],
   "source": [
    "fname = 'translate_f.txt' #Nombre del archivo\n",
    "C_I = 2 # Número de palabras de contexto a la derecha y a la izquierda\n",
    "text_I = get_file_data(fname, stop_word_removal='no')\n",
    "word_to_index_I,index_to_word_I,corpus_I,vocab_size_I,length_of_corpus_I = generate_dictinoary_data(text_I)\n",
    "training_data_I,training_sample_words_I = generate_training_data(corpus_I,C_I,vocab_size_I,word_to_index_I,length_of_corpus_I,sample=None)"
   ]
  },
  {
   "cell_type": "code",
   "execution_count": 79,
   "metadata": {},
   "outputs": [
    {
     "data": {
      "text/plain": [
       "2615"
      ]
     },
     "execution_count": 79,
     "metadata": {},
     "output_type": "execute_result"
    }
   ],
   "source": [
    "vocab_size_I\n",
    "len(corpus_I)"
   ]
  },
  {
   "cell_type": "code",
   "execution_count": 80,
   "metadata": {},
   "outputs": [
    {
     "data": {
      "text/plain": [
       "2382"
      ]
     },
     "execution_count": 80,
     "metadata": {},
     "output_type": "execute_result"
    }
   ],
   "source": [
    "len(corpus_E)"
   ]
  },
  {
   "cell_type": "code",
   "execution_count": 86,
   "metadata": {},
   "outputs": [],
   "source": [
    "# Definiendo red neuronal\n",
    "model_I = Sequential()  \n",
    "model_I.add(Dense(50,input_shape=(vocab_size_I,), activation='relu'))\n",
    "model_I.add(Dense(vocab_size_I, activation='softmax'))\n",
    "\n",
    "model_I.compile(loss='CategoricalCrossentropy', optimizer='rmsprop', metrics=['accuracy']) "
   ]
  },
  {
   "cell_type": "code",
   "execution_count": 91,
   "metadata": {},
   "outputs": [
    {
     "name": "stdout",
     "output_type": "stream",
     "text": [
      "Epoch 1/100\n",
      "58/58 [==============================] - 7s 114ms/step - loss: 6.6907 - accuracy: 0.0454 - val_loss: 6.5938 - val_accuracy: 0.0739\n",
      "Epoch 2/100\n",
      "58/58 [==============================] - 0s 5ms/step - loss: 6.3708 - accuracy: 0.0716 - val_loss: 6.2530 - val_accuracy: 0.0764\n",
      "Epoch 3/100\n",
      "58/58 [==============================] - 0s 5ms/step - loss: 5.9098 - accuracy: 0.0699 - val_loss: 6.0500 - val_accuracy: 0.0726\n",
      "Epoch 4/100\n",
      "58/58 [==============================] - 0s 5ms/step - loss: 5.6813 - accuracy: 0.0683 - val_loss: 6.0977 - val_accuracy: 0.0726\n",
      "Epoch 5/100\n",
      "58/58 [==============================] - 0s 5ms/step - loss: 5.5842 - accuracy: 0.0683 - val_loss: 6.1714 - val_accuracy: 0.0726\n",
      "Epoch 6/100\n",
      "58/58 [==============================] - 0s 4ms/step - loss: 5.5040 - accuracy: 0.0683 - val_loss: 6.2361 - val_accuracy: 0.0726\n",
      "Epoch 7/100\n",
      "58/58 [==============================] - 0s 5ms/step - loss: 5.4248 - accuracy: 0.0689 - val_loss: 6.2866 - val_accuracy: 0.0726\n",
      "Epoch 8/100\n",
      "58/58 [==============================] - 0s 5ms/step - loss: 5.3452 - accuracy: 0.0689 - val_loss: 6.3362 - val_accuracy: 0.0713\n",
      "Epoch 9/100\n",
      "58/58 [==============================] - 0s 5ms/step - loss: 5.2652 - accuracy: 0.0694 - val_loss: 6.3898 - val_accuracy: 0.0739\n",
      "Epoch 10/100\n",
      "58/58 [==============================] - 0s 5ms/step - loss: 5.1849 - accuracy: 0.0710 - val_loss: 6.4448 - val_accuracy: 0.0777\n",
      "Epoch 11/100\n",
      "58/58 [==============================] - 0s 4ms/step - loss: 5.1056 - accuracy: 0.0770 - val_loss: 6.4818 - val_accuracy: 0.0752\n",
      "Epoch 12/100\n",
      "58/58 [==============================] - 0s 5ms/step - loss: 5.0240 - accuracy: 0.0798 - val_loss: 6.5559 - val_accuracy: 0.0739\n",
      "Epoch 13/100\n",
      "58/58 [==============================] - 0s 5ms/step - loss: 4.9427 - accuracy: 0.0803 - val_loss: 6.5853 - val_accuracy: 0.0790\n",
      "Epoch 14/100\n",
      "58/58 [==============================] - 0s 5ms/step - loss: 4.8590 - accuracy: 0.0831 - val_loss: 6.6749 - val_accuracy: 0.0777\n",
      "Epoch 15/100\n",
      "58/58 [==============================] - 0s 5ms/step - loss: 4.7733 - accuracy: 0.0847 - val_loss: 6.7416 - val_accuracy: 0.0790\n",
      "Epoch 16/100\n",
      "58/58 [==============================] - 0s 5ms/step - loss: 4.6847 - accuracy: 0.0869 - val_loss: 6.7923 - val_accuracy: 0.0803\n",
      "Epoch 17/100\n",
      "58/58 [==============================] - 0s 5ms/step - loss: 4.5919 - accuracy: 0.0913 - val_loss: 6.8660 - val_accuracy: 0.0790\n",
      "Epoch 18/100\n",
      "58/58 [==============================] - 0s 5ms/step - loss: 4.4973 - accuracy: 0.0967 - val_loss: 6.9518 - val_accuracy: 0.0815\n",
      "Epoch 19/100\n",
      "58/58 [==============================] - 0s 5ms/step - loss: 4.3984 - accuracy: 0.1044 - val_loss: 7.0450 - val_accuracy: 0.0866\n",
      "Epoch 20/100\n",
      "58/58 [==============================] - 0s 5ms/step - loss: 4.2970 - accuracy: 0.1142 - val_loss: 7.1169 - val_accuracy: 0.0866\n",
      "Epoch 21/100\n",
      "58/58 [==============================] - 0s 4ms/step - loss: 4.1916 - accuracy: 0.1180 - val_loss: 7.1675 - val_accuracy: 0.0879\n",
      "Epoch 22/100\n",
      "58/58 [==============================] - 0s 5ms/step - loss: 4.0808 - accuracy: 0.1301 - val_loss: 7.2646 - val_accuracy: 0.0879\n",
      "Epoch 23/100\n",
      "58/58 [==============================] - 0s 4ms/step - loss: 3.9651 - accuracy: 0.1421 - val_loss: 7.3551 - val_accuracy: 0.0879\n",
      "Epoch 24/100\n",
      "58/58 [==============================] - 0s 5ms/step - loss: 3.8476 - accuracy: 0.1497 - val_loss: 7.4564 - val_accuracy: 0.0904\n",
      "Epoch 25/100\n",
      "58/58 [==============================] - 0s 4ms/step - loss: 3.7241 - accuracy: 0.1667 - val_loss: 7.5566 - val_accuracy: 0.0943\n",
      "Epoch 26/100\n",
      "58/58 [==============================] - 0s 4ms/step - loss: 3.5999 - accuracy: 0.1699 - val_loss: 7.6013 - val_accuracy: 0.0955\n",
      "Epoch 27/100\n",
      "58/58 [==============================] - 0s 5ms/step - loss: 3.4690 - accuracy: 0.1907 - val_loss: 7.6810 - val_accuracy: 0.0968\n",
      "Epoch 28/100\n",
      "58/58 [==============================] - 0s 5ms/step - loss: 3.3342 - accuracy: 0.2098 - val_loss: 7.7671 - val_accuracy: 0.0955\n",
      "Epoch 29/100\n",
      "58/58 [==============================] - 0s 5ms/step - loss: 3.1964 - accuracy: 0.2279 - val_loss: 7.8601 - val_accuracy: 0.0994\n",
      "Epoch 30/100\n",
      "58/58 [==============================] - 0s 5ms/step - loss: 3.0544 - accuracy: 0.2623 - val_loss: 7.9441 - val_accuracy: 0.1032\n",
      "Epoch 31/100\n",
      "58/58 [==============================] - 0s 5ms/step - loss: 2.9107 - accuracy: 0.2896 - val_loss: 8.0104 - val_accuracy: 0.1045\n",
      "Epoch 32/100\n",
      "58/58 [==============================] - 0s 5ms/step - loss: 2.7645 - accuracy: 0.3268 - val_loss: 8.0861 - val_accuracy: 0.1057\n",
      "Epoch 33/100\n",
      "58/58 [==============================] - 0s 5ms/step - loss: 2.6158 - accuracy: 0.3563 - val_loss: 8.1726 - val_accuracy: 0.1045\n",
      "Epoch 34/100\n",
      "58/58 [==============================] - 0s 4ms/step - loss: 2.4687 - accuracy: 0.4044 - val_loss: 8.2535 - val_accuracy: 0.1019\n",
      "Epoch 35/100\n",
      "58/58 [==============================] - 0s 5ms/step - loss: 2.3197 - accuracy: 0.4486 - val_loss: 8.3622 - val_accuracy: 0.1070\n",
      "Epoch 36/100\n",
      "58/58 [==============================] - 0s 4ms/step - loss: 2.1754 - accuracy: 0.4863 - val_loss: 8.4323 - val_accuracy: 0.0968\n",
      "Epoch 37/100\n",
      "58/58 [==============================] - 0s 4ms/step - loss: 2.0308 - accuracy: 0.5393 - val_loss: 8.5282 - val_accuracy: 0.0943\n",
      "Epoch 38/100\n",
      "58/58 [==============================] - 0s 4ms/step - loss: 1.8918 - accuracy: 0.5951 - val_loss: 8.6198 - val_accuracy: 0.0994\n",
      "Epoch 39/100\n",
      "58/58 [==============================] - 0s 5ms/step - loss: 1.7556 - accuracy: 0.6393 - val_loss: 8.6974 - val_accuracy: 0.0955\n",
      "Epoch 40/100\n",
      "58/58 [==============================] - 0s 5ms/step - loss: 1.6262 - accuracy: 0.6842 - val_loss: 8.7769 - val_accuracy: 0.0968\n",
      "Epoch 41/100\n",
      "58/58 [==============================] - 0s 5ms/step - loss: 1.5022 - accuracy: 0.7240 - val_loss: 8.8789 - val_accuracy: 0.0930\n",
      "Epoch 42/100\n",
      "58/58 [==============================] - 0s 5ms/step - loss: 1.3891 - accuracy: 0.7508 - val_loss: 8.9640 - val_accuracy: 0.0917\n",
      "Epoch 43/100\n",
      "58/58 [==============================] - 0s 5ms/step - loss: 1.2824 - accuracy: 0.7847 - val_loss: 9.0555 - val_accuracy: 0.0955\n",
      "Epoch 44/100\n",
      "58/58 [==============================] - 0s 5ms/step - loss: 1.1843 - accuracy: 0.8077 - val_loss: 9.1369 - val_accuracy: 0.0943\n",
      "Epoch 45/100\n",
      "58/58 [==============================] - 0s 5ms/step - loss: 1.0960 - accuracy: 0.8268 - val_loss: 9.2204 - val_accuracy: 0.0904\n",
      "Epoch 46/100\n",
      "58/58 [==============================] - 0s 5ms/step - loss: 1.0133 - accuracy: 0.8366 - val_loss: 9.3038 - val_accuracy: 0.0892\n",
      "Epoch 47/100\n",
      "58/58 [==============================] - 0s 4ms/step - loss: 0.9389 - accuracy: 0.8568 - val_loss: 9.4104 - val_accuracy: 0.0904\n",
      "Epoch 48/100\n",
      "58/58 [==============================] - 0s 5ms/step - loss: 0.8721 - accuracy: 0.8689 - val_loss: 9.4793 - val_accuracy: 0.0879\n",
      "Epoch 49/100\n",
      "58/58 [==============================] - 0s 5ms/step - loss: 0.8112 - accuracy: 0.8781 - val_loss: 9.5465 - val_accuracy: 0.0866\n",
      "Epoch 50/100\n",
      "58/58 [==============================] - 0s 5ms/step - loss: 0.7551 - accuracy: 0.8852 - val_loss: 9.6274 - val_accuracy: 0.0879\n",
      "Epoch 51/100\n",
      "58/58 [==============================] - 0s 5ms/step - loss: 0.7037 - accuracy: 0.8962 - val_loss: 9.7048 - val_accuracy: 0.0841\n",
      "Epoch 52/100\n",
      "58/58 [==============================] - 0s 4ms/step - loss: 0.6576 - accuracy: 0.9022 - val_loss: 9.7798 - val_accuracy: 0.0841\n",
      "Epoch 53/100\n",
      "58/58 [==============================] - 0s 5ms/step - loss: 0.6147 - accuracy: 0.9060 - val_loss: 9.8502 - val_accuracy: 0.0841\n",
      "Epoch 54/100\n",
      "58/58 [==============================] - 0s 5ms/step - loss: 0.5760 - accuracy: 0.9137 - val_loss: 9.9187 - val_accuracy: 0.0828\n",
      "Epoch 55/100\n",
      "58/58 [==============================] - 0s 5ms/step - loss: 0.5384 - accuracy: 0.9235 - val_loss: 9.9924 - val_accuracy: 0.0803\n",
      "Epoch 56/100\n",
      "58/58 [==============================] - 0s 5ms/step - loss: 0.5050 - accuracy: 0.9295 - val_loss: 10.0558 - val_accuracy: 0.0828\n",
      "Epoch 57/100\n",
      "58/58 [==============================] - 0s 4ms/step - loss: 0.4735 - accuracy: 0.9361 - val_loss: 10.1072 - val_accuracy: 0.0815\n",
      "Epoch 58/100\n",
      "58/58 [==============================] - 0s 4ms/step - loss: 0.4446 - accuracy: 0.9399 - val_loss: 10.1704 - val_accuracy: 0.0803\n"
     ]
    },
    {
     "name": "stdout",
     "output_type": "stream",
     "text": [
      "Epoch 59/100\n",
      "58/58 [==============================] - 0s 4ms/step - loss: 0.4161 - accuracy: 0.9475 - val_loss: 10.2355 - val_accuracy: 0.0790\n",
      "Epoch 60/100\n",
      "58/58 [==============================] - 0s 4ms/step - loss: 0.3911 - accuracy: 0.9454 - val_loss: 10.2981 - val_accuracy: 0.0815\n",
      "Epoch 61/100\n",
      "58/58 [==============================] - 0s 5ms/step - loss: 0.3672 - accuracy: 0.9552 - val_loss: 10.3529 - val_accuracy: 0.0790\n",
      "Epoch 62/100\n",
      "58/58 [==============================] - 0s 4ms/step - loss: 0.3442 - accuracy: 0.9568 - val_loss: 10.4118 - val_accuracy: 0.0790\n",
      "Epoch 63/100\n",
      "58/58 [==============================] - 0s 5ms/step - loss: 0.3240 - accuracy: 0.9623 - val_loss: 10.4672 - val_accuracy: 0.0803\n",
      "Epoch 64/100\n",
      "58/58 [==============================] - 0s 5ms/step - loss: 0.3043 - accuracy: 0.9628 - val_loss: 10.5399 - val_accuracy: 0.0803\n",
      "Epoch 65/100\n",
      "58/58 [==============================] - 0s 5ms/step - loss: 0.2859 - accuracy: 0.9639 - val_loss: 10.5979 - val_accuracy: 0.0790\n",
      "Epoch 66/100\n",
      "58/58 [==============================] - 0s 4ms/step - loss: 0.2687 - accuracy: 0.9667 - val_loss: 10.6514 - val_accuracy: 0.0828\n",
      "Epoch 67/100\n",
      "58/58 [==============================] - 0s 4ms/step - loss: 0.2521 - accuracy: 0.9710 - val_loss: 10.7000 - val_accuracy: 0.0803\n",
      "Epoch 68/100\n",
      "58/58 [==============================] - 0s 5ms/step - loss: 0.2369 - accuracy: 0.9721 - val_loss: 10.7509 - val_accuracy: 0.0815\n",
      "Epoch 69/100\n",
      "58/58 [==============================] - 0s 5ms/step - loss: 0.2224 - accuracy: 0.9727 - val_loss: 10.8088 - val_accuracy: 0.0828\n",
      "Epoch 70/100\n",
      "58/58 [==============================] - 0s 5ms/step - loss: 0.2088 - accuracy: 0.9765 - val_loss: 10.8693 - val_accuracy: 0.0828\n",
      "Epoch 71/100\n",
      "58/58 [==============================] - 0s 5ms/step - loss: 0.1963 - accuracy: 0.9781 - val_loss: 10.9404 - val_accuracy: 0.0828\n",
      "Epoch 72/100\n",
      "58/58 [==============================] - 0s 5ms/step - loss: 0.1844 - accuracy: 0.9803 - val_loss: 10.9853 - val_accuracy: 0.0828\n",
      "Epoch 73/100\n",
      "58/58 [==============================] - 0s 4ms/step - loss: 0.1734 - accuracy: 0.9814 - val_loss: 11.0460 - val_accuracy: 0.0828\n",
      "Epoch 74/100\n",
      "58/58 [==============================] - 0s 5ms/step - loss: 0.1629 - accuracy: 0.9836 - val_loss: 11.0996 - val_accuracy: 0.0790\n",
      "Epoch 75/100\n",
      "58/58 [==============================] - 0s 5ms/step - loss: 0.1529 - accuracy: 0.9836 - val_loss: 11.1561 - val_accuracy: 0.0815\n",
      "Epoch 76/100\n",
      "58/58 [==============================] - 0s 5ms/step - loss: 0.1439 - accuracy: 0.9836 - val_loss: 11.1949 - val_accuracy: 0.0815\n",
      "Epoch 77/100\n",
      "58/58 [==============================] - 0s 4ms/step - loss: 0.1350 - accuracy: 0.9836 - val_loss: 11.2575 - val_accuracy: 0.0803\n",
      "Epoch 78/100\n",
      "58/58 [==============================] - 0s 4ms/step - loss: 0.1275 - accuracy: 0.9869 - val_loss: 11.3041 - val_accuracy: 0.0790\n",
      "Epoch 79/100\n",
      "58/58 [==============================] - 0s 5ms/step - loss: 0.1190 - accuracy: 0.9891 - val_loss: 11.3565 - val_accuracy: 0.0815\n",
      "Epoch 80/100\n",
      "58/58 [==============================] - 0s 4ms/step - loss: 0.1118 - accuracy: 0.9896 - val_loss: 11.4261 - val_accuracy: 0.0828\n",
      "Epoch 81/100\n",
      "58/58 [==============================] - 0s 5ms/step - loss: 0.1051 - accuracy: 0.9896 - val_loss: 11.4618 - val_accuracy: 0.0828\n",
      "Epoch 82/100\n",
      "58/58 [==============================] - 0s 5ms/step - loss: 0.0985 - accuracy: 0.9913 - val_loss: 11.5048 - val_accuracy: 0.0803\n",
      "Epoch 83/100\n",
      "58/58 [==============================] - 0s 5ms/step - loss: 0.0927 - accuracy: 0.9913 - val_loss: 11.5650 - val_accuracy: 0.0803\n",
      "Epoch 84/100\n",
      "58/58 [==============================] - 0s 5ms/step - loss: 0.0868 - accuracy: 0.9907 - val_loss: 11.6148 - val_accuracy: 0.0803\n",
      "Epoch 85/100\n",
      "58/58 [==============================] - 0s 5ms/step - loss: 0.0817 - accuracy: 0.9918 - val_loss: 11.6756 - val_accuracy: 0.0828\n",
      "Epoch 86/100\n",
      "58/58 [==============================] - 0s 4ms/step - loss: 0.0766 - accuracy: 0.9923 - val_loss: 11.7385 - val_accuracy: 0.0828\n",
      "Epoch 87/100\n",
      "58/58 [==============================] - 0s 5ms/step - loss: 0.0718 - accuracy: 0.9923 - val_loss: 11.8067 - val_accuracy: 0.0841\n",
      "Epoch 88/100\n",
      "58/58 [==============================] - 0s 5ms/step - loss: 0.0681 - accuracy: 0.9929 - val_loss: 11.8373 - val_accuracy: 0.0828\n",
      "Epoch 89/100\n",
      "58/58 [==============================] - 0s 5ms/step - loss: 0.0634 - accuracy: 0.9923 - val_loss: 11.8955 - val_accuracy: 0.0803\n",
      "Epoch 90/100\n",
      "58/58 [==============================] - 0s 4ms/step - loss: 0.0598 - accuracy: 0.9934 - val_loss: 11.9556 - val_accuracy: 0.0815\n",
      "Epoch 91/100\n",
      "58/58 [==============================] - 0s 5ms/step - loss: 0.0564 - accuracy: 0.9951 - val_loss: 12.0102 - val_accuracy: 0.0828\n",
      "Epoch 92/100\n",
      "58/58 [==============================] - 0s 4ms/step - loss: 0.0532 - accuracy: 0.9951 - val_loss: 12.0699 - val_accuracy: 0.0828\n",
      "Epoch 93/100\n",
      "58/58 [==============================] - 0s 5ms/step - loss: 0.0497 - accuracy: 0.9951 - val_loss: 12.1113 - val_accuracy: 0.0828\n",
      "Epoch 94/100\n",
      "58/58 [==============================] - 0s 5ms/step - loss: 0.0468 - accuracy: 0.9956 - val_loss: 12.1837 - val_accuracy: 0.0815\n",
      "Epoch 95/100\n",
      "58/58 [==============================] - 0s 5ms/step - loss: 0.0438 - accuracy: 0.9962 - val_loss: 12.2367 - val_accuracy: 0.0803\n",
      "Epoch 96/100\n",
      "58/58 [==============================] - 0s 5ms/step - loss: 0.0413 - accuracy: 0.9951 - val_loss: 12.2962 - val_accuracy: 0.0803\n",
      "Epoch 97/100\n",
      "58/58 [==============================] - 0s 5ms/step - loss: 0.0387 - accuracy: 0.9962 - val_loss: 12.3383 - val_accuracy: 0.0790\n",
      "Epoch 98/100\n",
      "58/58 [==============================] - 0s 5ms/step - loss: 0.0365 - accuracy: 0.9956 - val_loss: 12.3939 - val_accuracy: 0.0790\n",
      "Epoch 99/100\n",
      "58/58 [==============================] - 0s 5ms/step - loss: 0.0343 - accuracy: 0.9967 - val_loss: 12.4363 - val_accuracy: 0.0790\n",
      "Epoch 100/100\n",
      "58/58 [==============================] - 0s 5ms/step - loss: 0.0322 - accuracy: 0.9973 - val_loss: 12.4915 - val_accuracy: 0.0803\n"
     ]
    },
    {
     "data": {
      "text/plain": [
       "<tensorflow.python.keras.callbacks.History at 0x7f38ca9591f0>"
      ]
     },
     "execution_count": 91,
     "metadata": {},
     "output_type": "execute_result"
    }
   ],
   "source": [
    "# Matriz de entrada y de salida\n",
    "X_I = np.array([x[1] for x in training_data_I])\n",
    "Y_I = np.array([y[0] for y in training_data_I])\n",
    "\n",
    "X_train_I,X_test_I,Y_train_I,Y_test_I = train_test_split(X_I,Y_I,test_size=0.3)\n",
    "\n",
    "# Entrenando\n",
    "model_I.fit(X_train_I,Y_train_I,epochs=100,validation_data=(X_test_I,Y_test_I))"
   ]
  },
  {
   "cell_type": "code",
   "execution_count": 92,
   "metadata": {},
   "outputs": [],
   "source": [
    "# Obteniendo representaciones de los vectores con las matrices de pesos\n",
    "W1 = model_I.get_weights()[0]\n",
    "W2 = model_I.get_weights()[2]\n",
    "D_I = 0.5*(W2.T+W1)"
   ]
  },
  {
   "cell_type": "markdown",
   "metadata": {},
   "source": [
    "# Punto 9 : Obteniendo matriz de traducción R"
   ]
  },
  {
   "cell_type": "code",
   "execution_count": 162,
   "metadata": {},
   "outputs": [
    {
     "name": "stdout",
     "output_type": "stream",
     "text": [
      "la you\n",
      "gente don\n",
      "solo know\n",
      "me anything\n",
      "lee about\n",
      "para video\n",
      "decir games\n",
      "sus this\n",
      "amigos is\n",
      "que an\n",
      "soy ordeal\n",
      "mejor people\n",
      "que only\n",
      "la read\n",
      "pelicula me\n",
      "realmente to\n",
      "nadie tell\n",
      "me their\n",
      "entiende friends\n",
      "ven that\n"
     ]
    }
   ],
   "source": [
    "for i in range(200,220):\n",
    "    print(corpus_E[i],corpus_I[i])"
   ]
  },
  {
   "cell_type": "markdown",
   "metadata": {},
   "source": [
    "### Traducción"
   ]
  },
  {
   "cell_type": "code",
   "execution_count": 204,
   "metadata": {
    "id": "jJ58zjU8pR0I"
   },
   "outputs": [],
   "source": [
    "X = ['consola','siempre','de','ser','sobre','estante','estupidos','ninos','comentarios','controles','sotano','su','madre','fracasados','son','idiotas','odio','creen','mas','que','cualquiera','creditos','saberse','juegos','quisiera','libro','ser','ellos','saben','como','viajando','padres','otro','creadores','respetados','genios','como','contar','pare','diferencia','solo','gorilas','corbatas','penetrantes','unicas','historias','excesivamente','filosofia','sonadores','diablos','circunspecto','responder','muy','voz','dijo','lee']\n",
    "Y = ['console','always','of','being','on','shelf','stupid','children','comments','controls','basement','his','mother','losers','are','stupid','hate','believe','more','than','any','credits','knowing','games','would','book','be','they','know','how','traveling','parents','another','creative','respected','geniuses','as','counting','stop','unlike','only','gorillas','ties','penetrating','unique','stories','excessively','philosophy','dreamers','devils','circumspect','respond','very','voice','said','read']"
   ]
  },
  {
   "cell_type": "code",
   "execution_count": 205,
   "metadata": {
    "id": "bULa_lBlrQoe"
   },
   "outputs": [],
   "source": [
    "# Indices de las palabras\n",
    "X_indx = [word_to_index_E[w] for w in X]\n",
    "Y_indx = [word_to_index_I[w] for w in Y]\n",
    "\n",
    "# Vectores de las palabras\n",
    "X_vec = np.array([D_E[i] for i in X_indx])\n",
    "Y_vec = np.array([D_I[i]for i in Y_indx])"
   ]
  },
  {
   "cell_type": "code",
   "execution_count": 206,
   "metadata": {},
   "outputs": [
    {
     "data": {
      "text/plain": [
       "(56, 50)"
      ]
     },
     "execution_count": 206,
     "metadata": {},
     "output_type": "execute_result"
    }
   ],
   "source": [
    "X_vec.shape"
   ]
  },
  {
   "cell_type": "code",
   "execution_count": 207,
   "metadata": {
    "id": "fnwYP7pfudz8"
   },
   "outputs": [
    {
     "name": "stdout",
     "output_type": "stream",
     "text": [
      "Dimensiones de R:  (50, 50)\n"
     ]
    }
   ],
   "source": [
    "# Matriz R\n",
    "R = np.linalg.inv(X_vec.T@X_vec)@(X_vec.T@Y_vec)\n",
    "print(\"Dimensiones de R: \",R.shape)"
   ]
  },
  {
   "cell_type": "markdown",
   "metadata": {},
   "source": [
    "# Punto 11 : Encontrando las 5 mejores traducciones"
   ]
  },
  {
   "cell_type": "code",
   "execution_count": 208,
   "metadata": {
    "colab": {
     "base_uri": "https://localhost:8080/",
     "height": 35
    },
    "id": "AwMRGrICxDPA",
    "outputId": "8f55539a-fc23-44b5-e8de-2684954c31bf"
   },
   "outputs": [
    {
     "name": "stdout",
     "output_type": "stream",
     "text": [
      "Palabra a traducir:  unos\n"
     ]
    }
   ],
   "source": [
    "inx = 35 # Indice de la palabra a buscar del corpus en español\n",
    "print(\"Palabra a traducir: \",index_to_word_E[inx])\n",
    "I_word = D_E[inx]@R"
   ]
  },
  {
   "cell_type": "code",
   "execution_count": 209,
   "metadata": {
    "id": "qfRMcbIAyLd8"
   },
   "outputs": [],
   "source": [
    "# Modelo con 4 divisiones de vecotres en R^30\n",
    "lsh = lshash.LSHash(3, 50,num_hashtables=10)\n",
    "\n",
    "for word in D_I:\n",
    "    lsh.index(word)"
   ]
  },
  {
   "cell_type": "code",
   "execution_count": 210,
   "metadata": {
    "colab": {
     "base_uri": "https://localhost:8080/"
    },
    "id": "zaanzKcGy2L2",
    "outputId": "86c83c17-1ab4-4534-f28c-98f4fbc612be"
   },
   "outputs": [
    {
     "name": "stdout",
     "output_type": "stream",
     "text": [
      "['comments', 'blows', 'pedantic', 'more', 'stupid']\n"
     ]
    }
   ],
   "source": [
    "# Buscando vecinos mas cercanos\n",
    "top = 5\n",
    "vecinos = lsh.query(I_word.tolist(),num_results=top,distance_func='cosine')\n",
    "print([index_to_word_I[getIndex(D_I,vecinos[i][0][0])] for i in range(len(vecinos))])"
   ]
  },
  {
   "cell_type": "markdown",
   "metadata": {},
   "source": [
    "### Verificando con palabras de entrenamiento"
   ]
  },
  {
   "cell_type": "code",
   "execution_count": 213,
   "metadata": {},
   "outputs": [
    {
     "name": "stdout",
     "output_type": "stream",
     "text": [
      "consola ['console', 'game', 'video', 'shout', 'wish']\n",
      "siempre ['always', 'hate', 'traveling', 'pass', 'they']\n",
      "de ['of', 'marble', 'stairs', 'falling', 'instead']\n",
      "ser ['stopped', 'souls', 'poking', 'fish', 'plumbers']\n",
      "sobre ['on', 'eating', 'courtiers', 'settled', 'shelf']\n",
      "estante ['shelf', 'knocked', 'carriage', 'neighboring', 'aleksei']\n",
      "estupidos ['stupid', 'comments', 'disapproval', 'marble', 'stairs']\n",
      "ninos ['children', 'spoiled', 'words', 'amazing', 'slobber']\n",
      "comentarios ['comments', 'fat', 'stupid', 'marble', 'skating']\n",
      "controles ['controls', 'life', 'neighboring', 'believed', 'sir']\n",
      "sotano ['basement', 'mother', 'follow', 'these', 'his']\n",
      "su ['his', 'follow', 'mother', 'saw', 'respond']\n",
      "madre ['mother', 'basement', 'his', 'these', 'follow']\n",
      "fracasados ['losers', 'these', 'believed', 'gregorio', 'demian']\n",
      "son ['are', 'geniuses', 'hate', 'respected', 'willing']\n",
      "idiotas ['stupid', 'comments', 'disapproval', 'marble', 'stairs']\n",
      "odio ['hate', 'always', 'respected', 'are', 'they']\n",
      "creen ['believe', 'greedy', 'carriage', 'believed', 'says']\n",
      "mas ['more', 'pedantic', 'is', 'veteran', 'says']\n",
      "que ['than', 'worse', 'pedantic', 'needles', 'more']\n",
      "cualquiera ['any', 'matter', 'losers', 'interesting', 'creative']\n",
      "creditos ['credits', 'carriage', 'believed', 'any', 'those']\n",
      "saberse ['knowing', 'believed', 'carriage', 'characters', 'gorillas']\n",
      "juegos ['games', 'video', 'mr', 'spinning', 'wish']\n",
      "quisiera ['would', 'pass', 'my', 'mr', 'always']\n",
      "libro ['book', 'very', 'hunt', 'circumspect', 'stiff']\n",
      "ser ['stopped', 'souls', 'poking', 'fish', 'plumbers']\n",
      "ellos ['they', 'bowed', 'respected', 'geniuses', 'welcome']\n",
      "saben ['know', 'how', 'anything', 'lucky', 'you']\n",
      "como ['how', 'lucky', 'as', 'run', 'first']\n",
      "viajando ['traveling', 'always', 'single', 'highly', 'hate']\n",
      "padres ['parents', 'creative', 'wear', 'sauce', 'disgusted']\n",
      "otro ['another', 'leg', 'jump', 'here', 'fools']\n",
      "creadores ['creative', 'matter', 'losers', 'ask', 'threshold']\n",
      "respetados ['respected', 'highly', 'geniuses', 'they', 'welcome']\n",
      "genios ['geniuses', 'respected', 'highly', 'they', 'bowed']\n",
      "como ['how', 'lucky', 'as', 'run', 'first']\n",
      "contar ['counting', 'stop', 'unlike', 'become', 'used']\n",
      "pare ['stop', 'counting', 'samsa', 'become', 'ties']\n",
      "diferencia ['unlike', 'counting', 'tighten', 'stop', 'lot']\n",
      "solo ['only', 'boast', 'feel', 'souls', 'read']\n",
      "gorilas ['gorillas', 'characters', 'machacon', 'knowing', 'carriage']\n",
      "corbatas ['ties', 'carriage', 'believed', 'credits', 'affliction']\n",
      "penetrantes ['penetrating', 'sauce', 'stories', 'streets', 'subjects']\n",
      "unicas ['unique', 'drooling', 'waver', 'tricks', 'hanging']\n",
      "historias ['stories', 'highly', 'penetrating', 'minds', 'respected']\n",
      "excesivamente ['excessively', 'machacon', 'is', 'cliche', 'pedantic']\n",
      "filosofia ['philosophy', 'students', 'devils', 'meowing', 'judgment']\n",
      "sonadores ['dreamers', 'cannot', 'devils', 'souls', 'rolled']\n",
      "diablos ['devils', 'stopped', 'become', 'dreamers', 'right']\n",
      "circunspecto ['circumspect', 'catching', 'nights', 'asked', 'very']\n",
      "responder ['respond', 'his', 'raised', 'follow', 'first']\n",
      "muy ['very', 'book', 'nights', 'stiff', 'happy']\n",
      "voz ['voice', 'knock', 'fast', 'opened', 'does']\n",
      "dijo ['said', 'really', 'dad', 'now', 'bring']\n",
      "lee ['read', 'upload', 'having', 'catch', 'only']\n"
     ]
    }
   ],
   "source": [
    "count = 0\n",
    "for i,d in enumerate(X):\n",
    "    inx = word_to_index_E[d]\n",
    "    I_word = D_E[inx]@R\n",
    "    vecinos = lsh.query(I_word.tolist(),num_results=top,distance_func='cosine')\n",
    "    b = [index_to_word_I[getIndex(D_I,vecinos[i][0][0])] for i in range(len(vecinos))]\n",
    "    print(d,b)\n",
    "    count+=1 if Y[i] in b else 0"
   ]
  },
  {
   "cell_type": "code",
   "execution_count": 214,
   "metadata": {},
   "outputs": [
    {
     "data": {
      "text/plain": [
       "0.9642857142857143"
      ]
     },
     "execution_count": 214,
     "metadata": {},
     "output_type": "execute_result"
    }
   ],
   "source": [
    "count/len(X)"
   ]
  },
  {
   "cell_type": "code",
   "execution_count": null,
   "metadata": {},
   "outputs": [],
   "source": []
  }
 ],
 "metadata": {
  "colab": {
   "collapsed_sections": [],
   "name": "Proyecto_II_word2vec.ipynb",
   "provenance": []
  },
  "kernelspec": {
   "display_name": "Python 3",
   "language": "python",
   "name": "python3"
  },
  "language_info": {
   "codemirror_mode": {
    "name": "ipython",
    "version": 3
   },
   "file_extension": ".py",
   "mimetype": "text/x-python",
   "name": "python",
   "nbconvert_exporter": "python",
   "pygments_lexer": "ipython3",
   "version": "3.8.5"
  }
 },
 "nbformat": 4,
 "nbformat_minor": 1
}
