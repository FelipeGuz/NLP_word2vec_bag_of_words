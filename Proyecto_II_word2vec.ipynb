{
 "cells": [
  {
   "cell_type": "markdown",
   "metadata": {
    "id": "12hsEen46S3X"
   },
   "source": [
    "# Proyecto II: De palabras a Vectores\n",
    "\n",
    "En este proyecto vamos a implementar uno de los sistemas más utilizados par aconvertir palabras a vectores **word2vec**. En este proyecto la idea es que ustedes creén una base de datos de texto, la cúal utilizarán para entrenar la códigficación de estás palabras, y a partir de allí implementar ciertos sistemas. Par afacilitar el trabajo, en este notebook pueden encontrar unas funciones que fueron extraidas de esté [link](https://towardsdatascience.com/a-word2vec-implementation-using-numpy-and-python-d256cf0e5f28), y adaptadas para trabajar con el lenguaje español. Sientanse libres de utilizar estas funciones o de adaptarlas asu gusto. Las funciones toman como entrada un texto en formato plano, y al finalizar entregan el vector de palabras de contexto y el vector target que puede ser utilizado para entrenar el modelo word2vec. Los datos de entrenamiento se entregan en una lista que contiene el vector de salida (codificación one hot de una palabra) y el vector que contiene la suma de los vectores hot encoded de las palabras de contexto. Para escoger el tamaño de la palabra de contexto deben modificar el parámetro $C$.\n",
    "\n",
    "Para este proyecto necesitan realizar lo siguiente:\n",
    "\n",
    "1. Obtengan un corpus de texto plano en Español, lo suficientemente largo, que contenga información sobre diferentes países. Este texto lo pueden extraer de wikipedia.\n",
    "2. Con la información de este corpus entrenen un modelo word2vec, aquí debe seleccionar un valor $N$ que representa la longitud del vector que representará las palabras. Este modelo es una red neuronal con una sola capa oculta de $N$ neuronas.\n",
    "3. Una vez tengan el modelo identifiquen la relación entre algunos países (no todos) de su corpus y sus capitales.\n",
    "4. Mediante esta relación encuentren las capitales de los demás países que incluyeron en el corpus. Para esto deben realizar una búsqueda de vectores cercanos a un punto en el espacio $\\mathbb{R}^{\\text{N}}$. Esta búsqueda la pueden realizar con *Locally Sensitive Hashing*.\n",
    "4. Realice una visualización en 2D o 3D de los vectores correspondientes a los países y sus capitales. Indicando los que usarón de referencia para encontrar la relación entre país y capital, y aquellos para los cuales no utilizarón esa relación.\n",
    "5. Seleccione 5 Palabras y para ellas calcule las 10 palabras más parecidas (sinonimos) en orden de similitud.\n",
    "6. Construya un nuevo corpus, más pequeño, sobre un tema cualquiera. Para este corpus necesita la versión en Español y en Ingles de los textos. Una vez más pueden utilizar Wikipedia para esto. \n",
    "7. Obtenga las representaciones en vectores par alas palabras en Español y en Ingles.\n",
    "8. De los datos obtenidos, escoga un conjunto $m$ de palabras en español, y las respectiva traducción en ingles (que se encuentren en el vocabulario que construyeron) y planteé el problema de transformacion $\\mathcal{X}\\mathbf{R} = \\mathcal{Y}$. De tal forma que encuentren la matrix de \"traducción\" $\\mathbf{R}$.\n",
    "9. Realicé esta operación para varios valores de $m$.\n",
    "10. Finalmente escoja algunas palabras en Español, apliqueles la transformación $\\mathbf{R}$ y liste las 5 palabras más cercanas en $\\mathcal{Y}$ a esta traducción.\n",
    "\n",
    "Al finalizar los diferentes puntos del proyecto, contesten las isguientes preguntas:\n",
    "\n",
    "1. ¿Qué problemas tuvierón a la hora de implementar el modelo word2vec?\n",
    "2. ¿Cómo escogierón el parámetro $N$?\n",
    "3. ¿Qué pueden decir de los resultados del modelo buscando la relación entre los países y las capitales?\n",
    "4. ¿Qué tan bien funciona el modelo para los sinonimos?, ¿Cómo creen que se puede mejorar este modelo?\n",
    "5. ¿Cómo afecta el parámetro $m$ el funcionamiento del modelo de traducción?\n",
    "6. ¿Cómo mejorarian el modelo de traducción?\n",
    "7. ¿Qué concluyen de este proyecto y de los resultados obtenidos?\n",
    "\n",
    "Al finalizar deben entregar el notebook, con los archivos de soporte (los corpus) y demás elementos que consideren necesarios. Recuerde dar respuesta a las preguntas del notebook, y comentar cada parte del proceso. El proyecto se debe entregar a más tardar el **Domingo 29 de Marzo a las 12 de la noche**.\n"
   ]
  },
  {
   "cell_type": "markdown",
   "metadata": {},
   "source": [
    "# Solución"
   ]
  },
  {
   "cell_type": "code",
   "execution_count": 2,
   "metadata": {},
   "outputs": [
    {
     "name": "stdout",
     "output_type": "stream",
     "text": [
      "Defaulting to user installation because normal site-packages is not writeable\n",
      "Requirement already satisfied: lshashpy3 in /home/felipe/.local/lib/python3.8/site-packages (0.0.8)\n"
     ]
    }
   ],
   "source": [
    "# Instalacion de libreria para el Locally Sensitive Hashing\n",
    "!pip3 install lshashpy3"
   ]
  },
  {
   "cell_type": "code",
   "execution_count": 3,
   "metadata": {
    "id": "89YpInSR6S3i"
   },
   "outputs": [],
   "source": [
    "# Importacndo librerias necesarias\n",
    "\n",
    "import re \n",
    "import numpy as np\n",
    "\n",
    "# Matplotlib\n",
    "from mpl_toolkits import mplot3d\n",
    "import numpy as np\n",
    "import matplotlib.pyplot as plt\n",
    "\n",
    "# TensorFlow\n",
    "import tensorflow as tf\n",
    "from tensorflow.keras.models import Sequential\n",
    "from tensorflow.keras.layers import Dense, Dropout, LSTM\n",
    "\n",
    "# Sklearn\n",
    "from sklearn.model_selection import train_test_split\n",
    "from sklearn.decomposition import PCA\n",
    "\n",
    "# Algoritmo de Locally Sensitive Hashing\n",
    "import lshashpy3 as lshash"
   ]
  },
  {
   "cell_type": "code",
   "execution_count": 4,
   "metadata": {
    "id": "RDGGYLqQ6S3l"
   },
   "outputs": [],
   "source": [
    "# Función para leer y procesar el archivo en texto plano.\n",
    "\n",
    "def get_file_data(fname, stop_word_removal='no'):\n",
    "    file_contents = []\n",
    "    with open(fname,encoding=\"utf-8\") as f:\n",
    "        file_contents = f.read()\n",
    "    text = []\n",
    "    for val in file_contents.split('.'):\n",
    "        val = re.sub(r'[,¡!¿?;-]+','.',val)\n",
    "        val = re.sub(r'á','a',val)\n",
    "        val = re.sub(r'é','e',val)\n",
    "        val = re.sub(r'í','i',val)\n",
    "        val = re.sub(r'ó','o',val)\n",
    "        val = re.sub(r'ú','u',val)\n",
    "        val = re.sub(r'Á','A',val)\n",
    "        val = re.sub(r'É','E',val)\n",
    "        val = re.sub(r'Í','I',val)\n",
    "        val = re.sub(r'Ó','O',val)\n",
    "        val = re.sub(r'Ú','U',val)\n",
    "        val = re.sub(r'ñ','n',val)\n",
    "        val = re.sub(r'Ñ','N',val)\n",
    "        sent = re.findall(\"[A-Za-z]+\", val)\n",
    "        line = ''\n",
    "        for words in sent:\n",
    "            \n",
    "            if stop_word_removal == 'yes': \n",
    "                if len(words) > 1 and words not in stop_words:\n",
    "                    line = line + ' ' + words\n",
    "            else:\n",
    "                if len(words) > 1 :\n",
    "                    line = line + ' ' + words\n",
    "        text.append(line)\n",
    "    return text\n",
    "\n",
    "# Función para obtener un Vocabulario en función del texto procesado\n",
    "\n",
    "def generate_dictinoary_data(text):\n",
    "    word_to_index= dict()\n",
    "    index_to_word = dict()\n",
    "    corpus = []\n",
    "    count = 0\n",
    "    vocab_size = 0\n",
    "    \n",
    "    for row in text:\n",
    "        for word in row.split():\n",
    "            word = word.lower()\n",
    "            corpus.append(word)\n",
    "            if word_to_index.get(word) == None:\n",
    "                word_to_index.update ( {word : count})\n",
    "                index_to_word.update ( {count : word })\n",
    "                count  += 1\n",
    "    vocab_size = len(word_to_index)\n",
    "    length_of_corpus = len(corpus)\n",
    "    \n",
    "    return word_to_index,index_to_word,corpus,vocab_size,length_of_corpus\n",
    "\n",
    "# Función para generar representaciones one hot de los vectores target y del corpus\n",
    "\n",
    "def get_one_hot_vectors(target_word,context_words,vocab_size,word_to_index):\n",
    "    \n",
    "    #Create an array of size = vocab_size filled with zeros\n",
    "    trgt_word_vector = np.zeros(vocab_size)\n",
    "    \n",
    "    #Get the index of the target_word according to the dictionary word_to_index. \n",
    "    index_of_word_dictionary = word_to_index.get(target_word) \n",
    "    \n",
    "    #Set the index to 1\n",
    "    trgt_word_vector[index_of_word_dictionary] = 1\n",
    "    \n",
    "    #Repeat same steps for context_words but in a loop\n",
    "    ctxt_word_vector = np.zeros(vocab_size)\n",
    "    \n",
    "    \n",
    "    for word in context_words:\n",
    "        index_of_word_dictionary = word_to_index.get(word) \n",
    "        ctxt_word_vector[index_of_word_dictionary] = 1\n",
    "        \n",
    "    return trgt_word_vector,ctxt_word_vector\n",
    "\n",
    "# Función para generar los datos de entrenamiento para la red neuronal que representa el modelo word2vec\n",
    "\n",
    "def generate_training_data(corpus,window_size,vocab_size,word_to_index,length_of_corpus,sample=None):\n",
    "\n",
    "    training_data =  []\n",
    "    training_sample_words =  []\n",
    "    for i,word in enumerate(corpus):\n",
    "\n",
    "        index_target_word = i\n",
    "        target_word = word\n",
    "        context_words = []\n",
    "\n",
    "        #when target word is the first word\n",
    "        if i == 0:  \n",
    "\n",
    "            # trgt_word_index:(0), ctxt_word_index:(1,2)\n",
    "            context_words = [corpus[x] for x in range(i + 1 , window_size + 1)] \n",
    "\n",
    "\n",
    "        #when target word is the last word\n",
    "        elif i == len(corpus)-1:\n",
    "\n",
    "            # trgt_word_index:(9), ctxt_word_index:(8,7), length_of_corpus = 10\n",
    "            context_words = [corpus[x] for x in range(length_of_corpus - 2 ,length_of_corpus -2 - window_size  , -1 )]\n",
    "\n",
    "        #When target word is the middle word\n",
    "        else:\n",
    "\n",
    "            #Before the middle target word\n",
    "            before_target_word_index = index_target_word - 1\n",
    "            for x in range(before_target_word_index, before_target_word_index - window_size , -1):\n",
    "                if x >=0:\n",
    "                    context_words.extend([corpus[x]])\n",
    "\n",
    "            #After the middle target word\n",
    "            after_target_word_index = index_target_word + 1\n",
    "            for x in range(after_target_word_index, after_target_word_index + window_size):\n",
    "                if x < len(corpus):\n",
    "                    context_words.extend([corpus[x]])\n",
    "\n",
    "\n",
    "        trgt_word_vector,ctxt_word_vector = get_one_hot_vectors(target_word,context_words,vocab_size,word_to_index)\n",
    "        training_data.append([trgt_word_vector,ctxt_word_vector])   \n",
    "        \n",
    "        if sample is not None:\n",
    "            training_sample_words.append([target_word,context_words])   \n",
    "        \n",
    "    return training_data,training_sample_words"
   ]
  },
  {
   "cell_type": "code",
   "execution_count": 23,
   "metadata": {},
   "outputs": [],
   "source": [
    "# Funcion para obtener el indice de un vector que se encuentra en la matriz D\n",
    "def getIndex(D,v):\n",
    "    k = np.where(D==v)[0].tolist()\n",
    "    i = max(set(k),key=k.count)\n",
    "    return i"
   ]
  },
  {
   "cell_type": "markdown",
   "metadata": {
    "id": "7uqitzoR6S3o"
   },
   "source": [
    "# Solucion de ejercicios"
   ]
  },
  {
   "cell_type": "markdown",
   "metadata": {},
   "source": [
    "# Punto 1"
   ]
  },
  {
   "cell_type": "markdown",
   "metadata": {},
   "source": [
    "Para este punto se utilizará información de los países perú, nepal, brunéi, canadá, dinamarca y gambia; toda obtenida de wikipedia en los siguientes enlaces:\n",
    "\n",
    "- Perú: https://es.wikipedia.org/wiki/Per%C3%BA\n",
    "- Nepal: https://es.wikipedia.org/wiki/Nepal\n",
    "- Brunéi: https://es.wikipedia.org/wiki/Brun%C3%A9i\n",
    "- Canadá: https://es.wikipedia.org/wiki/Canad%C3%A1\n",
    "- Dinamarca: https://es.wikipedia.org/wiki/Dinamarca\n",
    "- Gambía: https://es.wikipedia.org/wiki/Gambia\n",
    "\n",
    "Toda la información fue almacenada en el archivo paises.txt adjunta con el proyecto."
   ]
  },
  {
   "cell_type": "markdown",
   "metadata": {},
   "source": [
    "# Punto 2"
   ]
  },
  {
   "cell_type": "code",
   "execution_count": 5,
   "metadata": {
    "id": "cf-0eymC6S3n"
   },
   "outputs": [],
   "source": [
    "# Leyendo el archivo paises.txt y aplicando el preprocesamiento necesario\n",
    "\n",
    "fname = 'paises' #Nombre del archivo\n",
    "C = 2 # Número de palabras de contexto a la derecha y a la izquierda\n",
    "text = get_file_data(fname, stop_w\n",
    "                     ord_removal='no')\n",
    "word_to_index,index_to_word,corpus,vocab_size,length_of_corpus = generate_dictinoary_data(text)\n",
    "training_data,training_sample_words = generate_training_data(corpus,C,vocab_size,word_to_index,length_of_corpus,sample=None)"
   ]
  },
  {
   "cell_type": "code",
   "execution_count": 7,
   "metadata": {
    "id": "7DmaQLxc6S3q"
   },
   "outputs": [],
   "source": [
    "# Definiendo las matrices de entrada (X) y de salida (Y)\n",
    "X = np.array([x[1] for x in training_data])\n",
    "Y = np.array([y[0] for y in training_data])"
   ]
  },
  {
   "cell_type": "markdown",
   "metadata": {},
   "source": [
    "El corpus obtenido del archivo paises.txt tiene un tamaño de 5013 y un vocabulario de 1620. De esta forma las matrices X y Y tiene  dimensiones:"
   ]
  },
  {
   "cell_type": "code",
   "execution_count": 13,
   "metadata": {},
   "outputs": [
    {
     "name": "stdout",
     "output_type": "stream",
     "text": [
      "Dimensiones de X:  (5103, 1620)\n",
      "Dimensiones de Y:  (5103, 1620)\n"
     ]
    }
   ],
   "source": [
    "print(\"Dimensiones de X: \",X.shape)\n",
    "print(\"Dimensiones de Y: \",Y.shape)"
   ]
  },
  {
   "cell_type": "markdown",
   "metadata": {},
   "source": [
    "Para la definición de la red neuronal se utilizó la arquitectura planteada en clase y se utilizó un $N=100$ para la capa intermedia"
   ]
  },
  {
   "cell_type": "code",
   "execution_count": 14,
   "metadata": {
    "id": "lK6lKPYC6S3u"
   },
   "outputs": [],
   "source": [
    "# Definiendo arquitectura de la red neuronal\n",
    "model = Sequential()  \n",
    "model.add(Dense(100,input_shape=(vocab_size,), activation='relu'))\n",
    "model.add(Dense(vocab_size, activation='softmax'))\n",
    "\n",
    "model.compile(loss='CategoricalCrossentropy', optimizer='rmsprop', metrics=['accuracy'])  "
   ]
  },
  {
   "cell_type": "code",
   "execution_count": 15,
   "metadata": {
    "colab": {
     "base_uri": "https://localhost:8080/"
    },
    "id": "zqM7OnIV6S3v",
    "outputId": "4ab2c00b-7206-4224-f1c6-6e2de4765b86"
   },
   "outputs": [
    {
     "name": "stdout",
     "output_type": "stream",
     "text": [
      "Epoch 1/50\n",
      "160/160 [==============================] - 1s 5ms/step - loss: 6.7439 - accuracy: 0.0841\n",
      "Epoch 2/50\n",
      "160/160 [==============================] - 1s 5ms/step - loss: 5.9854 - accuracy: 0.0858\n",
      "Epoch 3/50\n",
      "160/160 [==============================] - 1s 5ms/step - loss: 5.7775 - accuracy: 0.0878\n",
      "Epoch 4/50\n",
      "160/160 [==============================] - 1s 5ms/step - loss: 5.6256 - accuracy: 0.1013\n",
      "Epoch 5/50\n",
      "160/160 [==============================] - 1s 5ms/step - loss: 5.4853 - accuracy: 0.1117\n",
      "Epoch 6/50\n",
      "160/160 [==============================] - 1s 5ms/step - loss: 5.3592 - accuracy: 0.1186\n",
      "Epoch 7/50\n",
      "160/160 [==============================] - 1s 5ms/step - loss: 5.2358 - accuracy: 0.1252\n",
      "Epoch 8/50\n",
      "160/160 [==============================] - 1s 5ms/step - loss: 5.1193 - accuracy: 0.1325\n",
      "Epoch 9/50\n",
      "160/160 [==============================] - 1s 5ms/step - loss: 5.0059 - accuracy: 0.1370\n",
      "Epoch 10/50\n",
      "160/160 [==============================] - 1s 5ms/step - loss: 4.8930 - accuracy: 0.1440\n",
      "Epoch 11/50\n",
      "160/160 [==============================] - 1s 5ms/step - loss: 4.7805 - accuracy: 0.1544\n",
      "Epoch 12/50\n",
      "160/160 [==============================] - 1s 5ms/step - loss: 4.6697 - accuracy: 0.1634\n",
      "Epoch 13/50\n",
      "160/160 [==============================] - 1s 5ms/step - loss: 4.5572 - accuracy: 0.1746\n",
      "Epoch 14/50\n",
      "160/160 [==============================] - 1s 5ms/step - loss: 4.4452 - accuracy: 0.1922\n",
      "Epoch 15/50\n",
      "160/160 [==============================] - 1s 5ms/step - loss: 4.3350 - accuracy: 0.2065\n",
      "Epoch 16/50\n",
      "160/160 [==============================] - 1s 5ms/step - loss: 4.2238 - accuracy: 0.2293\n",
      "Epoch 17/50\n",
      "160/160 [==============================] - 1s 5ms/step - loss: 4.1136 - accuracy: 0.2461\n",
      "Epoch 18/50\n",
      "160/160 [==============================] - 1s 5ms/step - loss: 4.0032 - accuracy: 0.2677\n",
      "Epoch 19/50\n",
      "160/160 [==============================] - 1s 5ms/step - loss: 3.8942 - accuracy: 0.2883\n",
      "Epoch 20/50\n",
      "160/160 [==============================] - 1s 5ms/step - loss: 3.7841 - accuracy: 0.3063\n",
      "Epoch 21/50\n",
      "160/160 [==============================] - 1s 5ms/step - loss: 3.6751 - accuracy: 0.3210\n",
      "Epoch 22/50\n",
      "160/160 [==============================] - 1s 5ms/step - loss: 3.5672 - accuracy: 0.3386\n",
      "Epoch 23/50\n",
      "160/160 [==============================] - 1s 5ms/step - loss: 3.4561 - accuracy: 0.3572\n",
      "Epoch 24/50\n",
      "160/160 [==============================] - 1s 5ms/step - loss: 3.3452 - accuracy: 0.3745\n",
      "Epoch 25/50\n",
      "160/160 [==============================] - 1s 5ms/step - loss: 3.2371 - accuracy: 0.3919\n",
      "Epoch 26/50\n",
      "160/160 [==============================] - 1s 5ms/step - loss: 3.1289 - accuracy: 0.4094\n",
      "Epoch 27/50\n",
      "160/160 [==============================] - 1s 5ms/step - loss: 3.0190 - accuracy: 0.4299\n",
      "Epoch 28/50\n",
      "160/160 [==============================] - 1s 5ms/step - loss: 2.9100 - accuracy: 0.4450\n",
      "Epoch 29/50\n",
      "160/160 [==============================] - 1s 5ms/step - loss: 2.8026 - accuracy: 0.4625\n",
      "Epoch 30/50\n",
      "160/160 [==============================] - 1s 5ms/step - loss: 2.6943 - accuracy: 0.4785\n",
      "Epoch 31/50\n",
      "160/160 [==============================] - 1s 5ms/step - loss: 2.5859 - accuracy: 0.4932\n",
      "Epoch 32/50\n",
      "160/160 [==============================] - 1s 5ms/step - loss: 2.4781 - accuracy: 0.5073\n",
      "Epoch 33/50\n",
      "160/160 [==============================] - 1s 5ms/step - loss: 2.3695 - accuracy: 0.5238\n",
      "Epoch 34/50\n",
      "160/160 [==============================] - 1s 5ms/step - loss: 2.2630 - accuracy: 0.5418\n",
      "Epoch 35/50\n",
      "160/160 [==============================] - 1s 5ms/step - loss: 2.1552 - accuracy: 0.5610\n",
      "Epoch 36/50\n",
      "160/160 [==============================] - 1s 5ms/step - loss: 2.0482 - accuracy: 0.5781\n",
      "Epoch 37/50\n",
      "160/160 [==============================] - 1s 5ms/step - loss: 1.9427 - accuracy: 0.5951\n",
      "Epoch 38/50\n",
      "160/160 [==============================] - 1s 5ms/step - loss: 1.8375 - accuracy: 0.6122\n",
      "Epoch 39/50\n",
      "160/160 [==============================] - 1s 5ms/step - loss: 1.7328 - accuracy: 0.6318\n",
      "Epoch 40/50\n",
      "160/160 [==============================] - 1s 5ms/step - loss: 1.6289 - accuracy: 0.6481\n",
      "Epoch 41/50\n",
      "160/160 [==============================] - 1s 5ms/step - loss: 1.5289 - accuracy: 0.6649\n",
      "Epoch 42/50\n",
      "160/160 [==============================] - 1s 5ms/step - loss: 1.4285 - accuracy: 0.6774\n",
      "Epoch 43/50\n",
      "160/160 [==============================] - 1s 5ms/step - loss: 1.3303 - accuracy: 0.6892\n",
      "Epoch 44/50\n",
      "160/160 [==============================] - 1s 5ms/step - loss: 1.2360 - accuracy: 0.7039\n",
      "Epoch 45/50\n",
      "160/160 [==============================] - 1s 5ms/step - loss: 1.1432 - accuracy: 0.7204\n",
      "Epoch 46/50\n",
      "160/160 [==============================] - 1s 5ms/step - loss: 1.0541 - accuracy: 0.7394\n",
      "Epoch 47/50\n",
      "160/160 [==============================] - 1s 5ms/step - loss: 0.9687 - accuracy: 0.7615\n",
      "Epoch 48/50\n",
      "160/160 [==============================] - 1s 5ms/step - loss: 0.8870 - accuracy: 0.7786\n",
      "Epoch 49/50\n",
      "160/160 [==============================] - 1s 5ms/step - loss: 0.8091 - accuracy: 0.7962\n",
      "Epoch 50/50\n",
      "160/160 [==============================] - 1s 5ms/step - loss: 0.7350 - accuracy: 0.8158\n"
     ]
    },
    {
     "data": {
      "text/plain": [
       "<tensorflow.python.keras.callbacks.History at 0x7fa51c7c79a0>"
      ]
     },
     "execution_count": 15,
     "metadata": {},
     "output_type": "execute_result"
    }
   ],
   "source": [
    "# Entrenando la red\n",
    "model.fit(X,Y,epochs=50)"
   ]
  },
  {
   "cell_type": "markdown",
   "metadata": {},
   "source": [
    "Para la representación de las palabras se utilizará la matriz del promedio, definida como $D$, entre las matrices de pesos $W_1$ y $W_2$"
   ]
  },
  {
   "cell_type": "code",
   "execution_count": 18,
   "metadata": {},
   "outputs": [],
   "source": [
    "# Obteniendo representaciones de los vectores con las matrices de pesos de la red\n",
    "W1 = model.get_weights()[0]\n",
    "W2 = model.get_weights()[2]\n",
    "D = 0.5*(W2.T+W1)"
   ]
  },
  {
   "cell_type": "markdown",
   "metadata": {
    "id": "c0WIE7O46S3y"
   },
   "source": [
    "# Punto 3: Calculando relaciones entre paises y capitales"
   ]
  },
  {
   "cell_type": "markdown",
   "metadata": {},
   "source": [
    "Para encontrar la relación entre los paises y sus capitales primero se buscó el índice correspondiente a los nombres de los paises y las capitales en el corpus."
   ]
  },
  {
   "cell_type": "code",
   "execution_count": 19,
   "metadata": {
    "id": "jeqvxj3v6S30"
   },
   "outputs": [],
   "source": [
    "# Obteniendo indices de los vectores que representan los paises y capitales\n",
    "peru_index      = word_to_index['peru']\n",
    "lima_index      = word_to_index['lima']\n",
    "\n",
    "nepal_index     = word_to_index['nepal']\n",
    "katmandu_index  = word_to_index['katmandu']\n",
    "\n",
    "brunei_index    = word_to_index['brunei']\n",
    "bandar_index    = word_to_index['bandar']\n",
    "\n",
    "canada_index    = word_to_index['canada']\n",
    "ottawa_index    = word_to_index['ottawa']\n",
    "\n",
    "dinamarca_index = word_to_index['dinamarca']\n",
    "copenhague_index = word_to_index['copenhague']\n",
    "\n",
    "gambia_index    = word_to_index['gambia']\n",
    "banjul_index    = word_to_index['banjul'] "
   ]
  },
  {
   "cell_type": "markdown",
   "metadata": {},
   "source": [
    "Teniendo ya los índices se busca la representación en vector correspondiente a cada país y capital"
   ]
  },
  {
   "cell_type": "code",
   "execution_count": 20,
   "metadata": {
    "id": "LP7VADPx6S30"
   },
   "outputs": [],
   "source": [
    "# Obteniendo los vectores que representan los paises y capitales\n",
    "peru = D[peru_index]\n",
    "lima = D[lima_index]\n",
    "\n",
    "nepal = D[nepal_index]\n",
    "katmandu = D[katmandu_index]\n",
    "\n",
    "brunei = D[brunei_index]\n",
    "bandar = D[bandar_index]\n",
    "\n",
    "canada = D[canada_index]\n",
    "ottawa = D[ottawa_index]\n",
    "\n",
    "dinamarca = D[dinamarca_index]\n",
    "copenhague = D[copenhague_index]\n",
    "\n",
    "gambia = D[gambia_index]\n",
    "banjul = D[banjul_index]"
   ]
  },
  {
   "cell_type": "markdown",
   "metadata": {},
   "source": [
    "Para obtener el mejor resultado, calculamos el vector de diferencia de 5 de los 6 paíes, y posteriormente calculamos el promedio entre los 5. De esta forma se obtiene un vector, denominado como **capital**, el cual será el vector representativo de las relaciones entre países y capítales"
   ]
  },
  {
   "cell_type": "code",
   "execution_count": 21,
   "metadata": {
    "id": "HbzucVPr6S31"
   },
   "outputs": [],
   "source": [
    "# Calculando relaciones entre paises y capitales\n",
    "\n",
    "r_peru   = peru-lima\n",
    "r_nepal  = nepal- katmandu\n",
    "r_brunei = brunei-bandar\n",
    "r_canada = canada-ottawa\n",
    "r_dinamarca = dinamarca-copenhague\n",
    "\n",
    "# Vector representativo\n",
    "capital = np.array([r_peru,r_nepal,r_brunei,r_canada,r_dinamarca]).mean(axis=0)"
   ]
  },
  {
   "cell_type": "markdown",
   "metadata": {},
   "source": [
    "# Punto 4: Locally Sensitive Hashing"
   ]
  },
  {
   "cell_type": "markdown",
   "metadata": {},
   "source": [
    "Para obtener las palabras del corpus que son más parecidas a las capitales que buscamos, utilizamos el algoritmo de **Locally Sensitive Hashing** implementado en la librería lshashpy3 la cual se encuentra en: https://pypi.org/project/lshashpy3/\n",
    "\n",
    "En este caso se crean 4 hiperplanos sobre vectores de dimension 100 (vectores de la matriz $D$) y se aplican 10 repeticiones aleatorias. Esto último para obtener los mejores resultados."
   ]
  },
  {
   "cell_type": "code",
   "execution_count": 78,
   "metadata": {
    "id": "IJoDEKLq6S32"
   },
   "outputs": [],
   "source": [
    "# Modelo con 4 divisiones y vectores de R^100\n",
    "lsh = lshash.LSHash(4, 100,num_hashtables=10)\n",
    "\n",
    "# Ingresamos todos los vectores del corpus (vectores fila de la matriz D), para alimentar al algoritmo\n",
    "for word in D:\n",
    "    lsh.index(word)"
   ]
  },
  {
   "cell_type": "markdown",
   "metadata": {},
   "source": [
    "Finalmnete por cada uno de los 6 países se les aplica la operación:\n",
    "$$capital\\_del\\_pais = pais + capital$$\n",
    "\n",
    "en donde $capital$ es el vector representativo anteriormente calculado. Después se realiza la búsqueda de los vectores del corpus más cercanos utilizando el algoritmo de locally sensitive hashing y se verifica si la capital correspondiente si se encuentra en ese conjunto."
   ]
  },
  {
   "cell_type": "markdown",
   "metadata": {},
   "source": [
    "### Peru"
   ]
  },
  {
   "cell_type": "code",
   "execution_count": 79,
   "metadata": {},
   "outputs": [
    {
     "name": "stdout",
     "output_type": "stream",
     "text": [
      "lima está entre las más cercanas? si\n"
     ]
    }
   ],
   "source": [
    "# Consultando vector en el modelo\n",
    "capital_del_pais = peru+capital\n",
    "nn = lsh.query(list(capital_del_pais), distance_func=\"cosine\")\n",
    "\n",
    "# Verificando que existe\n",
    "palabras_cercanas = [index_to_word[getIndex(D,nn[i][0][0])] for i in range(len(nn))]\n",
    "print('lima está entre las más cercanas? '+('si' if 'lima' in palabras_cercanas else 'no'))  "
   ]
  },
  {
   "cell_type": "markdown",
   "metadata": {},
   "source": [
    "### Nepal"
   ]
  },
  {
   "cell_type": "code",
   "execution_count": 80,
   "metadata": {
    "colab": {
     "base_uri": "https://localhost:8080/"
    },
    "id": "GngtdWmy7Iim",
    "outputId": "1260270d-e29a-4098-df12-5969b05e41e2"
   },
   "outputs": [
    {
     "name": "stdout",
     "output_type": "stream",
     "text": [
      "katmandu está entre las más cercanas? si\n"
     ]
    }
   ],
   "source": [
    "# Consultando vector en el modelo\n",
    "capital_del_pais = nepal+capital\n",
    "nn = lsh.query(list(capital_del_pais), distance_func=\"cosine\")\n",
    "\n",
    "# Verificando que existe\n",
    "palabras_cercanas = [index_to_word[getIndex(D,nn[i][0][0])] for i in range(len(nn))]\n",
    "print('katmandu está entre las más cercanas? '+('si' if 'katmandu' in palabras_cercanas else 'no'))  "
   ]
  },
  {
   "cell_type": "markdown",
   "metadata": {},
   "source": [
    "### Brunei"
   ]
  },
  {
   "cell_type": "code",
   "execution_count": 81,
   "metadata": {},
   "outputs": [
    {
     "name": "stdout",
     "output_type": "stream",
     "text": [
      "bandar está entre las más cercanas? si\n"
     ]
    }
   ],
   "source": [
    "# Consultando vector en el modelo\n",
    "capital_del_pais = brunei+capital\n",
    "nn = lsh.query(list(capital_del_pais), distance_func=\"cosine\")\n",
    "\n",
    "# Verificando que existe\n",
    "palabras_cercanas = [index_to_word[getIndex(D,nn[i][0][0])] for i in range(len(nn))]\n",
    "print('bandar está entre las más cercanas? '+('si' if 'bandar' in palabras_cercanas else 'no'))  "
   ]
  },
  {
   "cell_type": "markdown",
   "metadata": {},
   "source": [
    "### Canada"
   ]
  },
  {
   "cell_type": "code",
   "execution_count": 82,
   "metadata": {},
   "outputs": [
    {
     "name": "stdout",
     "output_type": "stream",
     "text": [
      "ottawa está entre las más cercanas? si\n"
     ]
    }
   ],
   "source": [
    "# Consultando vector en el modelo\n",
    "capital_del_pais = canada+capital\n",
    "nn = lsh.query(list(capital_del_pais), distance_func=\"cosine\")\n",
    "\n",
    "# Verificando que existe\n",
    "palabras_cercanas = [index_to_word[getIndex(D,nn[i][0][0])] for i in range(len(nn))]\n",
    "print('ottawa está entre las más cercanas? '+('si' if 'ottawa' in palabras_cercanas else 'no'))  "
   ]
  },
  {
   "cell_type": "markdown",
   "metadata": {},
   "source": [
    "### Dinamarca"
   ]
  },
  {
   "cell_type": "code",
   "execution_count": 83,
   "metadata": {},
   "outputs": [
    {
     "name": "stdout",
     "output_type": "stream",
     "text": [
      "copenhague está entre las más cercanas? si\n"
     ]
    }
   ],
   "source": [
    "# Consultando vector en el modelo\n",
    "capital_del_pais = dinamarca+capital\n",
    "nn = lsh.query(list(capital_del_pais), distance_func=\"cosine\")\n",
    "\n",
    "# Verificando que existe\n",
    "palabras_cercanas = [index_to_word[getIndex(D,nn[i][0][0])] for i in range(len(nn))]\n",
    "print('copenhague está entre las más cercanas? '+('si' if 'copenhague' in palabras_cercanas else 'no'))  "
   ]
  },
  {
   "cell_type": "markdown",
   "metadata": {},
   "source": [
    "### Gambia"
   ]
  },
  {
   "cell_type": "code",
   "execution_count": 84,
   "metadata": {},
   "outputs": [
    {
     "name": "stdout",
     "output_type": "stream",
     "text": [
      "banjul está entre las más cercanas? no\n"
     ]
    }
   ],
   "source": [
    "# Consultando vector en el modelo\n",
    "capital_del_pais = gambia+capital\n",
    "nn = lsh.query(list(capital_del_pais), distance_func=\"cosine\")\n",
    "\n",
    "# Verificando que existe\n",
    "palabras_cercanas = [index_to_word[getIndex(D,nn[i][0][0])] for i in range(len(nn))]\n",
    "print('banjul está entre las más cercanas? '+('si' if 'banjul' in palabras_cercanas else 'no'))  "
   ]
  },
  {
   "cell_type": "markdown",
   "metadata": {},
   "source": [
    "# Punto 5: Graficando vectores de paises y capitales con PCA"
   ]
  },
  {
   "cell_type": "markdown",
   "metadata": {},
   "source": [
    "Para poder ver de forma gráfica las relaciones entre los vectores de los paises y las capitales se aplicará PCA para obtener vectores de $R^2$ y $R^3$, los cuales serán graficados en sus respectivos espacios.\n",
    "\n",
    "Primero se obtendrá una matriz, en este caso $M$, con los vectores correspondientes a los paises y las capitales."
   ]
  },
  {
   "cell_type": "code",
   "execution_count": 86,
   "metadata": {},
   "outputs": [],
   "source": [
    "M_pais = ['peru','nepal','brunei','canada','dinamarca','gambia','lima','katmandu','bandar','ottawa','copenhague','banjul']\n",
    "M_indx = [word_to_index[word] for word in M_pais]\n",
    "M = D[M_indx,:]"
   ]
  },
  {
   "cell_type": "markdown",
   "metadata": {},
   "source": [
    "## 2D"
   ]
  },
  {
   "cell_type": "code",
   "execution_count": 87,
   "metadata": {},
   "outputs": [
    {
     "name": "stdout",
     "output_type": "stream",
     "text": [
      "Varianza explicada:  [0.22668505 0.12307487]\n"
     ]
    }
   ],
   "source": [
    "# Aplicando PCA con 2 componentes\n",
    "pca = PCA(n_components=2)\n",
    "pca.fit(M.T)\n",
    "\n",
    "print(\"Varianza explicada: \",pca.explained_variance_ratio_)"
   ]
  },
  {
   "cell_type": "code",
   "execution_count": 89,
   "metadata": {},
   "outputs": [
    {
     "data": {
      "image/png": "[encoded data removed]",
      "text/plain": [
       "<Figure size 576x576 with 1 Axes>"
      ]
     },
     "metadata": {
      "needs_background": "light"
     },
     "output_type": "display_data"
    }
   ],
   "source": [
    "fig = plt.figure(figsize=(8,8))\n",
    "ax = plt.axes()\n",
    "\n",
    "x = pca.components_[0,:]\n",
    "y = pca.components_[1,:]\n",
    "\n",
    "labels = ['peru','nepal','brunei','canada','dinamarca','gambia','lima','katmandu','bandar','ottawa','copenhague','banjul']\n",
    "\n",
    "plt.scatter(x[0:6],y[0:6],color='b')\n",
    "plt.scatter(x[6:],y[6:],color='r')\n",
    "\n",
    "for label in range(12):\n",
    "    ax.text(x[label],y[label],labels[label])"
   ]
  },
  {
   "cell_type": "markdown",
   "metadata": {},
   "source": [
    "## 3D"
   ]
  },
  {
   "cell_type": "code",
   "execution_count": 90,
   "metadata": {
    "colab": {
     "base_uri": "https://localhost:8080/"
    },
    "id": "CtBwaR3o6S34",
    "outputId": "72aa4da1-fa0e-41d0-887d-5cfb997225b4"
   },
   "outputs": [
    {
     "name": "stdout",
     "output_type": "stream",
     "text": [
      "Varianza explicada:  [0.22668505 0.12307487 0.11915085]\n"
     ]
    }
   ],
   "source": [
    "# Aplicando PCA con 3 componentes\n",
    "pca = PCA(n_components=3)\n",
    "pca.fit(M.T)\n",
    "\n",
    "print(\"Varianza explicada: \",pca.explained_variance_ratio_)"
   ]
  },
  {
   "cell_type": "code",
   "execution_count": 91,
   "metadata": {
    "colab": {
     "base_uri": "https://localhost:8080/",
     "height": 575
    },
    "id": "J9QoZZpbScdq",
    "outputId": "2c456b4a-44a8-47a7-8488-d7dac1b1c37c"
   },
   "outputs": [
    {
     "data": {
      "image/png": "[encoded data removed]",
      "text/plain": [
       "<Figure size 720x720 with 1 Axes>"
      ]
     },
     "metadata": {
      "needs_background": "light"
     },
     "output_type": "display_data"
    }
   ],
   "source": [
    "# Graficando las componentes de PCA\n",
    "fig = plt.figure(figsize=(10,10))\n",
    "ax = plt.axes(projection='3d')\n",
    "\n",
    "\n",
    "labels = ['peru','nepal','brunei','canada','dinamarca','gambia','lima','katmandu','bandar','ottawa','copenhague','banjul']\n",
    "\n",
    "# componentes de PCA\n",
    "xdata = pca.components_[0,:]\n",
    "ydata = pca.components_[1,:]\n",
    "zdata = pca.components_[2,:]\n",
    "\n",
    "ax.scatter3D(xdata[0:6], ydata[0:6], zdata[0:6],color='b')\n",
    "ax.scatter3D(xdata[6:], ydata[6:], zdata[6:],color='r')\n",
    "\n",
    "for label in range(12):\n",
    "    ax.text(xdata[label],ydata[label],zdata[label],labels[label])"
   ]
  },
  {
   "cell_type": "markdown",
   "metadata": {
    "id": "5Uc0c3R4Z99k"
   },
   "source": [
    "# Punto 6: Encontrando sinónimos"
   ]
  },
  {
   "cell_type": "markdown",
   "metadata": {},
   "source": [
    "Para encontrar los sinonimos se tomaron 5 palabras del corpus (restos, mundo, antigua, comunidades y divide) y se aplicó el mismo algoritmo de locally sensitive hashing para encontrar las 10 palabras más cercanas.\n",
    "\n",
    "Al igual que en el caso anterior se tomaron 4 hiperplanos para vectores de $R^{100}$ (vectores de la matriz $D$)"
   ]
  },
  {
   "cell_type": "code",
   "execution_count": 92,
   "metadata": {
    "id": "MwQuP6W4Z_MX"
   },
   "outputs": [],
   "source": [
    "# Modelo con 4 divisiones y vectores de R^100\n",
    "lsh = lshash.LSHash(4, 100)\n",
    "\n",
    "for word in D:\n",
    "    lsh.index(word)"
   ]
  },
  {
   "cell_type": "code",
   "execution_count": 93,
   "metadata": {
    "id": "Du9C6hYzaOtL"
   },
   "outputs": [],
   "source": [
    "# Palabras a buscar sinonimos\n",
    "words = ['restos','mundo','antigua','comunidades','divide']\n",
    "\n",
    "# Indices y vectores de las palabras\n",
    "words_indx = [word_to_index[w] for w in words]\n",
    "indx_vec = [D[i] for i in words_indx]"
   ]
  },
  {
   "cell_type": "code",
   "execution_count": 98,
   "metadata": {
    "colab": {
     "base_uri": "https://localhost:8080/"
    },
    "id": "GyJiHmQxaLFn",
    "outputId": "f41a720f-e988-4e7c-c34e-3a1e7849cc14"
   },
   "outputs": [
    {
     "name": "stdout",
     "output_type": "stream",
     "text": [
      "-> Los sinonimos de  restos  son: \n",
      " ['restos', 'extensa', 'tratandose', 'acumulacion', 'dirigida', 'edificacion', 'longitud', 'mantenimiento', 'historiografica', 'hubo']\n",
      "\n",
      "-> Los sinonimos de  mundo  son: \n",
      " ['mundo', 'conquista', 'guano', 'independencia', 'peru', 'nota', 'america', 'oncenio', 'antigua', 'publica']\n",
      "\n",
      "-> Los sinonimos de  antigua  son: \n",
      " ['antigua', 'independencia', 'nota', 'oncenio', 'mundo', 'guano', 'sociales', 'conquista', 'centrada', 'arquitectura']\n",
      "\n",
      "-> Los sinonimos de  comunidades  son: \n",
      " ['comunidades', 'piezas', 'venezuela', 'arenas', 'culturas', 'alrededor', 'guerras', 'provinciales', 'ratifico', 'manila']\n",
      "\n",
      "-> Los sinonimos de  divide  son: \n",
      " ['divide', 'definieron', 'articula', 'codos', 'esa', 'unieron', 'zigzag', 'libro', 'sea', 'aldea']\n",
      "\n"
     ]
    }
   ],
   "source": [
    "# Buscando las 10 palabras que mas se parecen\n",
    "top = 10\n",
    "for i,word in enumerate(indx_vec):\n",
    "    vecinos = lsh.query(word.tolist(),num_results=top,distance_func='cosine')\n",
    "    print('-> Los sinonimos de ',words[i], ' son: \\n',[index_to_word[getIndex(D,vecinos[i][0][0])] for i in range(len(vecinos))])\n",
    "    print(\"\")"
   ]
  },
  {
   "cell_type": "markdown",
   "metadata": {
    "id": "VQwqqZMMlw_1"
   },
   "source": [
    "# Punto 7 y 8: obteniendo corpus y representación de vectores"
   ]
  },
  {
   "cell_type": "markdown",
   "metadata": {},
   "source": [
    "Para la traducción se buscaron varios cuentos infantiles de internet para obtener el corpus en español (archivo cuento.txt) y se utilizó el traductor de google para obtener el corpus en ingles (archivo translate_f.txt). Para cada uno se entrenó una red y se obtuvieron las correspondientes matrices de pesos para calcular la matriz promedio para español e ingles ($D\\_E$ y $D\\_I$, correspondientemente)."
   ]
  },
  {
   "cell_type": "markdown",
   "metadata": {},
   "source": [
    "### Español"
   ]
  },
  {
   "cell_type": "code",
   "execution_count": 99,
   "metadata": {
    "id": "lvzAc0m5lyQA"
   },
   "outputs": [],
   "source": [
    "# Ejecución del código\n",
    "\n",
    "fname = 'cuento.txt' #Nombre del archivo\n",
    "C_E = 2 # Número de palabras de contexto a la derecha y a la izquierda\n",
    "text_E = get_file_data(fname, stop_word_removal='no')\n",
    "word_to_index_E,index_to_word_E,corpus_E,vocab_size_E,length_of_corpus_E = generate_dictinoary_data(text_E)\n",
    "training_data_E,training_sample_words_E = generate_training_data(corpus_E,C_E,vocab_size_E,word_to_index_E,length_of_corpus_E,sample=None)"
   ]
  },
  {
   "cell_type": "markdown",
   "metadata": {},
   "source": [
    "El tamaño del corpus en epañol es de 2382 y del vocabulario de 1027, por esta razón se tomo el valor $N=50$ para la capa intermedia de la red."
   ]
  },
  {
   "cell_type": "code",
   "execution_count": 101,
   "metadata": {},
   "outputs": [],
   "source": [
    "# Definiendo red neuronal\n",
    "model_E = Sequential()  \n",
    "model_E.add(Dense(50,input_shape=(vocab_size_E,), activation='relu'))\n",
    "model_E.add(Dense(vocab_size_E, activation='softmax'))\n",
    "\n",
    "model_E.compile(loss='CategoricalCrossentropy', optimizer='rmsprop', metrics=['accuracy'])  "
   ]
  },
  {
   "cell_type": "code",
   "execution_count": 102,
   "metadata": {},
   "outputs": [
    {
     "name": "stdout",
     "output_type": "stream",
     "text": [
      "Epoch 1/100\n",
      "53/53 [==============================] - 0s 8ms/step - loss: 6.8909 - accuracy: 0.0372 - val_loss: 6.8411 - val_accuracy: 0.0448\n",
      "Epoch 2/100\n",
      "53/53 [==============================] - 0s 4ms/step - loss: 6.6192 - accuracy: 0.0498 - val_loss: 6.6438 - val_accuracy: 0.0420\n",
      "Epoch 3/100\n",
      "53/53 [==============================] - 0s 4ms/step - loss: 6.1892 - accuracy: 0.0522 - val_loss: 6.5527 - val_accuracy: 0.0406\n",
      "Epoch 4/100\n",
      "53/53 [==============================] - 0s 4ms/step - loss: 5.8979 - accuracy: 0.0516 - val_loss: 6.6855 - val_accuracy: 0.0406\n",
      "Epoch 5/100\n",
      "53/53 [==============================] - 0s 5ms/step - loss: 5.7800 - accuracy: 0.0522 - val_loss: 6.8348 - val_accuracy: 0.0406\n",
      "Epoch 6/100\n",
      "53/53 [==============================] - 0s 5ms/step - loss: 5.6954 - accuracy: 0.0522 - val_loss: 6.9685 - val_accuracy: 0.0406\n",
      "Epoch 7/100\n",
      "53/53 [==============================] - 0s 5ms/step - loss: 5.6164 - accuracy: 0.0522 - val_loss: 7.0730 - val_accuracy: 0.0406\n",
      "Epoch 8/100\n",
      "53/53 [==============================] - 0s 5ms/step - loss: 5.5374 - accuracy: 0.0522 - val_loss: 7.2118 - val_accuracy: 0.0406\n",
      "Epoch 9/100\n",
      "53/53 [==============================] - 0s 5ms/step - loss: 5.4559 - accuracy: 0.0522 - val_loss: 7.2973 - val_accuracy: 0.0406\n",
      "Epoch 10/100\n",
      "53/53 [==============================] - 0s 4ms/step - loss: 5.3737 - accuracy: 0.0522 - val_loss: 7.3806 - val_accuracy: 0.0406\n",
      "Epoch 11/100\n",
      "53/53 [==============================] - 0s 4ms/step - loss: 5.2904 - accuracy: 0.0522 - val_loss: 7.4750 - val_accuracy: 0.0448\n",
      "Epoch 12/100\n",
      "53/53 [==============================] - 0s 4ms/step - loss: 5.2050 - accuracy: 0.0522 - val_loss: 7.5916 - val_accuracy: 0.0448\n",
      "Epoch 13/100\n",
      "53/53 [==============================] - 0s 4ms/step - loss: 5.1187 - accuracy: 0.0558 - val_loss: 7.7066 - val_accuracy: 0.0448\n",
      "Epoch 14/100\n",
      "53/53 [==============================] - 0s 5ms/step - loss: 5.0302 - accuracy: 0.0528 - val_loss: 7.8419 - val_accuracy: 0.0462\n",
      "Epoch 15/100\n",
      "53/53 [==============================] - 0s 4ms/step - loss: 4.9393 - accuracy: 0.0534 - val_loss: 7.8981 - val_accuracy: 0.0503\n",
      "Epoch 16/100\n",
      "53/53 [==============================] - 0s 4ms/step - loss: 4.8445 - accuracy: 0.0606 - val_loss: 8.0237 - val_accuracy: 0.0517\n",
      "Epoch 17/100\n",
      "53/53 [==============================] - 0s 4ms/step - loss: 4.7455 - accuracy: 0.0660 - val_loss: 8.1732 - val_accuracy: 0.0559\n",
      "Epoch 18/100\n",
      "53/53 [==============================] - 0s 5ms/step - loss: 4.6424 - accuracy: 0.0702 - val_loss: 8.3265 - val_accuracy: 0.0573\n",
      "Epoch 19/100\n",
      "53/53 [==============================] - 0s 5ms/step - loss: 4.5362 - accuracy: 0.0870 - val_loss: 8.4242 - val_accuracy: 0.0587\n",
      "Epoch 20/100\n",
      "53/53 [==============================] - 0s 5ms/step - loss: 4.4263 - accuracy: 0.0864 - val_loss: 8.5549 - val_accuracy: 0.0615\n",
      "Epoch 21/100\n",
      "53/53 [==============================] - 0s 4ms/step - loss: 4.3105 - accuracy: 0.0960 - val_loss: 8.7363 - val_accuracy: 0.0629\n",
      "Epoch 22/100\n",
      "53/53 [==============================] - 0s 5ms/step - loss: 4.1904 - accuracy: 0.0954 - val_loss: 8.8857 - val_accuracy: 0.0671\n",
      "Epoch 23/100\n",
      "53/53 [==============================] - 0s 4ms/step - loss: 4.0659 - accuracy: 0.1128 - val_loss: 8.9937 - val_accuracy: 0.0671\n",
      "Epoch 24/100\n",
      "53/53 [==============================] - 0s 4ms/step - loss: 3.9346 - accuracy: 0.1212 - val_loss: 9.1187 - val_accuracy: 0.0713\n",
      "Epoch 25/100\n",
      "53/53 [==============================] - 0s 5ms/step - loss: 3.7983 - accuracy: 0.1374 - val_loss: 9.2245 - val_accuracy: 0.0727\n",
      "Epoch 26/100\n",
      "53/53 [==============================] - 0s 5ms/step - loss: 3.6557 - accuracy: 0.1554 - val_loss: 9.3704 - val_accuracy: 0.0699\n",
      "Epoch 27/100\n",
      "53/53 [==============================] - 0s 5ms/step - loss: 3.5079 - accuracy: 0.1704 - val_loss: 9.4870 - val_accuracy: 0.0685\n",
      "Epoch 28/100\n",
      "53/53 [==============================] - 0s 5ms/step - loss: 3.3545 - accuracy: 0.1866 - val_loss: 9.6054 - val_accuracy: 0.0699\n",
      "Epoch 29/100\n",
      "53/53 [==============================] - 0s 5ms/step - loss: 3.1955 - accuracy: 0.2256 - val_loss: 9.7312 - val_accuracy: 0.0699\n",
      "Epoch 30/100\n",
      "53/53 [==============================] - 0s 5ms/step - loss: 3.0320 - accuracy: 0.2639 - val_loss: 9.8143 - val_accuracy: 0.0713\n",
      "Epoch 31/100\n",
      "53/53 [==============================] - 0s 5ms/step - loss: 2.8644 - accuracy: 0.3077 - val_loss: 9.9249 - val_accuracy: 0.0727\n",
      "Epoch 32/100\n",
      "53/53 [==============================] - 0s 5ms/step - loss: 2.6922 - accuracy: 0.3761 - val_loss: 10.0669 - val_accuracy: 0.0727\n",
      "Epoch 33/100\n",
      "53/53 [==============================] - 0s 4ms/step - loss: 2.5220 - accuracy: 0.4325 - val_loss: 10.1478 - val_accuracy: 0.0727\n",
      "Epoch 34/100\n",
      "53/53 [==============================] - 0s 5ms/step - loss: 2.3503 - accuracy: 0.4937 - val_loss: 10.2652 - val_accuracy: 0.0727\n",
      "Epoch 35/100\n",
      "53/53 [==============================] - 0s 4ms/step - loss: 2.1786 - accuracy: 0.5489 - val_loss: 10.3617 - val_accuracy: 0.0685\n",
      "Epoch 36/100\n",
      "53/53 [==============================] - 0s 5ms/step - loss: 2.0093 - accuracy: 0.6125 - val_loss: 10.4897 - val_accuracy: 0.0685\n",
      "Epoch 37/100\n",
      "53/53 [==============================] - 0s 4ms/step - loss: 1.8482 - accuracy: 0.6641 - val_loss: 10.5967 - val_accuracy: 0.0699\n",
      "Epoch 38/100\n",
      "53/53 [==============================] - 0s 4ms/step - loss: 1.6949 - accuracy: 0.7139 - val_loss: 10.7012 - val_accuracy: 0.0713\n",
      "Epoch 39/100\n",
      "53/53 [==============================] - 0s 4ms/step - loss: 1.5472 - accuracy: 0.7690 - val_loss: 10.8092 - val_accuracy: 0.0671\n",
      "Epoch 40/100\n",
      "53/53 [==============================] - 0s 5ms/step - loss: 1.4107 - accuracy: 0.8038 - val_loss: 10.9253 - val_accuracy: 0.0685\n",
      "Epoch 41/100\n",
      "53/53 [==============================] - 0s 4ms/step - loss: 1.2856 - accuracy: 0.8230 - val_loss: 11.0358 - val_accuracy: 0.0685\n",
      "Epoch 42/100\n",
      "53/53 [==============================] - 0s 4ms/step - loss: 1.1718 - accuracy: 0.8512 - val_loss: 11.1498 - val_accuracy: 0.0629\n",
      "Epoch 43/100\n",
      "53/53 [==============================] - 0s 4ms/step - loss: 1.0675 - accuracy: 0.8722 - val_loss: 11.2654 - val_accuracy: 0.0629\n",
      "Epoch 44/100\n",
      "53/53 [==============================] - 0s 5ms/step - loss: 0.9744 - accuracy: 0.8866 - val_loss: 11.3472 - val_accuracy: 0.0643\n",
      "Epoch 45/100\n",
      "53/53 [==============================] - 0s 5ms/step - loss: 0.8895 - accuracy: 0.8998 - val_loss: 11.4698 - val_accuracy: 0.0629\n",
      "Epoch 46/100\n",
      "53/53 [==============================] - 0s 4ms/step - loss: 0.8155 - accuracy: 0.9082 - val_loss: 11.5510 - val_accuracy: 0.0629\n",
      "Epoch 47/100\n",
      "53/53 [==============================] - 0s 4ms/step - loss: 0.7483 - accuracy: 0.9178 - val_loss: 11.6414 - val_accuracy: 0.0643\n",
      "Epoch 48/100\n",
      "53/53 [==============================] - 0s 4ms/step - loss: 0.6878 - accuracy: 0.9250 - val_loss: 11.7308 - val_accuracy: 0.0615\n",
      "Epoch 49/100\n",
      "53/53 [==============================] - 0s 4ms/step - loss: 0.6329 - accuracy: 0.9316 - val_loss: 11.8174 - val_accuracy: 0.0615\n",
      "Epoch 50/100\n",
      "53/53 [==============================] - 0s 4ms/step - loss: 0.5831 - accuracy: 0.9322 - val_loss: 11.9024 - val_accuracy: 0.0657\n",
      "Epoch 51/100\n",
      "53/53 [==============================] - 0s 4ms/step - loss: 0.5379 - accuracy: 0.9424 - val_loss: 11.9864 - val_accuracy: 0.0643\n",
      "Epoch 52/100\n",
      "53/53 [==============================] - 0s 4ms/step - loss: 0.4965 - accuracy: 0.9472 - val_loss: 12.0444 - val_accuracy: 0.0615\n",
      "Epoch 53/100\n",
      "53/53 [==============================] - 0s 4ms/step - loss: 0.4591 - accuracy: 0.9580 - val_loss: 12.1235 - val_accuracy: 0.0587\n",
      "Epoch 54/100\n",
      "53/53 [==============================] - 0s 4ms/step - loss: 0.4248 - accuracy: 0.9586 - val_loss: 12.2083 - val_accuracy: 0.0629\n",
      "Epoch 55/100\n",
      "53/53 [==============================] - 0s 4ms/step - loss: 0.3928 - accuracy: 0.9634 - val_loss: 12.2795 - val_accuracy: 0.0615\n",
      "Epoch 56/100\n",
      "53/53 [==============================] - 0s 4ms/step - loss: 0.3638 - accuracy: 0.9670 - val_loss: 12.3490 - val_accuracy: 0.0629\n",
      "Epoch 57/100\n",
      "53/53 [==============================] - 0s 5ms/step - loss: 0.3365 - accuracy: 0.9718 - val_loss: 12.3933 - val_accuracy: 0.0615\n",
      "Epoch 58/100\n"
     ]
    },
    {
     "name": "stdout",
     "output_type": "stream",
     "text": [
      "53/53 [==============================] - 0s 5ms/step - loss: 0.3119 - accuracy: 0.9724 - val_loss: 12.4541 - val_accuracy: 0.0601\n",
      "Epoch 59/100\n",
      "53/53 [==============================] - 0s 5ms/step - loss: 0.2878 - accuracy: 0.9778 - val_loss: 12.5200 - val_accuracy: 0.0629\n",
      "Epoch 60/100\n",
      "53/53 [==============================] - 0s 4ms/step - loss: 0.2670 - accuracy: 0.9790 - val_loss: 12.5917 - val_accuracy: 0.0587\n",
      "Epoch 61/100\n",
      "53/53 [==============================] - 0s 5ms/step - loss: 0.2473 - accuracy: 0.9808 - val_loss: 12.6334 - val_accuracy: 0.0615\n",
      "Epoch 62/100\n",
      "53/53 [==============================] - 0s 5ms/step - loss: 0.2288 - accuracy: 0.9802 - val_loss: 12.6984 - val_accuracy: 0.0601\n",
      "Epoch 63/100\n",
      "53/53 [==============================] - 0s 5ms/step - loss: 0.2115 - accuracy: 0.9802 - val_loss: 12.7564 - val_accuracy: 0.0573\n",
      "Epoch 64/100\n",
      "53/53 [==============================] - 0s 4ms/step - loss: 0.1961 - accuracy: 0.9832 - val_loss: 12.8118 - val_accuracy: 0.0587\n",
      "Epoch 65/100\n",
      "53/53 [==============================] - 0s 5ms/step - loss: 0.1807 - accuracy: 0.9832 - val_loss: 12.8551 - val_accuracy: 0.0587\n",
      "Epoch 66/100\n",
      "53/53 [==============================] - 0s 5ms/step - loss: 0.1680 - accuracy: 0.9838 - val_loss: 12.9150 - val_accuracy: 0.0573\n",
      "Epoch 67/100\n",
      "53/53 [==============================] - 0s 5ms/step - loss: 0.1552 - accuracy: 0.9856 - val_loss: 12.9695 - val_accuracy: 0.0573\n",
      "Epoch 68/100\n",
      "53/53 [==============================] - 0s 4ms/step - loss: 0.1430 - accuracy: 0.9868 - val_loss: 13.0248 - val_accuracy: 0.0559\n",
      "Epoch 69/100\n",
      "53/53 [==============================] - 0s 4ms/step - loss: 0.1332 - accuracy: 0.9868 - val_loss: 13.0773 - val_accuracy: 0.0517\n",
      "Epoch 70/100\n",
      "53/53 [==============================] - 0s 5ms/step - loss: 0.1232 - accuracy: 0.9880 - val_loss: 13.1234 - val_accuracy: 0.0503\n",
      "Epoch 71/100\n",
      "53/53 [==============================] - 0s 5ms/step - loss: 0.1139 - accuracy: 0.9904 - val_loss: 13.1678 - val_accuracy: 0.0503\n",
      "Epoch 72/100\n",
      "53/53 [==============================] - 0s 5ms/step - loss: 0.1052 - accuracy: 0.9904 - val_loss: 13.2281 - val_accuracy: 0.0503\n",
      "Epoch 73/100\n",
      "53/53 [==============================] - 0s 5ms/step - loss: 0.0972 - accuracy: 0.9910 - val_loss: 13.2787 - val_accuracy: 0.0490\n",
      "Epoch 74/100\n",
      "53/53 [==============================] - 0s 5ms/step - loss: 0.0905 - accuracy: 0.9922 - val_loss: 13.3080 - val_accuracy: 0.0517\n",
      "Epoch 75/100\n",
      "53/53 [==============================] - 0s 4ms/step - loss: 0.0834 - accuracy: 0.9928 - val_loss: 13.3753 - val_accuracy: 0.0517\n",
      "Epoch 76/100\n",
      "53/53 [==============================] - 0s 4ms/step - loss: 0.0776 - accuracy: 0.9934 - val_loss: 13.4163 - val_accuracy: 0.0503\n",
      "Epoch 77/100\n",
      "53/53 [==============================] - 0s 5ms/step - loss: 0.0716 - accuracy: 0.9946 - val_loss: 13.4697 - val_accuracy: 0.0517\n",
      "Epoch 78/100\n",
      "53/53 [==============================] - 0s 5ms/step - loss: 0.0662 - accuracy: 0.9946 - val_loss: 13.5166 - val_accuracy: 0.0503\n",
      "Epoch 79/100\n",
      "53/53 [==============================] - 0s 4ms/step - loss: 0.0615 - accuracy: 0.9952 - val_loss: 13.5624 - val_accuracy: 0.0503\n",
      "Epoch 80/100\n",
      "53/53 [==============================] - 0s 5ms/step - loss: 0.0571 - accuracy: 0.9958 - val_loss: 13.6209 - val_accuracy: 0.0517\n",
      "Epoch 81/100\n",
      "53/53 [==============================] - 0s 4ms/step - loss: 0.0530 - accuracy: 0.9952 - val_loss: 13.6650 - val_accuracy: 0.0517\n",
      "Epoch 82/100\n",
      "53/53 [==============================] - 0s 5ms/step - loss: 0.0489 - accuracy: 0.9970 - val_loss: 13.7168 - val_accuracy: 0.0490\n",
      "Epoch 83/100\n",
      "53/53 [==============================] - 0s 5ms/step - loss: 0.0454 - accuracy: 0.9964 - val_loss: 13.7607 - val_accuracy: 0.0517\n",
      "Epoch 84/100\n",
      "53/53 [==============================] - 0s 5ms/step - loss: 0.0422 - accuracy: 0.9970 - val_loss: 13.8220 - val_accuracy: 0.0503\n",
      "Epoch 85/100\n",
      "53/53 [==============================] - 0s 4ms/step - loss: 0.0391 - accuracy: 0.9970 - val_loss: 13.8591 - val_accuracy: 0.0503\n",
      "Epoch 86/100\n",
      "53/53 [==============================] - 0s 5ms/step - loss: 0.0360 - accuracy: 0.9976 - val_loss: 13.9069 - val_accuracy: 0.0503\n",
      "Epoch 87/100\n",
      "53/53 [==============================] - 0s 4ms/step - loss: 0.0336 - accuracy: 0.9982 - val_loss: 13.9576 - val_accuracy: 0.0503\n",
      "Epoch 88/100\n",
      "53/53 [==============================] - 0s 4ms/step - loss: 0.0311 - accuracy: 0.9982 - val_loss: 14.0079 - val_accuracy: 0.0503\n",
      "Epoch 89/100\n",
      "53/53 [==============================] - 0s 4ms/step - loss: 0.0291 - accuracy: 0.9982 - val_loss: 14.0684 - val_accuracy: 0.0503\n",
      "Epoch 90/100\n",
      "53/53 [==============================] - 0s 4ms/step - loss: 0.0266 - accuracy: 0.9982 - val_loss: 14.1204 - val_accuracy: 0.0490\n",
      "Epoch 91/100\n",
      "53/53 [==============================] - 0s 4ms/step - loss: 0.0251 - accuracy: 0.9982 - val_loss: 14.1470 - val_accuracy: 0.0490\n",
      "Epoch 92/100\n",
      "53/53 [==============================] - 0s 4ms/step - loss: 0.0234 - accuracy: 0.9982 - val_loss: 14.2076 - val_accuracy: 0.0490\n",
      "Epoch 93/100\n",
      "53/53 [==============================] - 0s 4ms/step - loss: 0.0217 - accuracy: 0.9982 - val_loss: 14.2467 - val_accuracy: 0.0503\n",
      "Epoch 94/100\n",
      "53/53 [==============================] - 0s 5ms/step - loss: 0.0203 - accuracy: 0.9982 - val_loss: 14.2937 - val_accuracy: 0.0503\n",
      "Epoch 95/100\n",
      "53/53 [==============================] - 0s 5ms/step - loss: 0.0191 - accuracy: 0.9988 - val_loss: 14.3321 - val_accuracy: 0.0517\n",
      "Epoch 96/100\n",
      "53/53 [==============================] - 0s 5ms/step - loss: 0.0177 - accuracy: 0.9988 - val_loss: 14.3780 - val_accuracy: 0.0490\n",
      "Epoch 97/100\n",
      "53/53 [==============================] - 0s 5ms/step - loss: 0.0165 - accuracy: 0.9982 - val_loss: 14.4339 - val_accuracy: 0.0503\n",
      "Epoch 98/100\n",
      "53/53 [==============================] - 0s 4ms/step - loss: 0.0154 - accuracy: 0.9988 - val_loss: 14.4847 - val_accuracy: 0.0503\n",
      "Epoch 99/100\n",
      "53/53 [==============================] - 0s 5ms/step - loss: 0.0145 - accuracy: 0.9988 - val_loss: 14.5201 - val_accuracy: 0.0503\n",
      "Epoch 100/100\n",
      "53/53 [==============================] - 0s 4ms/step - loss: 0.0136 - accuracy: 0.9988 - val_loss: 14.5678 - val_accuracy: 0.0503\n"
     ]
    },
    {
     "data": {
      "text/plain": [
       "<tensorflow.python.keras.callbacks.History at 0x7fa4c1712250>"
      ]
     },
     "execution_count": 102,
     "metadata": {},
     "output_type": "execute_result"
    }
   ],
   "source": [
    "# Matriz de entrada y de salida\n",
    "X_E = np.array([x[1] for x in training_data_E])\n",
    "Y_E = np.array([y[0] for y in training_data_E])\n",
    "\n",
    "# Obteniendo un conjunto de entrenamiento y de testeo\n",
    "X_train_E,X_test_E,Y_train_E,Y_test_E = train_test_split(X_E,Y_E,test_size=0.3)\n",
    "\n",
    "# Entrenando\n",
    "model_E.fit(X_train_E,Y_train_E,epochs=100,validation_data=(X_test_E,Y_test_E))"
   ]
  },
  {
   "cell_type": "code",
   "execution_count": 105,
   "metadata": {},
   "outputs": [],
   "source": [
    "# Obteniendo representaciones de los vectores con las matrices de pesos\n",
    "W1 = model_E.get_weights()[0]\n",
    "W2 = model_E.get_weights()[2]\n",
    "D_E = 0.5*(W2.T+W1)"
   ]
  },
  {
   "cell_type": "markdown",
   "metadata": {},
   "source": [
    "### Ingles"
   ]
  },
  {
   "cell_type": "code",
   "execution_count": 109,
   "metadata": {
    "id": "QxzyRPFrl8JI"
   },
   "outputs": [],
   "source": [
    "fname = 'translate_f.txt' #Nombre del archivo\n",
    "C_I = 2 # Número de palabras de contexto a la derecha y a la izquierda\n",
    "text_I = get_file_data(fname, stop_word_removal='no')\n",
    "word_to_index_I,index_to_word_I,corpus_I,vocab_size_I,length_of_corpus_I = generate_dictinoary_data(text_I)\n",
    "training_data_I,training_sample_words_I = generate_training_data(corpus_I,C_I,vocab_size_I,word_to_index_I,length_of_corpus_I,sample=None)"
   ]
  },
  {
   "cell_type": "markdown",
   "metadata": {},
   "source": [
    "El tamaño del corpus en ingles es de 2615 y del vocabulario de 815, por esta razón se tomo el valor $N=50$ para la capa intermedia de la red."
   ]
  },
  {
   "cell_type": "code",
   "execution_count": 110,
   "metadata": {},
   "outputs": [],
   "source": [
    "# Definiendo red neuronal\n",
    "model_I = Sequential()  \n",
    "model_I.add(Dense(50,input_shape=(vocab_size_I,), activation='relu'))\n",
    "model_I.add(Dense(vocab_size_I, activation='softmax'))\n",
    "\n",
    "model_I.compile(loss='CategoricalCrossentropy', optimizer='rmsprop', metrics=['accuracy']) "
   ]
  },
  {
   "cell_type": "code",
   "execution_count": 111,
   "metadata": {},
   "outputs": [
    {
     "name": "stdout",
     "output_type": "stream",
     "text": [
      "Epoch 1/100\n",
      "58/58 [==============================] - 0s 9ms/step - loss: 6.6784 - accuracy: 0.0437 - val_loss: 6.5895 - val_accuracy: 0.0497\n",
      "Epoch 2/100\n",
      "58/58 [==============================] - 0s 4ms/step - loss: 6.3251 - accuracy: 0.0672 - val_loss: 6.2565 - val_accuracy: 0.0752\n",
      "Epoch 3/100\n",
      "58/58 [==============================] - 0s 4ms/step - loss: 5.8571 - accuracy: 0.0672 - val_loss: 6.1105 - val_accuracy: 0.0752\n",
      "Epoch 4/100\n",
      "58/58 [==============================] - 0s 4ms/step - loss: 5.6464 - accuracy: 0.0672 - val_loss: 6.1833 - val_accuracy: 0.0739\n",
      "Epoch 5/100\n",
      "58/58 [==============================] - 0s 5ms/step - loss: 5.5539 - accuracy: 0.0678 - val_loss: 6.2436 - val_accuracy: 0.0752\n",
      "Epoch 6/100\n",
      "58/58 [==============================] - 0s 4ms/step - loss: 5.4758 - accuracy: 0.0672 - val_loss: 6.3186 - val_accuracy: 0.0752\n",
      "Epoch 7/100\n",
      "58/58 [==============================] - 0s 4ms/step - loss: 5.4003 - accuracy: 0.0672 - val_loss: 6.3733 - val_accuracy: 0.0752\n",
      "Epoch 8/100\n",
      "58/58 [==============================] - 0s 4ms/step - loss: 5.3241 - accuracy: 0.0694 - val_loss: 6.4148 - val_accuracy: 0.0764\n",
      "Epoch 9/100\n",
      "58/58 [==============================] - 0s 4ms/step - loss: 5.2474 - accuracy: 0.0716 - val_loss: 6.4875 - val_accuracy: 0.0777\n",
      "Epoch 10/100\n",
      "58/58 [==============================] - 0s 4ms/step - loss: 5.1719 - accuracy: 0.0727 - val_loss: 6.5348 - val_accuracy: 0.0790\n",
      "Epoch 11/100\n",
      "58/58 [==============================] - 0s 4ms/step - loss: 5.0944 - accuracy: 0.0749 - val_loss: 6.6109 - val_accuracy: 0.0879\n",
      "Epoch 12/100\n",
      "58/58 [==============================] - 0s 4ms/step - loss: 5.0173 - accuracy: 0.0814 - val_loss: 6.6539 - val_accuracy: 0.0892\n",
      "Epoch 13/100\n",
      "58/58 [==============================] - 0s 4ms/step - loss: 4.9378 - accuracy: 0.0863 - val_loss: 6.7089 - val_accuracy: 0.0904\n",
      "Epoch 14/100\n",
      "58/58 [==============================] - 0s 4ms/step - loss: 4.8552 - accuracy: 0.0880 - val_loss: 6.7774 - val_accuracy: 0.0917\n",
      "Epoch 15/100\n",
      "58/58 [==============================] - 0s 4ms/step - loss: 4.7724 - accuracy: 0.0891 - val_loss: 6.8459 - val_accuracy: 0.0917\n",
      "Epoch 16/100\n",
      "58/58 [==============================] - 0s 4ms/step - loss: 4.6842 - accuracy: 0.0962 - val_loss: 6.9102 - val_accuracy: 0.0904\n",
      "Epoch 17/100\n",
      "58/58 [==============================] - 0s 4ms/step - loss: 4.5941 - accuracy: 0.1060 - val_loss: 6.9666 - val_accuracy: 0.0917\n",
      "Epoch 18/100\n",
      "58/58 [==============================] - 0s 5ms/step - loss: 4.5006 - accuracy: 0.1055 - val_loss: 7.0393 - val_accuracy: 0.0917\n",
      "Epoch 19/100\n",
      "58/58 [==============================] - 0s 4ms/step - loss: 4.4027 - accuracy: 0.1126 - val_loss: 7.1274 - val_accuracy: 0.0955\n",
      "Epoch 20/100\n",
      "58/58 [==============================] - 0s 4ms/step - loss: 4.3013 - accuracy: 0.1202 - val_loss: 7.2156 - val_accuracy: 0.0943\n",
      "Epoch 21/100\n",
      "58/58 [==============================] - 0s 4ms/step - loss: 4.1977 - accuracy: 0.1208 - val_loss: 7.2792 - val_accuracy: 0.0981\n",
      "Epoch 22/100\n",
      "58/58 [==============================] - 0s 4ms/step - loss: 4.0883 - accuracy: 0.1301 - val_loss: 7.3638 - val_accuracy: 0.1006\n",
      "Epoch 23/100\n",
      "58/58 [==============================] - 0s 4ms/step - loss: 3.9753 - accuracy: 0.1383 - val_loss: 7.4521 - val_accuracy: 0.0994\n",
      "Epoch 24/100\n",
      "58/58 [==============================] - 0s 4ms/step - loss: 3.8591 - accuracy: 0.1470 - val_loss: 7.5354 - val_accuracy: 0.0994\n",
      "Epoch 25/100\n",
      "58/58 [==============================] - 0s 4ms/step - loss: 3.7379 - accuracy: 0.1612 - val_loss: 7.6138 - val_accuracy: 0.1019\n",
      "Epoch 26/100\n",
      "58/58 [==============================] - 0s 4ms/step - loss: 3.6111 - accuracy: 0.1710 - val_loss: 7.6925 - val_accuracy: 0.0981\n",
      "Epoch 27/100\n",
      "58/58 [==============================] - 0s 4ms/step - loss: 3.4818 - accuracy: 0.1918 - val_loss: 7.7949 - val_accuracy: 0.0955\n",
      "Epoch 28/100\n",
      "58/58 [==============================] - 0s 4ms/step - loss: 3.3504 - accuracy: 0.2115 - val_loss: 7.8894 - val_accuracy: 0.0981\n",
      "Epoch 29/100\n",
      "58/58 [==============================] - 0s 4ms/step - loss: 3.2128 - accuracy: 0.2306 - val_loss: 7.9516 - val_accuracy: 0.1019\n",
      "Epoch 30/100\n",
      "58/58 [==============================] - 0s 4ms/step - loss: 3.0751 - accuracy: 0.2557 - val_loss: 8.0066 - val_accuracy: 0.1006\n",
      "Epoch 31/100\n",
      "58/58 [==============================] - 0s 4ms/step - loss: 2.9293 - accuracy: 0.2929 - val_loss: 8.0852 - val_accuracy: 0.1006\n",
      "Epoch 32/100\n",
      "58/58 [==============================] - 0s 4ms/step - loss: 2.7822 - accuracy: 0.3115 - val_loss: 8.1912 - val_accuracy: 0.1032\n",
      "Epoch 33/100\n",
      "58/58 [==============================] - 0s 4ms/step - loss: 2.6354 - accuracy: 0.3525 - val_loss: 8.2696 - val_accuracy: 0.1045\n",
      "Epoch 34/100\n",
      "58/58 [==============================] - 0s 5ms/step - loss: 2.4872 - accuracy: 0.4005 - val_loss: 8.3535 - val_accuracy: 0.1057\n",
      "Epoch 35/100\n",
      "58/58 [==============================] - 0s 5ms/step - loss: 2.3395 - accuracy: 0.4322 - val_loss: 8.4322 - val_accuracy: 0.1070\n",
      "Epoch 36/100\n",
      "58/58 [==============================] - 0s 5ms/step - loss: 2.1945 - accuracy: 0.4754 - val_loss: 8.5081 - val_accuracy: 0.1019\n",
      "Epoch 37/100\n",
      "58/58 [==============================] - 0s 4ms/step - loss: 2.0488 - accuracy: 0.5213 - val_loss: 8.6195 - val_accuracy: 0.1032\n",
      "Epoch 38/100\n",
      "58/58 [==============================] - 0s 4ms/step - loss: 1.9091 - accuracy: 0.5612 - val_loss: 8.6825 - val_accuracy: 0.1006\n",
      "Epoch 39/100\n",
      "58/58 [==============================] - 0s 4ms/step - loss: 1.7694 - accuracy: 0.6208 - val_loss: 8.7654 - val_accuracy: 0.0943\n",
      "Epoch 40/100\n",
      "58/58 [==============================] - 0s 4ms/step - loss: 1.6387 - accuracy: 0.6683 - val_loss: 8.8639 - val_accuracy: 0.0943\n",
      "Epoch 41/100\n",
      "58/58 [==============================] - 0s 4ms/step - loss: 1.5145 - accuracy: 0.7175 - val_loss: 8.9466 - val_accuracy: 0.0930\n",
      "Epoch 42/100\n",
      "58/58 [==============================] - 0s 4ms/step - loss: 1.3986 - accuracy: 0.7530 - val_loss: 9.0419 - val_accuracy: 0.0917\n",
      "Epoch 43/100\n",
      "58/58 [==============================] - 0s 4ms/step - loss: 1.2893 - accuracy: 0.7863 - val_loss: 9.1310 - val_accuracy: 0.0917\n",
      "Epoch 44/100\n",
      "58/58 [==============================] - 0s 4ms/step - loss: 1.1881 - accuracy: 0.8126 - val_loss: 9.2225 - val_accuracy: 0.0930\n",
      "Epoch 45/100\n",
      "58/58 [==============================] - 0s 4ms/step - loss: 1.0944 - accuracy: 0.8339 - val_loss: 9.3123 - val_accuracy: 0.0904\n",
      "Epoch 46/100\n",
      "58/58 [==============================] - 0s 4ms/step - loss: 1.0102 - accuracy: 0.8464 - val_loss: 9.3953 - val_accuracy: 0.0904\n",
      "Epoch 47/100\n",
      "58/58 [==============================] - 0s 4ms/step - loss: 0.9332 - accuracy: 0.8590 - val_loss: 9.4984 - val_accuracy: 0.0904\n",
      "Epoch 48/100\n",
      "58/58 [==============================] - 0s 4ms/step - loss: 0.8635 - accuracy: 0.8754 - val_loss: 9.5915 - val_accuracy: 0.0955\n",
      "Epoch 49/100\n",
      "58/58 [==============================] - 0s 4ms/step - loss: 0.8015 - accuracy: 0.8809 - val_loss: 9.6687 - val_accuracy: 0.0904\n",
      "Epoch 50/100\n",
      "58/58 [==============================] - 0s 4ms/step - loss: 0.7439 - accuracy: 0.8934 - val_loss: 9.7580 - val_accuracy: 0.0904\n",
      "Epoch 51/100\n",
      "58/58 [==============================] - 0s 4ms/step - loss: 0.6917 - accuracy: 0.8973 - val_loss: 9.8433 - val_accuracy: 0.0904\n",
      "Epoch 52/100\n",
      "58/58 [==============================] - 0s 4ms/step - loss: 0.6451 - accuracy: 0.9082 - val_loss: 9.9228 - val_accuracy: 0.0892\n",
      "Epoch 53/100\n",
      "58/58 [==============================] - 0s 4ms/step - loss: 0.6006 - accuracy: 0.9164 - val_loss: 10.0125 - val_accuracy: 0.0879\n",
      "Epoch 54/100\n",
      "58/58 [==============================] - 0s 4ms/step - loss: 0.5604 - accuracy: 0.9208 - val_loss: 10.0873 - val_accuracy: 0.0866\n",
      "Epoch 55/100\n",
      "58/58 [==============================] - 0s 4ms/step - loss: 0.5245 - accuracy: 0.9284 - val_loss: 10.1643 - val_accuracy: 0.0828\n",
      "Epoch 56/100\n",
      "58/58 [==============================] - 0s 4ms/step - loss: 0.4898 - accuracy: 0.9301 - val_loss: 10.2467 - val_accuracy: 0.0854\n",
      "Epoch 57/100\n",
      "58/58 [==============================] - 0s 4ms/step - loss: 0.4582 - accuracy: 0.9399 - val_loss: 10.3237 - val_accuracy: 0.0815\n",
      "Epoch 58/100\n",
      "58/58 [==============================] - 0s 4ms/step - loss: 0.4289 - accuracy: 0.9437 - val_loss: 10.3875 - val_accuracy: 0.0803\n"
     ]
    },
    {
     "name": "stdout",
     "output_type": "stream",
     "text": [
      "Epoch 59/100\n",
      "58/58 [==============================] - 0s 4ms/step - loss: 0.4017 - accuracy: 0.9481 - val_loss: 10.4654 - val_accuracy: 0.0803\n",
      "Epoch 60/100\n",
      "58/58 [==============================] - 0s 4ms/step - loss: 0.3766 - accuracy: 0.9530 - val_loss: 10.5230 - val_accuracy: 0.0790\n",
      "Epoch 61/100\n",
      "58/58 [==============================] - 0s 4ms/step - loss: 0.3519 - accuracy: 0.9552 - val_loss: 10.6093 - val_accuracy: 0.0790\n",
      "Epoch 62/100\n",
      "58/58 [==============================] - 0s 4ms/step - loss: 0.3306 - accuracy: 0.9585 - val_loss: 10.6581 - val_accuracy: 0.0777\n",
      "Epoch 63/100\n",
      "58/58 [==============================] - 0s 4ms/step - loss: 0.3092 - accuracy: 0.9601 - val_loss: 10.7292 - val_accuracy: 0.0777\n",
      "Epoch 64/100\n",
      "58/58 [==============================] - 0s 5ms/step - loss: 0.2903 - accuracy: 0.9617 - val_loss: 10.7950 - val_accuracy: 0.0777\n",
      "Epoch 65/100\n",
      "58/58 [==============================] - 0s 4ms/step - loss: 0.2721 - accuracy: 0.9656 - val_loss: 10.8497 - val_accuracy: 0.0764\n",
      "Epoch 66/100\n",
      "58/58 [==============================] - 0s 4ms/step - loss: 0.2550 - accuracy: 0.9689 - val_loss: 10.9247 - val_accuracy: 0.0752\n",
      "Epoch 67/100\n",
      "58/58 [==============================] - 0s 4ms/step - loss: 0.2394 - accuracy: 0.9699 - val_loss: 10.9870 - val_accuracy: 0.0777\n",
      "Epoch 68/100\n",
      "58/58 [==============================] - 0s 4ms/step - loss: 0.2243 - accuracy: 0.9732 - val_loss: 11.0521 - val_accuracy: 0.0764\n",
      "Epoch 69/100\n",
      "58/58 [==============================] - 0s 4ms/step - loss: 0.2115 - accuracy: 0.9738 - val_loss: 11.1043 - val_accuracy: 0.0764\n",
      "Epoch 70/100\n",
      "58/58 [==============================] - 0s 4ms/step - loss: 0.1974 - accuracy: 0.9803 - val_loss: 11.1650 - val_accuracy: 0.0764\n",
      "Epoch 71/100\n",
      "58/58 [==============================] - 0s 4ms/step - loss: 0.1850 - accuracy: 0.9803 - val_loss: 11.2397 - val_accuracy: 0.0764\n",
      "Epoch 72/100\n",
      "58/58 [==============================] - 0s 5ms/step - loss: 0.1737 - accuracy: 0.9825 - val_loss: 11.2844 - val_accuracy: 0.0777\n",
      "Epoch 73/100\n",
      "58/58 [==============================] - 0s 4ms/step - loss: 0.1630 - accuracy: 0.9836 - val_loss: 11.3468 - val_accuracy: 0.0752\n",
      "Epoch 74/100\n",
      "58/58 [==============================] - 0s 5ms/step - loss: 0.1530 - accuracy: 0.9825 - val_loss: 11.4072 - val_accuracy: 0.0777\n",
      "Epoch 75/100\n",
      "58/58 [==============================] - 0s 4ms/step - loss: 0.1436 - accuracy: 0.9842 - val_loss: 11.4752 - val_accuracy: 0.0777\n",
      "Epoch 76/100\n",
      "58/58 [==============================] - 0s 5ms/step - loss: 0.1345 - accuracy: 0.9869 - val_loss: 11.5511 - val_accuracy: 0.0790\n",
      "Epoch 77/100\n",
      "58/58 [==============================] - 0s 4ms/step - loss: 0.1267 - accuracy: 0.9880 - val_loss: 11.6018 - val_accuracy: 0.0828\n",
      "Epoch 78/100\n",
      "58/58 [==============================] - 0s 4ms/step - loss: 0.1179 - accuracy: 0.9880 - val_loss: 11.6654 - val_accuracy: 0.0815\n",
      "Epoch 79/100\n",
      "58/58 [==============================] - 0s 4ms/step - loss: 0.1109 - accuracy: 0.9896 - val_loss: 11.7144 - val_accuracy: 0.0777\n",
      "Epoch 80/100\n",
      "58/58 [==============================] - 0s 4ms/step - loss: 0.1046 - accuracy: 0.9885 - val_loss: 11.7878 - val_accuracy: 0.0815\n",
      "Epoch 81/100\n",
      "58/58 [==============================] - 0s 4ms/step - loss: 0.0974 - accuracy: 0.9918 - val_loss: 11.8560 - val_accuracy: 0.0841\n",
      "Epoch 82/100\n",
      "58/58 [==============================] - 0s 4ms/step - loss: 0.0918 - accuracy: 0.9907 - val_loss: 11.9058 - val_accuracy: 0.0828\n",
      "Epoch 83/100\n",
      "58/58 [==============================] - 0s 4ms/step - loss: 0.0860 - accuracy: 0.9913 - val_loss: 11.9834 - val_accuracy: 0.0841\n",
      "Epoch 84/100\n",
      "58/58 [==============================] - 0s 4ms/step - loss: 0.0806 - accuracy: 0.9923 - val_loss: 12.0407 - val_accuracy: 0.0841\n",
      "Epoch 85/100\n",
      "58/58 [==============================] - 0s 4ms/step - loss: 0.0756 - accuracy: 0.9940 - val_loss: 12.0983 - val_accuracy: 0.0854\n",
      "Epoch 86/100\n",
      "58/58 [==============================] - 0s 4ms/step - loss: 0.0713 - accuracy: 0.9934 - val_loss: 12.1560 - val_accuracy: 0.0828\n",
      "Epoch 87/100\n",
      "58/58 [==============================] - 0s 4ms/step - loss: 0.0669 - accuracy: 0.9940 - val_loss: 12.2278 - val_accuracy: 0.0828\n",
      "Epoch 88/100\n",
      "58/58 [==============================] - 0s 4ms/step - loss: 0.0631 - accuracy: 0.9940 - val_loss: 12.2688 - val_accuracy: 0.0841\n",
      "Epoch 89/100\n",
      "58/58 [==============================] - 0s 4ms/step - loss: 0.0587 - accuracy: 0.9951 - val_loss: 12.3213 - val_accuracy: 0.0828\n",
      "Epoch 90/100\n",
      "58/58 [==============================] - 0s 4ms/step - loss: 0.0557 - accuracy: 0.9940 - val_loss: 12.3890 - val_accuracy: 0.0841\n",
      "Epoch 91/100\n",
      "58/58 [==============================] - 0s 4ms/step - loss: 0.0521 - accuracy: 0.9951 - val_loss: 12.4567 - val_accuracy: 0.0828\n",
      "Epoch 92/100\n",
      "58/58 [==============================] - 0s 4ms/step - loss: 0.0490 - accuracy: 0.9945 - val_loss: 12.5192 - val_accuracy: 0.0828\n",
      "Epoch 93/100\n",
      "58/58 [==============================] - 0s 4ms/step - loss: 0.0457 - accuracy: 0.9951 - val_loss: 12.6081 - val_accuracy: 0.0841\n",
      "Epoch 94/100\n",
      "58/58 [==============================] - 0s 4ms/step - loss: 0.0431 - accuracy: 0.9962 - val_loss: 12.6661 - val_accuracy: 0.0828\n",
      "Epoch 95/100\n",
      "58/58 [==============================] - 0s 4ms/step - loss: 0.0405 - accuracy: 0.9967 - val_loss: 12.7161 - val_accuracy: 0.0841\n",
      "Epoch 96/100\n",
      "58/58 [==============================] - 0s 4ms/step - loss: 0.0380 - accuracy: 0.9967 - val_loss: 12.7784 - val_accuracy: 0.0841\n",
      "Epoch 97/100\n",
      "58/58 [==============================] - 0s 4ms/step - loss: 0.0358 - accuracy: 0.9967 - val_loss: 12.8561 - val_accuracy: 0.0828\n",
      "Epoch 98/100\n",
      "58/58 [==============================] - 0s 4ms/step - loss: 0.0338 - accuracy: 0.9967 - val_loss: 12.8968 - val_accuracy: 0.0841\n",
      "Epoch 99/100\n",
      "58/58 [==============================] - 0s 4ms/step - loss: 0.0317 - accuracy: 0.9967 - val_loss: 12.9695 - val_accuracy: 0.0841\n",
      "Epoch 100/100\n",
      "58/58 [==============================] - 0s 4ms/step - loss: 0.0300 - accuracy: 0.9973 - val_loss: 13.0381 - val_accuracy: 0.0841\n"
     ]
    },
    {
     "data": {
      "text/plain": [
       "<tensorflow.python.keras.callbacks.History at 0x7fa4c05b64c0>"
      ]
     },
     "execution_count": 111,
     "metadata": {},
     "output_type": "execute_result"
    }
   ],
   "source": [
    "# Matriz de entrada y de salida\n",
    "X_I = np.array([x[1] for x in training_data_I])\n",
    "Y_I = np.array([y[0] for y in training_data_I])\n",
    "\n",
    "X_train_I,X_test_I,Y_train_I,Y_test_I = train_test_split(X_I,Y_I,test_size=0.3)\n",
    "\n",
    "# Entrenando\n",
    "model_I.fit(X_train_I,Y_train_I,epochs=100,validation_data=(X_test_I,Y_test_I))"
   ]
  },
  {
   "cell_type": "code",
   "execution_count": 112,
   "metadata": {},
   "outputs": [],
   "source": [
    "# Obteniendo representaciones de los vectores con las matrices de pesos\n",
    "W1 = model_I.get_weights()[0]\n",
    "W2 = model_I.get_weights()[2]\n",
    "D_I = 0.5*(W2.T+W1)"
   ]
  },
  {
   "cell_type": "markdown",
   "metadata": {},
   "source": [
    "# Punto 9 : Obteniendo matriz de traducción R"
   ]
  },
  {
   "cell_type": "markdown",
   "metadata": {},
   "source": [
    "Para obtener la matriz de traducción se seleccionaron 56 palabras y sus correspondientes traducciones en ingles. Por cada palabra se buscó el vector correspondiente a la palabra en la matriz $D$ y posteriormente se plantea el probelma $XR=Y$ en donde $R$ se calcula como:\n",
    "\n",
    "$$R = (X^TX)^{-1}(X^TY)$$"
   ]
  },
  {
   "cell_type": "markdown",
   "metadata": {},
   "source": [
    "### Traducción"
   ]
  },
  {
   "cell_type": "code",
   "execution_count": 115,
   "metadata": {
    "id": "jJ58zjU8pR0I"
   },
   "outputs": [],
   "source": [
    "# palabras es español y sus traducciones\n",
    "X = ['consola','siempre','de','ser','sobre','estante','estupidos','ninos','comentarios','controles','sotano','su','madre','fracasados','son','idiotas','odio','creen','mas','que','cualquiera','creditos','saberse','juegos','quisiera','libro','ser','ellos','saben','como','viajando','padres','otro','creadores','respetados','genios','como','contar','pare','diferencia','solo','gorilas','corbatas','penetrantes','unicas','historias','excesivamente','filosofia','sonadores','diablos','circunspecto','responder','muy','voz','dijo','lee']\n",
    "Y = ['console','always','of','being','on','shelf','stupid','children','comments','controls','basement','his','mother','losers','are','stupid','hate','believe','more','than','any','credits','knowing','games','would','book','be','they','know','how','traveling','parents','another','creative','respected','geniuses','as','counting','stop','unlike','only','gorillas','ties','penetrating','unique','stories','excessively','philosophy','dreamers','devils','circumspect','respond','very','voice','said','read']"
   ]
  },
  {
   "cell_type": "code",
   "execution_count": 116,
   "metadata": {
    "id": "bULa_lBlrQoe"
   },
   "outputs": [],
   "source": [
    "# Indices de las palabras\n",
    "X_indx = [word_to_index_E[w] for w in X]\n",
    "Y_indx = [word_to_index_I[w] for w in Y]\n",
    "\n",
    "# Vectores de las palabras\n",
    "X_vec = np.array([D_E[i] for i in X_indx])\n",
    "Y_vec = np.array([D_I[i]for i in Y_indx])"
   ]
  },
  {
   "cell_type": "code",
   "execution_count": 117,
   "metadata": {
    "id": "fnwYP7pfudz8"
   },
   "outputs": [
    {
     "name": "stdout",
     "output_type": "stream",
     "text": [
      "Dimensiones de R:  (50, 50)\n"
     ]
    }
   ],
   "source": [
    "# Calculando Matriz R\n",
    "R = np.linalg.inv(X_vec.T@X_vec)@(X_vec.T@Y_vec)\n",
    "print(\"Dimensiones de R: \",R.shape)"
   ]
  },
  {
   "cell_type": "markdown",
   "metadata": {},
   "source": [
    "# Punto 11 : Encontrando las 5 mejores traducciones"
   ]
  },
  {
   "cell_type": "markdown",
   "metadata": {},
   "source": [
    "Al igual que en puntos anteriores se utiliza el algoritmo de locally sensitive hashing para encontrar en el corpus de ingles las 5 palabras que sean más parecidas a la traducción obtenida con $R$"
   ]
  },
  {
   "cell_type": "code",
   "execution_count": 119,
   "metadata": {
    "id": "qfRMcbIAyLd8"
   },
   "outputs": [],
   "source": [
    "# Modelo con 3 divisiones de vecotres en R^50\n",
    "lsh = lshash.LSHash(3, 50,num_hashtables=10)\n",
    "\n",
    "for word in D_I:\n",
    "    lsh.index(word)"
   ]
  },
  {
   "cell_type": "markdown",
   "metadata": {},
   "source": [
    "### Verificando con palabras de entrenamiento"
   ]
  },
  {
   "cell_type": "code",
   "execution_count": 128,
   "metadata": {},
   "outputs": [
    {
     "name": "stdout",
     "output_type": "stream",
     "text": [
      "-> Palabra a traducir  consola , posibles traducciones: \n",
      " ['console', 'game', 'wish', 'video', 'unable', 'shout', 'made', 'mr', 'could', 'suit']\n",
      "\n",
      "-> Palabra a traducir  siempre , posibles traducciones: \n",
      " ['always', 'fun', 'have', 'shelf', 'hate', 'traveling', 'royal', 'book', 'mention', 'pay']\n",
      "\n",
      "-> Palabra a traducir  de , posibles traducciones: \n",
      " ['of', 'falling', 'students', 'inveterate', 'comments', 'different', 'stairs', 'marble', 'singing', 'photos']\n",
      "\n",
      "-> Palabra a traducir  ser , posibles traducciones: \n",
      " ['being', 'be', 'wish', 'confuses', 'woke', 'suit', 'video', 'slammed', 'sick', 'made']\n",
      "\n",
      "-> Palabra a traducir  sobre , posibles traducciones: \n",
      " ['on', 'controls', 'already', 'courtiers', 'eating', 'spoiled', 'neighboring', 'source', 'ignoring', 'looked']\n",
      "\n",
      "-> Palabra a traducir  estante , posibles traducciones: \n",
      " ['shelf', 'hanging', 'ignoring', 'enemy', 'always', 'angry', 'face', 'pay', 'fisherman', 'true']\n",
      "\n",
      "-> Palabra a traducir  estupidos , posibles traducciones: \n",
      " ['stupid', 'comments', 'edge', 'stairs', 'flowed', 'marble', 'didn', 'throwing', 'air', 'ostrich']\n",
      "\n",
      "-> Palabra a traducir  ninos , posibles traducciones: \n",
      " ['children', 'afraid', 'sick', 'affliction', 'neurons', 'must', 'photos', 'fat', 'carnation', 'you']\n",
      "\n",
      "-> Palabra a traducir  comentarios , posibles traducciones: \n",
      " ['comments', 'stairs', 'neurons', 'sick', 'noise', 'marble', 'stupid', 'fat', 'least', 'of']\n",
      "\n",
      "-> Palabra a traducir  controles , posibles traducciones: \n",
      " ['controls', 'carved', 'carnation', 'tongue', 'mice', 'finally', 'looked', 'flowed', 'lucio', 'basement']\n",
      "\n",
      "-> Palabra a traducir  sotano , posibles traducciones: \n",
      " ['basement', 'geniuses', 'amuse', 'sauce', 'tongue', 'believing', 'carriage', 'dance', 'since', 'source']\n",
      "\n",
      "-> Palabra a traducir  su , posibles traducciones: \n",
      " ['his', 'tore', 'follow', 'men', 'spends', 'shirt', 'colorful', 'didn', 'fellow', 'hours']\n",
      "\n",
      "-> Palabra a traducir  madre , posibles traducciones: \n",
      " ['mother', 'didn', 'because', 'rage', 'his', 'shoes', 'give', 'heat', 'tore', 'master']\n",
      "\n",
      "-> Palabra a traducir  fracasados , posibles traducciones: \n",
      " ['losers', 'these', 'basement', 'highly', 'respected', 'hate', 'interesting', 'traveling', 'angry', 'investigate']\n",
      "\n",
      "-> Palabra a traducir  son , posibles traducciones: \n",
      " ['are', 'welcome', 'highly', 'respected', 'losers', 'hate', 'interesting', 'traveling', 'lucky', 'worst']\n",
      "\n",
      "-> Palabra a traducir  idiotas , posibles traducciones: \n",
      " ['stupid', 'called', 'flowed', 'didn', 'throwing', 'carnation', 'fish', 'heat', 'carved', 'playing']\n",
      "\n",
      "-> Palabra a traducir  odio , posibles traducciones: \n",
      " ['hate', 'welcome', 'respected', 'interesting', 'losers', 'traveling', 'fun', 'matter', 'suit', 'basement']\n",
      "\n",
      "-> Palabra a traducir  creen , posibles traducciones: \n",
      " ['believe', 'ask', 'themselves', 'interesting', 'more', 'think', 'veteran', 'nipple', 'penetrating', 'geniuses']\n",
      "\n",
      "-> Palabra a traducir  mas , posibles traducciones: \n",
      " ['more', 'veteran', 'pedantic', 'says', 'believe', 'kind', 'ask', 'themselves', 'is', 'confuses']\n",
      "\n",
      "-> Palabra a traducir  que , posibles traducciones: \n",
      " ['than', 'worse', 'kind', 'better', 'themselves', 'pedantic', 'gorillas', 'silk', 'any', 'gesture']\n",
      "\n",
      "-> Palabra a traducir  cualquiera , posibles traducciones: \n",
      " ['any', 'boat', 'mustard', 'amuse', 'sauce', 'tongue', 'ring', 'concepts', 'lucio', 'playing']\n",
      "\n",
      "-> Palabra a traducir  creditos , posibles traducciones: \n",
      " ['credits', 'knowing', 'my', 'blows', 'trade', 'true', 'any', 'concepts', 'boat', 'plumes']\n",
      "\n",
      "-> Palabra a traducir  saberse , posibles traducciones: \n",
      " ['knowing', 'credits', 'for', 'ring', 'colorful', 'mice', 'face', 'source', 'pockets', 'waited']\n",
      "\n",
      "-> Palabra a traducir  juegos , posibles traducciones: \n",
      " ['games', 'would', 'like', 'play', 'life', 'heart', 'about', 'street', 'boat', 'confuses']\n",
      "\n",
      "-> Palabra a traducir  quisiera , posibles traducciones: \n",
      " ['would', 'like', 'games', 'my', 'be', 'life', 'play', 'trade', 'anything', 'danced']\n",
      "\n",
      "-> Palabra a traducir  libro , posibles traducciones: \n",
      " ['book', 'fun', 'circumspect', 'shook', 'always', 'oh', 'welcome', 'must', 'have', 'blackbird']\n",
      "\n",
      "-> Palabra a traducir  ser , posibles traducciones: \n",
      " ['being', 'be', 'wish', 'confuses', 'woke', 'suit', 'video', 'slammed', 'sick', 'made']\n",
      "\n",
      "-> Palabra a traducir  ellos , posibles traducciones: \n",
      " ['they', 'welcome', 'investigate', 'bowed', 'interesting', 'respected', 'hate', 'rays', 'waited', 'matter']\n",
      "\n",
      "-> Palabra a traducir  saben , posibles traducciones: \n",
      " ['know', 'worst', 'how', 'you', 'promised', 'rest', 'yesterday', 'anything', 'are', 'lucky']\n",
      "\n",
      "-> Palabra a traducir  como , posibles traducciones: \n",
      " ['how', 'much', 'croak', 'as', 'accept', 'run', 'juan', 'you', 'rest', 'lucky']\n",
      "\n",
      "-> Palabra a traducir  viajando , posibles traducciones: \n",
      " ['traveling', 'hate', 'losers', 'highly', 'respected', 'are', 'geniuses', 'dance', 'basement', 'always']\n",
      "\n",
      "-> Palabra a traducir  padres , posibles traducciones: \n",
      " ['parents', 'highly', 'creative', 'confuses', 'geniuses', 'respected', 'stretched', 'dance', 'must', 'basement']\n",
      "\n",
      "-> Palabra a traducir  otro , posibles traducciones: \n",
      " ['another', 'jump', 'whistle', 'leg', 'tremendous', 'yell', 'messages', 'made', 'spur', 'dark']\n",
      "\n",
      "-> Palabra a traducir  creadores , posibles traducciones: \n",
      " ['creative', 'highly', 'geniuses', 'parents', 'losers', 'basement', 'dance', 'respected', 'particular', 'stretched']\n",
      "\n",
      "-> Palabra a traducir  respetados , posibles traducciones: \n",
      " ['respected', 'highly', 'welcome', 'interesting', 'hate', 'geniuses', 'matter', 'are', 'fun', 'losers']\n",
      "\n",
      "-> Palabra a traducir  genios , posibles traducciones: \n",
      " ['geniuses', 'amuse', 'tongue', 'sauce', 'nest', 'confuses', 'basement', 'run', 'opened', 'boat']\n",
      "\n",
      "-> Palabra a traducir  como , posibles traducciones: \n",
      " ['how', 'much', 'croak', 'as', 'accept', 'run', 'juan', 'you', 'rest', 'lucky']\n",
      "\n",
      "-> Palabra a traducir  contar , posibles traducciones: \n",
      " ['counting', 'amuse', 'suit', 'since', 'sauce', 'waver', 'tongue', 'smelling', 'carnation', 'existentialist']\n",
      "\n",
      "-> Palabra a traducir  pare , posibles traducciones: \n",
      " ['stop', 'counting', 'and', 'hole', 'devils', 'since', 'fisherman', 'carried', 'suit', 'penetrating']\n",
      "\n",
      "-> Palabra a traducir  diferencia , posibles traducciones: \n",
      " ['unlike', 'counting', 'waver', 'entertain', 'dear', 'makes', 'especially', 'since', 'guitar', 'anything']\n",
      "\n",
      "-> Palabra a traducir  solo , posibles traducciones: \n",
      " ['only', 'unlike', 'people', 'ordeal', 'boast', 'can', 'much', 'thousands', 'croak', 'photos']\n",
      "\n",
      "-> Palabra a traducir  gorilas , posibles traducciones: \n",
      " ['gorillas', 'ties', 'cannot', 'slobber', 'boast', 'plumes', 'existentialist', 'mustard', 'caution', 'adorned']\n",
      "\n",
      "-> Palabra a traducir  corbatas , posibles traducciones: \n",
      " ['ties', 'nice', 'anxiety', 'fellow', 'gorillas', 'caution', 'plumes', 'with', 'shoes', 'arrived']\n",
      "\n",
      "-> Palabra a traducir  penetrantes , posibles traducciones: \n",
      " ['penetrating', 'fisherman', 'amuse', 'tongue', 'angry', 'sauce', 'pockets', 'carnation', 'nipple', 'devils']\n",
      "\n",
      "-> Palabra a traducir  unicas , posibles traducciones: \n",
      " ['unique', 'drooling', 'tricks', 'and', 'waver', 'penetrating', 'nice', 'devils', 'wallows', 'failing']\n",
      "\n",
      "-> Palabra a traducir  historias , posibles traducciones: \n",
      " ['stories', 'pages', 'interpretations', 'creative', 'spur', 'asked', 'slept', 'for', 'they', 'respected']\n",
      "\n",
      "-> Palabra a traducir  excesivamente , posibles traducciones: \n",
      " ['excessively', 'machacon', 'ordeal', 'books', 'cliche', 'new', 'minds', 'favorite', 'makes', 'life']\n",
      "\n",
      "-> Palabra a traducir  filosofia , posibles traducciones: \n",
      " ['philosophy', 'boat', 'amuse', 'sauce', 'tongue', 'ring', 'mustard', 'carved', 'carnation', 'devils']\n",
      "\n",
      "-> Palabra a traducir  sonadores , posibles traducciones: \n",
      " ['dreamers', 'cannot', 'devils', 'investigate', 'carried', 'smelling', 'concluded', 'carriage', 'fury', 'failing']\n",
      "\n",
      "-> Palabra a traducir  diablos , posibles traducciones: \n",
      " ['devils', 'amuse', 'since', 'sauce', 'penetrating', 'dark', 'tongue', 'philosophy', 'nipple', 'daughters']\n",
      "\n",
      "-> Palabra a traducir  circunspecto , posibles traducciones: \n",
      " ['circumspect', 'very', 'buy', 'shook', 'whistle', 'leg', 'hours', 'things', 'fellow', 'pain']\n",
      "\n",
      "-> Palabra a traducir  responder , posibles traducciones: \n",
      " ['respond', 'raised', 'his', 'long', 'didn', 'enough', 'face', 'fish', 'tore', 'follow']\n",
      "\n",
      "-> Palabra a traducir  muy , posibles traducciones: \n",
      " ['very', 'nice', 'nights', 'happy', 'circumspect', 'drooling', 'am', 'fellow', 'must', 'waited']\n",
      "\n",
      "-> Palabra a traducir  voz , posibles traducciones: \n",
      " ['voice', 'knock', 'his', 'leg', 'fury', 'enough', 'saying', 'fellow', 'explodes', 'didn']\n",
      "\n",
      "-> Palabra a traducir  dijo , posibles traducciones: \n",
      " ['said', 'good', 'really', 'loin', 'boy', 'leonor', 'fools', 'dad', 'pockets', 'rana']\n",
      "\n"
     ]
    },
    {
     "name": "stdout",
     "output_type": "stream",
     "text": [
      "-> Palabra a traducir  lee , posibles traducciones: \n",
      " ['read', 'love', 'climbing', 'me', 'existentialist', 'upload', 'school', 'steal', 'try', 'run']\n",
      "\n"
     ]
    }
   ],
   "source": [
    "count = 0\n",
    "for i,d in enumerate(X):\n",
    "    # Se busca el indice de la palabra d en el corpus de español\n",
    "    inx = word_to_index_E[d]\n",
    "    \n",
    "    # Se aplica la transformacion del vector correspondiente con la matriz R\n",
    "    I_word = D_E[inx]@R\n",
    "    \n",
    "    # Se buscan los 5 vecinos mas cercanos en el corpus de ingles\n",
    "    vecinos = lsh.query(I_word.tolist(),num_results=top,distance_func='cosine')\n",
    "    \n",
    "    # Se encuentran las palabras (strings) correspondientes en ingles\n",
    "    b = [index_to_word_I[getIndex(D_I,vecinos[i][0][0])] for i in range(len(vecinos))]\n",
    "    print(\"-> Palabra a traducir \",d,', posibles traducciones: \\n',b)\n",
    "    count+=1 if Y[i] in b else 0\n",
    "    print(\"\")"
   ]
  },
  {
   "cell_type": "markdown",
   "metadata": {},
   "source": [
    "Para cada palabra de las definidas para calcular la matriz R (matrices de X y Y) se prueba si la traducción si está en el conjunto obtenido de palabras más cercanas. Posteriormente se calcula el porcentaje de aciertos."
   ]
  },
  {
   "cell_type": "code",
   "execution_count": 127,
   "metadata": {},
   "outputs": [
    {
     "data": {
      "text/plain": [
       "1.0"
      ]
     },
     "execution_count": 127,
     "metadata": {},
     "output_type": "execute_result"
    }
   ],
   "source": [
    "# Porcentaje de aciertos\n",
    "count/len(X)"
   ]
  },
  {
   "cell_type": "code",
   "execution_count": null,
   "metadata": {},
   "outputs": [],
   "source": []
  }
 ],
 "metadata": {
  "colab": {
   "collapsed_sections": [],
   "name": "Proyecto_II_word2vec.ipynb",
   "provenance": []
  },
  "kernelspec": {
   "display_name": "Python 3",
   "language": "python",
   "name": "python3"
  },
  "language_info": {
   "codemirror_mode": {
    "name": "ipython",
    "version": 3
   },
   "file_extension": ".py",
   "mimetype": "text/x-python",
   "name": "python",
   "nbconvert_exporter": "python",
   "pygments_lexer": "ipython3",
   "version": "3.8.5"
  }
 },
 "nbformat": 4,
 "nbformat_minor": 1
}
