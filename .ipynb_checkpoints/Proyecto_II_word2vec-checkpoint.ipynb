{
 "cells": [
  {
   "cell_type": "markdown",
   "metadata": {
    "id": "12hsEen46S3X"
   },
   "source": [
    "# Proyecto II: De palabras a Vectores\n",
    "\n",
    "En este proyecto vamos a implementar uno de los sistemas más utilizados par aconvertir palabras a vectores **word2vec**. En este proyecto la idea es que ustedes creén una base de datos de texto, la cúal utilizarán para entrenar la códigficación de estás palabras, y a partir de allí implementar ciertos sistemas. Par afacilitar el trabajo, en este notebook pueden encontrar unas funciones que fueron extraidas de esté [link](https://towardsdatascience.com/a-word2vec-implementation-using-numpy-and-python-d256cf0e5f28), y adaptadas para trabajar con el lenguaje español. Sientanse libres de utilizar estas funciones o de adaptarlas asu gusto. Las funciones toman como entrada un texto en formato plano, y al finalizar entregan el vector de palabras de contexto y el vector target que puede ser utilizado para entrenar el modelo word2vec. Los datos de entrenamiento se entregan en una lista que contiene el vector de salida (codificación one hot de una palabra) y el vector que contiene la suma de los vectores hot encoded de las palabras de contexto. Para escoger el tamaño de la palabra de contexto deben modificar el parámetro $C$.\n",
    "\n",
    "Para este proyecto necesitan realizar lo siguiente:\n",
    "\n",
    "1. Obtengan un corpus de texto plano en Español, lo suficientemente largo, que contenga información sobre diferentes países. Este texto lo pueden extraer de wikipedia.\n",
    "2. Con la información de este corpus entrenen un modelo word2vec, aquí debe seleccionar un valor $N$ que representa la longitud del vector que representará las palabras. Este modelo es una red neuronal con una sola capa oculta de $N$ neuronas.\n",
    "3. Una vez tengan el modelo identifiquen la relación entre algunos países (no todos) de su corpus y sus capitales.\n",
    "4. Mediante esta relación encuentren las capitales de los demás países que incluyeron en el corpus. Para esto deben realizar una búsqueda de vectores cercanos a un punto en el espacio $\\mathbb{R}^{\\text{N}}$. Esta búsqueda la pueden realizar con *Locally Sensitive Hashing*.\n",
    "4. Realice una visualización en 2D o 3D de los vectores correspondientes a los países y sus capitales. Indicando los que usarón de referencia para encontrar la relación entre país y capital, y aquellos para los cuales no utilizarón esa relación.\n",
    "5. Seleccione 5 Palabras y para ellas calcule las 10 palabras más parecidas (sinonimos) en orden de similitud.\n",
    "6. Construya un nuevo corpus, más pequeño, sobre un tema cualquiera. Para este corpus necesita la versión en Español y en Ingles de los textos. Una vez más pueden utilizar Wikipedia para esto. \n",
    "7. Obtenga las representaciones en vectores par alas palabras en Español y en Ingles.\n",
    "8. De los datos obtenidos, escoga un conjunto $m$ de palabras en español, y las respectiva traducción en ingles (que se encuentren en el vocabulario que construyeron) y planteé el problema de transformacion $\\mathcal{X}\\mathbf{R} = \\mathcal{Y}$. De tal forma que encuentren la matrix de \"traducción\" $\\mathbf{R}$.\n",
    "9. Realicé esta operación para varios valores de $m$.\n",
    "10. Finalmente escoja algunas palabras en Español, apliqueles la transformación $\\mathbf{R}$ y liste las 5 palabras más cercanas en $\\mathcal{Y}$ a esta traducción.\n",
    "\n",
    "Al finalizar los diferentes puntos del proyecto, contesten las isguientes preguntas:\n",
    "\n",
    "1. ¿Qué problemas tuvierón a la hora de implementar el modelo word2vec?\n",
    "2. ¿Cómo escogierón el parámetro $N$?\n",
    "3. ¿Qué pueden decir de los resultados del modelo buscando la relación entre los países y las capitales?\n",
    "4. ¿Qué tan bien funciona el modelo para los sinonimos?, ¿Cómo creen que se puede mejorar este modelo?\n",
    "5. ¿Cómo afecta el parámetro $m$ el funcionamiento del modelo de traducción?\n",
    "6. ¿Cómo mejorarian el modelo de traducción?\n",
    "7. ¿Qué concluyen de este proyecto y de los resultados obtenidos?\n",
    "\n",
    "Al finalizar deben entregar el notebook, con los archivos de soporte (los corpus) y demás elementos que consideren necesarios. Recuerde dar respuesta a las preguntas del notebook, y comentar cada parte del proceso. El proyecto se debe entregar a más tardar el **Domingo 29 de Marzo a las 12 de la noche**.\n"
   ]
  },
  {
   "cell_type": "code",
   "execution_count": 179,
   "metadata": {},
   "outputs": [
    {
     "name": "stdout",
     "output_type": "stream",
     "text": [
      "Defaulting to user installation because normal site-packages is not writeable\n",
      "Requirement already satisfied: lshashpy3 in /home/felipe/.local/lib/python3.8/site-packages (0.0.8)\n"
     ]
    }
   ],
   "source": [
    "# Instalacion de libreria para algoritmo de clasificacion\n",
    "!pip3 install lshashpy3"
   ]
  },
  {
   "cell_type": "code",
   "execution_count": 190,
   "metadata": {
    "id": "89YpInSR6S3i"
   },
   "outputs": [],
   "source": [
    "# Importacndo librerias necesarias\n",
    "\n",
    "import re \n",
    "import numpy as np\n",
    "\n",
    "# Matplotlib\n",
    "from mpl_toolkits import mplot3d\n",
    "import numpy as np\n",
    "import matplotlib.pyplot as plt\n",
    "\n",
    "# TensorFlow\n",
    "import tensorflow as tf\n",
    "from tensorflow.keras.models import Sequential\n",
    "from tensorflow.keras.layers import Dense, Dropout, LSTM\n",
    "\n",
    "# Sklearn\n",
    "from sklearn.model_selection import train_test_split\n",
    "from sklearn.decomposition import PCA\n",
    "\n",
    "# Algoritmo de clasificacion\n",
    "import lshashpy3 as lshash"
   ]
  },
  {
   "cell_type": "code",
   "execution_count": 2,
   "metadata": {
    "id": "RDGGYLqQ6S3l"
   },
   "outputs": [],
   "source": [
    "# Función para leer y procesar el archivo en texto plano.\n",
    "\n",
    "def get_file_data(fname, stop_word_removal='no'):\n",
    "    file_contents = []\n",
    "    with open(fname,encoding=\"utf-8\") as f:\n",
    "        file_contents = f.read()\n",
    "    text = []\n",
    "    for val in file_contents.split('.'):\n",
    "        val = re.sub(r'[,¡!¿?;-]+','.',val)\n",
    "        val = re.sub(r'á','a',val)\n",
    "        val = re.sub(r'é','e',val)\n",
    "        val = re.sub(r'í','i',val)\n",
    "        val = re.sub(r'ó','o',val)\n",
    "        val = re.sub(r'ú','u',val)\n",
    "        val = re.sub(r'Á','A',val)\n",
    "        val = re.sub(r'É','E',val)\n",
    "        val = re.sub(r'Í','I',val)\n",
    "        val = re.sub(r'Ó','O',val)\n",
    "        val = re.sub(r'Ú','U',val)\n",
    "        val = re.sub(r'ñ','n',val)\n",
    "        val = re.sub(r'Ñ','N',val)\n",
    "        sent = re.findall(\"[A-Za-z]+\", val)\n",
    "        line = ''\n",
    "        for words in sent:\n",
    "            \n",
    "            if stop_word_removal == 'yes': \n",
    "                if len(words) > 1 and words not in stop_words:\n",
    "                    line = line + ' ' + words\n",
    "            else:\n",
    "                if len(words) > 1 :\n",
    "                    line = line + ' ' + words\n",
    "        text.append(line)\n",
    "    return text\n",
    "\n",
    "# Función para obtener un Vocabulario en función del texto procesado\n",
    "\n",
    "def generate_dictinoary_data(text):\n",
    "    word_to_index= dict()\n",
    "    index_to_word = dict()\n",
    "    corpus = []\n",
    "    count = 0\n",
    "    vocab_size = 0\n",
    "    \n",
    "    for row in text:\n",
    "        for word in row.split():\n",
    "            word = word.lower()\n",
    "            corpus.append(word)\n",
    "            if word_to_index.get(word) == None:\n",
    "                word_to_index.update ( {word : count})\n",
    "                index_to_word.update ( {count : word })\n",
    "                count  += 1\n",
    "    vocab_size = len(word_to_index)\n",
    "    length_of_corpus = len(corpus)\n",
    "    \n",
    "    return word_to_index,index_to_word,corpus,vocab_size,length_of_corpus\n",
    "\n",
    "# Función para generar representaciones one hot de los vectores target y del corpus\n",
    "\n",
    "def get_one_hot_vectors(target_word,context_words,vocab_size,word_to_index):\n",
    "    \n",
    "    #Create an array of size = vocab_size filled with zeros\n",
    "    trgt_word_vector = np.zeros(vocab_size)\n",
    "    \n",
    "    #Get the index of the target_word according to the dictionary word_to_index. \n",
    "    index_of_word_dictionary = word_to_index.get(target_word) \n",
    "    \n",
    "    #Set the index to 1\n",
    "    trgt_word_vector[index_of_word_dictionary] = 1\n",
    "    \n",
    "    #Repeat same steps for context_words but in a loop\n",
    "    ctxt_word_vector = np.zeros(vocab_size)\n",
    "    \n",
    "    \n",
    "    for word in context_words:\n",
    "        index_of_word_dictionary = word_to_index.get(word) \n",
    "        ctxt_word_vector[index_of_word_dictionary] = 1\n",
    "        \n",
    "    return trgt_word_vector,ctxt_word_vector\n",
    "\n",
    "# Función para generar los datos de entrenamiento para la red neuronal que representa el modelo word2vec\n",
    "\n",
    "def generate_training_data(corpus,window_size,vocab_size,word_to_index,length_of_corpus,sample=None):\n",
    "\n",
    "    training_data =  []\n",
    "    training_sample_words =  []\n",
    "    for i,word in enumerate(corpus):\n",
    "\n",
    "        index_target_word = i\n",
    "        target_word = word\n",
    "        context_words = []\n",
    "\n",
    "        #when target word is the first word\n",
    "        if i == 0:  \n",
    "\n",
    "            # trgt_word_index:(0), ctxt_word_index:(1,2)\n",
    "            context_words = [corpus[x] for x in range(i + 1 , window_size + 1)] \n",
    "\n",
    "\n",
    "        #when target word is the last word\n",
    "        elif i == len(corpus)-1:\n",
    "\n",
    "            # trgt_word_index:(9), ctxt_word_index:(8,7), length_of_corpus = 10\n",
    "            context_words = [corpus[x] for x in range(length_of_corpus - 2 ,length_of_corpus -2 - window_size  , -1 )]\n",
    "\n",
    "        #When target word is the middle word\n",
    "        else:\n",
    "\n",
    "            #Before the middle target word\n",
    "            before_target_word_index = index_target_word - 1\n",
    "            for x in range(before_target_word_index, before_target_word_index - window_size , -1):\n",
    "                if x >=0:\n",
    "                    context_words.extend([corpus[x]])\n",
    "\n",
    "            #After the middle target word\n",
    "            after_target_word_index = index_target_word + 1\n",
    "            for x in range(after_target_word_index, after_target_word_index + window_size):\n",
    "                if x < len(corpus):\n",
    "                    context_words.extend([corpus[x]])\n",
    "\n",
    "\n",
    "        trgt_word_vector,ctxt_word_vector = get_one_hot_vectors(target_word,context_words,vocab_size,word_to_index)\n",
    "        training_data.append([trgt_word_vector,ctxt_word_vector])   \n",
    "        \n",
    "        if sample is not None:\n",
    "            training_sample_words.append([target_word,context_words])   \n",
    "        \n",
    "    return training_data,training_sample_words"
   ]
  },
  {
   "cell_type": "code",
   "execution_count": 3,
   "metadata": {
    "id": "cf-0eymC6S3n"
   },
   "outputs": [],
   "source": [
    "# Ejecución del código\n",
    "\n",
    "fname = 'paises' #Nombre del archivo\n",
    "C = 2 # Número de palabras de contexto a la derecha y a la izquierda\n",
    "text = get_file_data(fname, stop_word_removal='no')\n",
    "word_to_index,index_to_word,corpus,vocab_size,length_of_corpus = generate_dictinoary_data(text)\n",
    "training_data,training_sample_words = generate_training_data(corpus,C,vocab_size,word_to_index,length_of_corpus,sample=None)"
   ]
  },
  {
   "cell_type": "markdown",
   "metadata": {
    "id": "7uqitzoR6S3o"
   },
   "source": [
    "# Solucion"
   ]
  },
  {
   "cell_type": "code",
   "execution_count": 5,
   "metadata": {
    "id": "7DmaQLxc6S3q"
   },
   "outputs": [],
   "source": [
    "# Matriz de entrada y de salida\n",
    "X = np.array([x[1] for x in training_data])\n",
    "Y = np.array([y[0] for y in training_data])"
   ]
  },
  {
   "cell_type": "code",
   "execution_count": 6,
   "metadata": {
    "id": "vJb1b4-e6S3r"
   },
   "outputs": [],
   "source": [
    "# Dividiendo train test\n",
    "X_train, X_test, Y_train, Y_test = train_test_split(X,Y,test_size=0.3,random_state=42)"
   ]
  },
  {
   "cell_type": "code",
   "execution_count": 10,
   "metadata": {
    "id": "lK6lKPYC6S3u"
   },
   "outputs": [],
   "source": [
    "# Definiendo red neuronal\n",
    "model = Sequential()  \n",
    "model.add(Dense(100,input_shape=(vocab_size,), activation='relu'))\n",
    "model.add(Dense(vocab_size, activation='softmax'))\n",
    "\n",
    "model.compile(loss='CategoricalCrossentropy', optimizer='rmsprop', metrics=['accuracy'])  "
   ]
  },
  {
   "cell_type": "code",
   "execution_count": 11,
   "metadata": {
    "colab": {
     "base_uri": "https://localhost:8080/"
    },
    "id": "zqM7OnIV6S3v",
    "outputId": "4ab2c00b-7206-4224-f1c6-6e2de4765b86"
   },
   "outputs": [
    {
     "name": "stdout",
     "output_type": "stream",
     "text": [
      "Epoch 1/50\n",
      "160/160 [==============================] - 1s 4ms/step - loss: 6.7412 - accuracy: 0.0831\n",
      "Epoch 2/50\n",
      "160/160 [==============================] - 1s 4ms/step - loss: 5.9870 - accuracy: 0.0862\n",
      "Epoch 3/50\n",
      "160/160 [==============================] - 1s 4ms/step - loss: 5.7787 - accuracy: 0.0880\n",
      "Epoch 4/50\n",
      "160/160 [==============================] - 1s 4ms/step - loss: 5.6250 - accuracy: 0.1023\n",
      "Epoch 5/50\n",
      "160/160 [==============================] - 1s 4ms/step - loss: 5.4889 - accuracy: 0.1078\n",
      "Epoch 6/50\n",
      "160/160 [==============================] - 1s 5ms/step - loss: 5.3593 - accuracy: 0.1184\n",
      "Epoch 7/50\n",
      "160/160 [==============================] - 1s 5ms/step - loss: 5.2376 - accuracy: 0.1274\n",
      "Epoch 8/50\n",
      "160/160 [==============================] - 1s 6ms/step - loss: 5.1205 - accuracy: 0.1342\n",
      "Epoch 9/50\n",
      "160/160 [==============================] - 1s 6ms/step - loss: 5.0047 - accuracy: 0.1385\n",
      "Epoch 10/50\n",
      "160/160 [==============================] - 1s 6ms/step - loss: 4.8917 - accuracy: 0.1436\n",
      "Epoch 11/50\n",
      "160/160 [==============================] - 1s 5ms/step - loss: 4.7783 - accuracy: 0.1538\n",
      "Epoch 12/50\n",
      "160/160 [==============================] - 1s 5ms/step - loss: 4.6651 - accuracy: 0.1652\n",
      "Epoch 13/50\n",
      "160/160 [==============================] - 1s 5ms/step - loss: 4.5545 - accuracy: 0.1795\n",
      "Epoch 14/50\n",
      "160/160 [==============================] - 1s 5ms/step - loss: 4.4424 - accuracy: 0.1987\n",
      "Epoch 15/50\n",
      "160/160 [==============================] - 1s 5ms/step - loss: 4.3300 - accuracy: 0.2136\n",
      "Epoch 16/50\n",
      "160/160 [==============================] - 1s 6ms/step - loss: 4.2201 - accuracy: 0.2320\n",
      "Epoch 17/50\n",
      "160/160 [==============================] - 1s 5ms/step - loss: 4.1083 - accuracy: 0.2506\n",
      "Epoch 18/50\n",
      "160/160 [==============================] - 1s 5ms/step - loss: 3.9971 - accuracy: 0.2665\n",
      "Epoch 19/50\n",
      "160/160 [==============================] - 1s 5ms/step - loss: 3.8875 - accuracy: 0.2888\n",
      "Epoch 20/50\n",
      "160/160 [==============================] - 1s 5ms/step - loss: 3.7751 - accuracy: 0.3096\n",
      "Epoch 21/50\n",
      "160/160 [==============================] - 1s 5ms/step - loss: 3.6645 - accuracy: 0.3257\n",
      "Epoch 22/50\n",
      "160/160 [==============================] - 1s 5ms/step - loss: 3.5529 - accuracy: 0.3457\n",
      "Epoch 23/50\n",
      "160/160 [==============================] - 1s 6ms/step - loss: 3.4437 - accuracy: 0.3612\n",
      "Epoch 24/50\n",
      "160/160 [==============================] - 1s 6ms/step - loss: 3.3340 - accuracy: 0.3802\n",
      "Epoch 25/50\n",
      "160/160 [==============================] - 1s 5ms/step - loss: 3.2231 - accuracy: 0.3984\n",
      "Epoch 26/50\n",
      "160/160 [==============================] - 1s 5ms/step - loss: 3.1158 - accuracy: 0.4166\n",
      "Epoch 27/50\n",
      "160/160 [==============================] - 1s 5ms/step - loss: 3.0064 - accuracy: 0.4303\n",
      "Epoch 28/50\n",
      "160/160 [==============================] - 1s 5ms/step - loss: 2.8986 - accuracy: 0.4462\n",
      "Epoch 29/50\n",
      "160/160 [==============================] - 1s 5ms/step - loss: 2.7881 - accuracy: 0.4633\n",
      "Epoch 30/50\n",
      "160/160 [==============================] - 1s 5ms/step - loss: 2.6795 - accuracy: 0.4797\n",
      "Epoch 31/50\n",
      "160/160 [==============================] - 1s 5ms/step - loss: 2.5707 - accuracy: 0.5019\n",
      "Epoch 32/50\n",
      "160/160 [==============================] - 1s 5ms/step - loss: 2.4619 - accuracy: 0.5173\n",
      "Epoch 33/50\n",
      "160/160 [==============================] - 1s 6ms/step - loss: 2.3534 - accuracy: 0.5326\n",
      "Epoch 34/50\n",
      "160/160 [==============================] - 1s 5ms/step - loss: 2.2463 - accuracy: 0.5501\n",
      "Epoch 35/50\n",
      "160/160 [==============================] - 1s 6ms/step - loss: 2.1380 - accuracy: 0.5683\n",
      "Epoch 36/50\n",
      "160/160 [==============================] - 1s 5ms/step - loss: 2.0310 - accuracy: 0.5842\n",
      "Epoch 37/50\n",
      "160/160 [==============================] - 1s 5ms/step - loss: 1.9249 - accuracy: 0.6002\n",
      "Epoch 38/50\n",
      "160/160 [==============================] - 1s 5ms/step - loss: 1.8190 - accuracy: 0.6161\n",
      "Epoch 39/50\n",
      "160/160 [==============================] - 1s 5ms/step - loss: 1.7149 - accuracy: 0.6320\n",
      "Epoch 40/50\n",
      "160/160 [==============================] - 1s 5ms/step - loss: 1.6113 - accuracy: 0.6492\n",
      "Epoch 41/50\n",
      "160/160 [==============================] - 1s 5ms/step - loss: 1.5108 - accuracy: 0.6639\n",
      "Epoch 42/50\n",
      "160/160 [==============================] - 1s 6ms/step - loss: 1.4121 - accuracy: 0.6784\n",
      "Epoch 43/50\n",
      "160/160 [==============================] - 1s 6ms/step - loss: 1.3147 - accuracy: 0.6941\n",
      "Epoch 44/50\n",
      "160/160 [==============================] - 1s 5ms/step - loss: 1.2199 - accuracy: 0.7063\n",
      "Epoch 45/50\n",
      "160/160 [==============================] - 1s 5ms/step - loss: 1.1276 - accuracy: 0.7255\n",
      "Epoch 46/50\n",
      "160/160 [==============================] - 1s 6ms/step - loss: 1.0390 - accuracy: 0.7423\n",
      "Epoch 47/50\n",
      "160/160 [==============================] - 1s 6ms/step - loss: 0.9540 - accuracy: 0.7590\n",
      "Epoch 48/50\n",
      "160/160 [==============================] - 1s 6ms/step - loss: 0.8725 - accuracy: 0.7823\n",
      "Epoch 49/50\n",
      "160/160 [==============================] - 1s 5ms/step - loss: 0.7946 - accuracy: 0.8013\n",
      "Epoch 50/50\n",
      "160/160 [==============================] - 1s 5ms/step - loss: 0.7207 - accuracy: 0.8197\n"
     ]
    },
    {
     "data": {
      "text/plain": [
       "<tensorflow.python.keras.callbacks.History at 0x7fc598280b80>"
      ]
     },
     "execution_count": 11,
     "metadata": {},
     "output_type": "execute_result"
    }
   ],
   "source": [
    "# Entrenando\n",
    "model.fit(X,Y,epochs=50)"
   ]
  },
  {
   "cell_type": "code",
   "execution_count": 38,
   "metadata": {},
   "outputs": [],
   "source": [
    "# Obteniendo representaciones de los vectores con las matrices de pesos\n",
    "W1 = model.get_weights()[0]\n",
    "W2 = model.get_weights()[2]\n",
    "D = 0.5*(W2.T+W1)"
   ]
  },
  {
   "cell_type": "markdown",
   "metadata": {
    "id": "c0WIE7O46S3y"
   },
   "source": [
    "# Punto 3"
   ]
  },
  {
   "cell_type": "code",
   "execution_count": 43,
   "metadata": {
    "id": "jeqvxj3v6S30"
   },
   "outputs": [],
   "source": [
    "# Obteniendo indices de los vectores que representan los paises y capitales\n",
    "peru_index      = word_to_index['peru']\n",
    "lima_index      = word_to_index['lima']\n",
    "\n",
    "nepal_index     = word_to_index['nepal']\n",
    "katmandu_index  = word_to_index['katmandu']\n",
    "\n",
    "brunei_index    = word_to_index['brunei']\n",
    "bandar_index    = word_to_index['bandar']\n",
    "\n",
    "canada_index    = word_to_index['canada']\n",
    "ottawa_index    = word_to_index['ottawa']\n",
    "\n",
    "dinamarca_index = word_to_index['dinamarca']\n",
    "copenhague_index = word_to_index['copenhague']\n",
    "\n",
    "gambia_index    = word_to_index['gambia']\n",
    "banjul_index    = word_to_index['banjul'] "
   ]
  },
  {
   "cell_type": "code",
   "execution_count": 45,
   "metadata": {
    "id": "LP7VADPx6S30"
   },
   "outputs": [],
   "source": [
    "# Obteniendo los vectores que representan los paises y capitales\n",
    "peru = D[peru_index]\n",
    "lima = D[lima_index]\n",
    "\n",
    "nepal = D[nepal_index]\n",
    "katmandu = D[katmandu_index]\n",
    "\n",
    "brunei = D[brunei_index]\n",
    "bandar = D[bandar_index]\n",
    "\n",
    "canada = D[canada_index]\n",
    "ottawa = D[ottawa_index]\n",
    "\n",
    "dinamarca = D[dinamarca_index]\n",
    "copenhague = D[copenhague_index]\n",
    "\n",
    "gambia = D[gambia_index]\n",
    "banjul = D[banjul_index]"
   ]
  },
  {
   "cell_type": "code",
   "execution_count": 46,
   "metadata": {
    "id": "HbzucVPr6S31"
   },
   "outputs": [],
   "source": [
    "# Calculando relaciones entre paises y capitales\n",
    "\n",
    "r_peru   = peru-lima\n",
    "r_nepal  = nepal- katmandu\n",
    "r_brunei = brunei-bandar\n",
    "r_canada = canada-ottawa\n",
    "r_dinamarca = dinamarca-copenhague\n",
    "\n",
    "# Vector representativo\n",
    "capital = np.array([r_peru,r_nepal,r_brunei,r_canada,r_dinamarca]).mean(axis=0)"
   ]
  },
  {
   "cell_type": "code",
   "execution_count": 83,
   "metadata": {
    "id": "IJoDEKLq6S32"
   },
   "outputs": [],
   "source": [
    "# Modelo con 4 divisiones y vectores de R^100\n",
    "lsh = lshash.LSHash(4, 100)\n",
    "\n",
    "for word in D:\n",
    "    lsh.index(word)"
   ]
  },
  {
   "cell_type": "code",
   "execution_count": 189,
   "metadata": {},
   "outputs": [],
   "source": [
    "# Funcion para obtener el indice de un vector en la matriz\n",
    "def getIndex(D,v):\n",
    "    k = np.where(D==v)[0].tolist()\n",
    "    i = max(set(k),key=k.count)\n",
    "    return i"
   ]
  },
  {
   "cell_type": "code",
   "execution_count": 93,
   "metadata": {
    "colab": {
     "base_uri": "https://localhost:8080/"
    },
    "id": "GngtdWmy7Iim",
    "outputId": "1260270d-e29a-4098-df12-5969b05e41e2"
   },
   "outputs": [],
   "source": [
    "# Consultando vector en el modelo\n",
    "nn = lsh.query(list(nepal+capital), distance_func=\"cosine\")"
   ]
  },
  {
   "cell_type": "code",
   "execution_count": 95,
   "metadata": {
    "colab": {
     "base_uri": "https://localhost:8080/"
    },
    "id": "d7rxQ63B74Xe",
    "outputId": "d227f95a-7597-41ab-a85f-bbeaac1f46b8"
   },
   "outputs": [
    {
     "data": {
      "text/plain": [
       "True"
      ]
     },
     "execution_count": 95,
     "metadata": {},
     "output_type": "execute_result"
    }
   ],
   "source": [
    "# Verificando que existe\n",
    "'katmandu' in [index_to_word[getIndex(D,nn[i][0][0])] for i in range(len(nn))]"
   ]
  },
  {
   "cell_type": "code",
   "execution_count": 99,
   "metadata": {},
   "outputs": [],
   "source": [
    "M_pais = ['peru','nepal','brunei','canada','dinamarca','gambia','lima','katmandu','bandar','ottawa','copenhague','banjul']\n",
    "M_indx = [word_to_index[word] for word in M_pais]\n",
    "M = D[M_indx,:]"
   ]
  },
  {
   "cell_type": "code",
   "execution_count": 191,
   "metadata": {
    "colab": {
     "base_uri": "https://localhost:8080/"
    },
    "id": "CtBwaR3o6S34",
    "outputId": "72aa4da1-fa0e-41d0-887d-5cfb997225b4"
   },
   "outputs": [
    {
     "name": "stdout",
     "output_type": "stream",
     "text": [
      "Varianza explicada:  [0.24003117 0.12794992 0.11701816]\n"
     ]
    }
   ],
   "source": [
    "# Aplicando PCA con 3 componentes\n",
    "pca = PCA(n_components=3)\n",
    "pca.fit(M.T)\n",
    "\n",
    "print(\"Varianza explicada: \",pca.explained_variance_ratio_)"
   ]
  },
  {
   "cell_type": "code",
   "execution_count": 192,
   "metadata": {
    "colab": {
     "base_uri": "https://localhost:8080/",
     "height": 575
    },
    "id": "J9QoZZpbScdq",
    "outputId": "2c456b4a-44a8-47a7-8488-d7dac1b1c37c"
   },
   "outputs": [
    {
     "data": {
      "image/png": "[encoded data removed]",
      "text/plain": [
       "<Figure size 720x720 with 1 Axes>"
      ]
     },
     "metadata": {
      "needs_background": "light"
     },
     "output_type": "display_data"
    }
   ],
   "source": [
    "# Graficando las componentes de PCA\n",
    "fig = plt.figure(figsize=(10,10))\n",
    "ax = plt.axes(projection='3d')\n",
    "\n",
    "\n",
    "labels = ['peru','nepal','brunei','canada','dinamarca','gambia','lima','katmandu','bandar','ottawa','copenhague','banjul']\n",
    "\n",
    "# componentes de PCA\n",
    "xdata = pca.components_[0,:]\n",
    "ydata = pca.components_[1,:]\n",
    "zdata = pca.components_[2,:]\n",
    "\n",
    "ax.scatter3D(xdata[0:6], ydata[0:6], zdata[0:6],color='b')\n",
    "ax.scatter3D(xdata[6:], ydata[6:], zdata[6:],color='r')\n",
    "\n",
    "for label in range(12):\n",
    "    ax.text(x[label],y[label],z[label],labels[label])"
   ]
  },
  {
   "cell_type": "markdown",
   "metadata": {
    "id": "5Uc0c3R4Z99k"
   },
   "source": [
    "# Punto 6: Encontrando sinonimos"
   ]
  },
  {
   "cell_type": "code",
   "execution_count": 186,
   "metadata": {
    "id": "MwQuP6W4Z_MX"
   },
   "outputs": [],
   "source": [
    "# Modelo con 4 divisiones y vectores de R^100\n",
    "lsh = lshash.LSHash(4, 100)\n",
    "\n",
    "for word in D:\n",
    "    lsh.index(word)"
   ]
  },
  {
   "cell_type": "code",
   "execution_count": 187,
   "metadata": {
    "id": "Du9C6hYzaOtL"
   },
   "outputs": [],
   "source": [
    "# Palabras a buscar sinonimos\n",
    "words = ['restos','mundo','antigua','comunidades','divide']\n",
    "\n",
    "# Indices y vectores de las palabras\n",
    "words_indx = [word_to_index[w] for w in words]\n",
    "indx_vec = [D[i] for i in words_indx]"
   ]
  },
  {
   "cell_type": "code",
   "execution_count": 188,
   "metadata": {
    "colab": {
     "base_uri": "https://localhost:8080/"
    },
    "id": "GyJiHmQxaLFn",
    "outputId": "f41a720f-e988-4e7c-c34e-3a1e7849cc14"
   },
   "outputs": [
    {
     "name": "stdout",
     "output_type": "stream",
     "text": [
      "['restos', 'extensa', 'acumulacion', 'dirigida', 'estacion', 'tratandose', 'australianas', 'explicacion', 'especialmente', 'supresion']\n",
      "['mundo', 'mejor', 'inusual', 'ceremoniales', 'callao', 'subcontinente', 'borde', 'mar', 'gobernaria', 'sorpresiva']\n",
      "['antigua', 'civilizacion', 'popular', 'paridad', 'maxima', 'sobresalientes', 'quinta', 'selva', 'privilegiada', 'cubria']\n",
      "['comunidades', 'guerras', 'lineas', 'arenas', 'parlamentarias', 'historica', 'tasas', 'benin', 'elecciones', 'manila']\n",
      "['divide', 'configuro', 'renunciar', 'cuyo', 'textos', 'andes', 'unionistas', 'maritimo', 'remontan', 'dan']\n"
     ]
    }
   ],
   "source": [
    "# Buscando las 10 palabras que mas se parecen\n",
    "top = 10\n",
    "for word in indx_vec:\n",
    "    vecinos = lsh.query(word.tolist(),num_results=top,distance_func='cosine')\n",
    "    print([index_to_word[getIndex(D,vecinos[i][0][0])] for i in range(len(vecinos))])"
   ]
  },
  {
   "cell_type": "markdown",
   "metadata": {
    "id": "VQwqqZMMlw_1"
   },
   "source": [
    "# Punto 7 (Traducción de español a ingles)"
   ]
  },
  {
   "cell_type": "markdown",
   "metadata": {},
   "source": [
    "### Español"
   ]
  },
  {
   "cell_type": "code",
   "execution_count": 140,
   "metadata": {
    "id": "lvzAc0m5lyQA"
   },
   "outputs": [],
   "source": [
    "# Ejecución del código\n",
    "\n",
    "fname = 'cuento.txt' #Nombre del archivo\n",
    "C_E = 2 # Número de palabras de contexto a la derecha y a la izquierda\n",
    "text_E = get_file_data(fname, stop_word_removal='no')\n",
    "word_to_index_E,index_to_word_E,corpus_E,vocab_size_E,length_of_corpus_E = generate_dictinoary_data(text_E)\n",
    "training_data_E,training_sample_words_E = generate_training_data(corpus_E,C_E,vocab_size_E,word_to_index_E,length_of_corpus_E,sample=None)"
   ]
  },
  {
   "cell_type": "code",
   "execution_count": 141,
   "metadata": {},
   "outputs": [],
   "source": [
    "# Definiendo red neuronal\n",
    "model_E = Sequential()  \n",
    "model_E.add(Dense(30,input_shape=(vocab_size_E,), activation='relu'))\n",
    "model_E.add(Dense(vocab_size_E, activation='softmax'))\n",
    "\n",
    "model_E.compile(loss='CategoricalCrossentropy', optimizer='rmsprop', metrics=['accuracy'])  "
   ]
  },
  {
   "cell_type": "code",
   "execution_count": 142,
   "metadata": {},
   "outputs": [
    {
     "name": "stdout",
     "output_type": "stream",
     "text": [
      "Epoch 1/100\n",
      "15/15 [==============================] - 0s 2ms/step - loss: 5.5781 - accuracy: 0.0085\n",
      "Epoch 2/100\n",
      "15/15 [==============================] - 0s 2ms/step - loss: 5.5368 - accuracy: 0.0406\n",
      "Epoch 3/100\n",
      "15/15 [==============================] - 0s 2ms/step - loss: 5.5005 - accuracy: 0.0534\n",
      "Epoch 4/100\n",
      "15/15 [==============================] - 0s 2ms/step - loss: 5.4595 - accuracy: 0.0705\n",
      "Epoch 5/100\n",
      "15/15 [==============================] - 0s 2ms/step - loss: 5.4130 - accuracy: 0.0726\n",
      "Epoch 6/100\n",
      "15/15 [==============================] - 0s 3ms/step - loss: 5.3614 - accuracy: 0.0748\n",
      "Epoch 7/100\n",
      "15/15 [==============================] - 0s 2ms/step - loss: 5.3030 - accuracy: 0.0726\n",
      "Epoch 8/100\n",
      "15/15 [==============================] - 0s 2ms/step - loss: 5.2395 - accuracy: 0.0726\n",
      "Epoch 9/100\n",
      "15/15 [==============================] - 0s 2ms/step - loss: 5.1730 - accuracy: 0.0705\n",
      "Epoch 10/100\n",
      "15/15 [==============================] - 0s 2ms/step - loss: 5.1035 - accuracy: 0.0684\n",
      "Epoch 11/100\n",
      "15/15 [==============================] - 0s 2ms/step - loss: 5.0335 - accuracy: 0.0684\n",
      "Epoch 12/100\n",
      "15/15 [==============================] - 0s 2ms/step - loss: 4.9645 - accuracy: 0.0684\n",
      "Epoch 13/100\n",
      "15/15 [==============================] - 0s 2ms/step - loss: 4.8988 - accuracy: 0.0684\n",
      "Epoch 14/100\n",
      "15/15 [==============================] - 0s 2ms/step - loss: 4.8365 - accuracy: 0.0684\n",
      "Epoch 15/100\n",
      "15/15 [==============================] - 0s 2ms/step - loss: 4.7787 - accuracy: 0.0684\n",
      "Epoch 16/100\n",
      "15/15 [==============================] - 0s 3ms/step - loss: 4.7247 - accuracy: 0.0684\n",
      "Epoch 17/100\n",
      "15/15 [==============================] - 0s 2ms/step - loss: 4.6741 - accuracy: 0.0684\n",
      "Epoch 18/100\n",
      "15/15 [==============================] - 0s 2ms/step - loss: 4.6251 - accuracy: 0.0684\n",
      "Epoch 19/100\n",
      "15/15 [==============================] - 0s 2ms/step - loss: 4.5789 - accuracy: 0.0684\n",
      "Epoch 20/100\n",
      "15/15 [==============================] - 0s 2ms/step - loss: 4.5332 - accuracy: 0.0684\n",
      "Epoch 21/100\n",
      "15/15 [==============================] - 0s 2ms/step - loss: 4.4872 - accuracy: 0.0684\n",
      "Epoch 22/100\n",
      "15/15 [==============================] - 0s 2ms/step - loss: 4.4416 - accuracy: 0.0684\n",
      "Epoch 23/100\n",
      "15/15 [==============================] - 0s 2ms/step - loss: 4.3959 - accuracy: 0.0684\n",
      "Epoch 24/100\n",
      "15/15 [==============================] - 0s 2ms/step - loss: 4.3492 - accuracy: 0.0684\n",
      "Epoch 25/100\n",
      "15/15 [==============================] - 0s 3ms/step - loss: 4.3025 - accuracy: 0.0684\n",
      "Epoch 26/100\n",
      "15/15 [==============================] - 0s 2ms/step - loss: 4.2556 - accuracy: 0.0684\n",
      "Epoch 27/100\n",
      "15/15 [==============================] - 0s 3ms/step - loss: 4.2078 - accuracy: 0.0705\n",
      "Epoch 28/100\n",
      "15/15 [==============================] - 0s 2ms/step - loss: 4.1601 - accuracy: 0.0726\n",
      "Epoch 29/100\n",
      "15/15 [==============================] - 0s 2ms/step - loss: 4.1114 - accuracy: 0.0705\n",
      "Epoch 30/100\n",
      "15/15 [==============================] - 0s 2ms/step - loss: 4.0622 - accuracy: 0.0726\n",
      "Epoch 31/100\n",
      "15/15 [==============================] - 0s 2ms/step - loss: 4.0119 - accuracy: 0.0791\n",
      "Epoch 32/100\n",
      "15/15 [==============================] - 0s 2ms/step - loss: 3.9618 - accuracy: 0.0876\n",
      "Epoch 33/100\n",
      "15/15 [==============================] - 0s 2ms/step - loss: 3.9094 - accuracy: 0.0919\n",
      "Epoch 34/100\n",
      "15/15 [==============================] - 0s 2ms/step - loss: 3.8576 - accuracy: 0.0940\n",
      "Epoch 35/100\n",
      "15/15 [==============================] - 0s 2ms/step - loss: 3.8037 - accuracy: 0.0983\n",
      "Epoch 36/100\n",
      "15/15 [==============================] - 0s 2ms/step - loss: 3.7498 - accuracy: 0.0983\n",
      "Epoch 37/100\n",
      "15/15 [==============================] - 0s 3ms/step - loss: 3.6944 - accuracy: 0.0983\n",
      "Epoch 38/100\n",
      "15/15 [==============================] - 0s 2ms/step - loss: 3.6381 - accuracy: 0.1090\n",
      "Epoch 39/100\n",
      "15/15 [==============================] - 0s 2ms/step - loss: 3.5812 - accuracy: 0.1090\n",
      "Epoch 40/100\n",
      "15/15 [==============================] - 0s 2ms/step - loss: 3.5234 - accuracy: 0.1239\n",
      "Epoch 41/100\n",
      "15/15 [==============================] - 0s 2ms/step - loss: 3.4647 - accuracy: 0.1282\n",
      "Epoch 42/100\n",
      "15/15 [==============================] - 0s 2ms/step - loss: 3.4047 - accuracy: 0.1389\n",
      "Epoch 43/100\n",
      "15/15 [==============================] - 0s 2ms/step - loss: 3.3447 - accuracy: 0.1453\n",
      "Epoch 44/100\n",
      "15/15 [==============================] - 0s 2ms/step - loss: 3.2832 - accuracy: 0.1432\n",
      "Epoch 45/100\n",
      "15/15 [==============================] - 0s 3ms/step - loss: 3.2207 - accuracy: 0.1538\n",
      "Epoch 46/100\n",
      "15/15 [==============================] - 0s 2ms/step - loss: 3.1581 - accuracy: 0.1667\n",
      "Epoch 47/100\n",
      "15/15 [==============================] - 0s 3ms/step - loss: 3.0945 - accuracy: 0.1752\n",
      "Epoch 48/100\n",
      "15/15 [==============================] - 0s 3ms/step - loss: 3.0303 - accuracy: 0.1816\n",
      "Epoch 49/100\n",
      "15/15 [==============================] - ETA: 0s - loss: 2.9109 - accuracy: 0.21 - 0s 2ms/step - loss: 2.9654 - accuracy: 0.2030\n",
      "Epoch 50/100\n",
      "15/15 [==============================] - 0s 2ms/step - loss: 2.8998 - accuracy: 0.2094\n",
      "Epoch 51/100\n",
      "15/15 [==============================] - 0s 2ms/step - loss: 2.8331 - accuracy: 0.2308\n",
      "Epoch 52/100\n",
      "15/15 [==============================] - 0s 2ms/step - loss: 2.7676 - accuracy: 0.2543\n",
      "Epoch 53/100\n",
      "15/15 [==============================] - 0s 3ms/step - loss: 2.6997 - accuracy: 0.3077\n",
      "Epoch 54/100\n",
      "15/15 [==============================] - 0s 2ms/step - loss: 2.6333 - accuracy: 0.3056\n",
      "Epoch 55/100\n",
      "15/15 [==============================] - 0s 2ms/step - loss: 2.5664 - accuracy: 0.3419\n",
      "Epoch 56/100\n",
      "15/15 [==============================] - 0s 2ms/step - loss: 2.4987 - accuracy: 0.3761\n",
      "Epoch 57/100\n",
      "15/15 [==============================] - 0s 2ms/step - loss: 2.4323 - accuracy: 0.4167\n",
      "Epoch 58/100\n",
      "15/15 [==============================] - 0s 3ms/step - loss: 2.3654 - accuracy: 0.4530\n",
      "Epoch 59/100\n",
      "15/15 [==============================] - 0s 2ms/step - loss: 2.2990 - accuracy: 0.4915\n",
      "Epoch 60/100\n",
      "15/15 [==============================] - 0s 2ms/step - loss: 2.2316 - accuracy: 0.5363\n",
      "Epoch 61/100\n",
      "15/15 [==============================] - ETA: 0s - loss: 2.0916 - accuracy: 0.68 - 0s 2ms/step - loss: 2.1657 - accuracy: 0.5705\n",
      "Epoch 62/100\n",
      "15/15 [==============================] - 0s 2ms/step - loss: 2.1001 - accuracy: 0.6026\n",
      "Epoch 63/100\n",
      "15/15 [==============================] - 0s 2ms/step - loss: 2.0350 - accuracy: 0.6346\n",
      "Epoch 64/100\n",
      "15/15 [==============================] - 0s 2ms/step - loss: 1.9708 - accuracy: 0.6688\n",
      "Epoch 65/100\n",
      "15/15 [==============================] - 0s 2ms/step - loss: 1.9086 - accuracy: 0.7009\n",
      "Epoch 66/100\n",
      "15/15 [==============================] - 0s 2ms/step - loss: 1.8466 - accuracy: 0.7350\n",
      "Epoch 67/100\n",
      "15/15 [==============================] - 0s 2ms/step - loss: 1.7860 - accuracy: 0.7521\n",
      "Epoch 68/100\n",
      "15/15 [==============================] - 0s 2ms/step - loss: 1.7260 - accuracy: 0.7714\n",
      "Epoch 69/100\n",
      "15/15 [==============================] - 0s 2ms/step - loss: 1.6667 - accuracy: 0.7991\n",
      "Epoch 70/100\n",
      "15/15 [==============================] - 0s 2ms/step - loss: 1.6105 - accuracy: 0.8162\n",
      "Epoch 71/100\n",
      "15/15 [==============================] - 0s 2ms/step - loss: 1.5546 - accuracy: 0.8355\n",
      "Epoch 72/100\n",
      "15/15 [==============================] - 0s 3ms/step - loss: 1.5013 - accuracy: 0.8440\n",
      "Epoch 73/100\n",
      "15/15 [==============================] - 0s 2ms/step - loss: 1.4485 - accuracy: 0.8568\n",
      "Epoch 74/100\n",
      "15/15 [==============================] - 0s 2ms/step - loss: 1.3973 - accuracy: 0.8632\n",
      "Epoch 75/100\n",
      "15/15 [==============================] - 0s 2ms/step - loss: 1.3481 - accuracy: 0.8761\n",
      "Epoch 76/100\n",
      "15/15 [==============================] - 0s 2ms/step - loss: 1.3003 - accuracy: 0.8889\n",
      "Epoch 77/100\n",
      "15/15 [==============================] - 0s 2ms/step - loss: 1.2547 - accuracy: 0.8974\n",
      "Epoch 78/100\n",
      "15/15 [==============================] - 0s 2ms/step - loss: 1.2093 - accuracy: 0.9060\n",
      "Epoch 79/100\n",
      "15/15 [==============================] - 0s 2ms/step - loss: 1.1662 - accuracy: 0.9209\n",
      "Epoch 80/100\n",
      "15/15 [==============================] - 0s 2ms/step - loss: 1.1239 - accuracy: 0.9274\n",
      "Epoch 81/100\n",
      "15/15 [==============================] - 0s 2ms/step - loss: 1.0836 - accuracy: 0.9359\n",
      "Epoch 82/100\n"
     ]
    },
    {
     "name": "stdout",
     "output_type": "stream",
     "text": [
      "15/15 [==============================] - 0s 2ms/step - loss: 1.0441 - accuracy: 0.9338\n",
      "Epoch 83/100\n",
      "15/15 [==============================] - 0s 2ms/step - loss: 1.0068 - accuracy: 0.9444\n",
      "Epoch 84/100\n",
      "15/15 [==============================] - 0s 2ms/step - loss: 0.9699 - accuracy: 0.9466\n",
      "Epoch 85/100\n",
      "15/15 [==============================] - 0s 2ms/step - loss: 0.9344 - accuracy: 0.9551\n",
      "Epoch 86/100\n",
      "15/15 [==============================] - 0s 2ms/step - loss: 0.9007 - accuracy: 0.9573\n",
      "Epoch 87/100\n",
      "15/15 [==============================] - 0s 2ms/step - loss: 0.8676 - accuracy: 0.9594\n",
      "Epoch 88/100\n",
      "15/15 [==============================] - 0s 2ms/step - loss: 0.8356 - accuracy: 0.9679\n",
      "Epoch 89/100\n",
      "15/15 [==============================] - 0s 2ms/step - loss: 0.8059 - accuracy: 0.9679\n",
      "Epoch 90/100\n",
      "15/15 [==============================] - 0s 2ms/step - loss: 0.7760 - accuracy: 0.9722\n",
      "Epoch 91/100\n",
      "15/15 [==============================] - 0s 2ms/step - loss: 0.7473 - accuracy: 0.9679\n",
      "Epoch 92/100\n",
      "15/15 [==============================] - 0s 2ms/step - loss: 0.7205 - accuracy: 0.9701\n",
      "Epoch 93/100\n",
      "15/15 [==============================] - 0s 2ms/step - loss: 0.6941 - accuracy: 0.9744\n",
      "Epoch 94/100\n",
      "15/15 [==============================] - 0s 2ms/step - loss: 0.6682 - accuracy: 0.9765\n",
      "Epoch 95/100\n",
      "15/15 [==============================] - 0s 2ms/step - loss: 0.6441 - accuracy: 0.9765\n",
      "Epoch 96/100\n",
      "15/15 [==============================] - 0s 2ms/step - loss: 0.6199 - accuracy: 0.9786\n",
      "Epoch 97/100\n",
      "15/15 [==============================] - 0s 2ms/step - loss: 0.5971 - accuracy: 0.9765\n",
      "Epoch 98/100\n",
      "15/15 [==============================] - 0s 2ms/step - loss: 0.5750 - accuracy: 0.9829\n",
      "Epoch 99/100\n",
      "15/15 [==============================] - 0s 2ms/step - loss: 0.5536 - accuracy: 0.9829\n",
      "Epoch 100/100\n",
      "15/15 [==============================] - 0s 3ms/step - loss: 0.5331 - accuracy: 0.9850\n"
     ]
    },
    {
     "data": {
      "text/plain": [
       "<tensorflow.python.keras.callbacks.History at 0x7fc5a9f8ca30>"
      ]
     },
     "execution_count": 142,
     "metadata": {},
     "output_type": "execute_result"
    }
   ],
   "source": [
    "# Matriz de entrada y de salida\n",
    "X_E = np.array([x[1] for x in training_data_E])\n",
    "Y_E = np.array([y[0] for y in training_data_E])\n",
    "\n",
    "# Entrenando\n",
    "model_E.fit(X_E,Y_E,epochs=100)"
   ]
  },
  {
   "cell_type": "code",
   "execution_count": 143,
   "metadata": {},
   "outputs": [],
   "source": [
    "# Obteniendo representaciones de los vectores con las matrices de pesos\n",
    "W1 = model_E.get_weights()[0]\n",
    "W2 = model_E.get_weights()[2]\n",
    "D_E = 0.5*(W2.T+W1)"
   ]
  },
  {
   "cell_type": "markdown",
   "metadata": {},
   "source": [
    "### Ingles"
   ]
  },
  {
   "cell_type": "code",
   "execution_count": 148,
   "metadata": {
    "id": "QxzyRPFrl8JI"
   },
   "outputs": [],
   "source": [
    "fname = 'translate_f.txt' #Nombre del archivo\n",
    "C_I = 2 # Número de palabras de contexto a la derecha y a la izquierda\n",
    "text_I = get_file_data(fname, stop_word_removal='no')\n",
    "word_to_index_I,index_to_word_I,corpus_I,vocab_size_I,length_of_corpus_I = generate_dictinoary_data(text_I)\n",
    "training_data_I,training_sample_words_I = generate_training_data(corpus_I,C_I,vocab_size_I,word_to_index_I,length_of_corpus_I,sample=None)"
   ]
  },
  {
   "cell_type": "code",
   "execution_count": 149,
   "metadata": {},
   "outputs": [],
   "source": [
    "# Definiendo red neuronal\n",
    "model_I = Sequential()  \n",
    "model_I.add(Dense(30,input_shape=(vocab_size_I,), activation='relu'))\n",
    "model_I.add(Dense(vocab_size_I, activation='softmax'))\n",
    "\n",
    "model_I.compile(loss='CategoricalCrossentropy', optimizer='rmsprop', metrics=['accuracy']) "
   ]
  },
  {
   "cell_type": "code",
   "execution_count": 150,
   "metadata": {},
   "outputs": [
    {
     "name": "stdout",
     "output_type": "stream",
     "text": [
      "Epoch 1/100\n",
      "16/16 [==============================] - 0s 2ms/step - loss: 5.5441 - accuracy: 0.0020\n",
      "Epoch 2/100\n",
      "16/16 [==============================] - 0s 2ms/step - loss: 5.5018 - accuracy: 0.0402\n",
      "Epoch 3/100\n",
      "16/16 [==============================] - 0s 2ms/step - loss: 5.4644 - accuracy: 0.0582\n",
      "Epoch 4/100\n",
      "16/16 [==============================] - 0s 2ms/step - loss: 5.4215 - accuracy: 0.0743\n",
      "Epoch 5/100\n",
      "16/16 [==============================] - 0s 2ms/step - loss: 5.3719 - accuracy: 0.0663\n",
      "Epoch 6/100\n",
      "16/16 [==============================] - 0s 2ms/step - loss: 5.3151 - accuracy: 0.0703\n",
      "Epoch 7/100\n",
      "16/16 [==============================] - 0s 2ms/step - loss: 5.2528 - accuracy: 0.0643\n",
      "Epoch 8/100\n",
      "16/16 [==============================] - 0s 2ms/step - loss: 5.1863 - accuracy: 0.0663\n",
      "Epoch 9/100\n",
      "16/16 [==============================] - 0s 2ms/step - loss: 5.1166 - accuracy: 0.0743\n",
      "Epoch 10/100\n",
      "16/16 [==============================] - 0s 2ms/step - loss: 5.0452 - accuracy: 0.0743\n",
      "Epoch 11/100\n",
      "16/16 [==============================] - 0s 3ms/step - loss: 4.9745 - accuracy: 0.0763\n",
      "Epoch 12/100\n",
      "16/16 [==============================] - 0s 2ms/step - loss: 4.9074 - accuracy: 0.0823\n",
      "Epoch 13/100\n",
      "16/16 [==============================] - 0s 2ms/step - loss: 4.8438 - accuracy: 0.0783\n",
      "Epoch 14/100\n",
      "16/16 [==============================] - 0s 2ms/step - loss: 4.7850 - accuracy: 0.0823\n",
      "Epoch 15/100\n",
      "16/16 [==============================] - 0s 2ms/step - loss: 4.7306 - accuracy: 0.0863\n",
      "Epoch 16/100\n",
      "16/16 [==============================] - 0s 2ms/step - loss: 4.6795 - accuracy: 0.0904\n",
      "Epoch 17/100\n",
      "16/16 [==============================] - 0s 2ms/step - loss: 4.6309 - accuracy: 0.0863\n",
      "Epoch 18/100\n",
      "16/16 [==============================] - 0s 2ms/step - loss: 4.5840 - accuracy: 0.0823\n",
      "Epoch 19/100\n",
      "16/16 [==============================] - 0s 2ms/step - loss: 4.5382 - accuracy: 0.0803\n",
      "Epoch 20/100\n",
      "16/16 [==============================] - 0s 2ms/step - loss: 4.4926 - accuracy: 0.0863\n",
      "Epoch 21/100\n",
      "16/16 [==============================] - 0s 2ms/step - loss: 4.4475 - accuracy: 0.0984\n",
      "Epoch 22/100\n",
      "16/16 [==============================] - 0s 2ms/step - loss: 4.4021 - accuracy: 0.0984\n",
      "Epoch 23/100\n",
      "16/16 [==============================] - 0s 2ms/step - loss: 4.3568 - accuracy: 0.0924\n",
      "Epoch 24/100\n",
      "16/16 [==============================] - 0s 3ms/step - loss: 4.3105 - accuracy: 0.0984\n",
      "Epoch 25/100\n",
      "16/16 [==============================] - 0s 2ms/step - loss: 4.2644 - accuracy: 0.1024\n",
      "Epoch 26/100\n",
      "16/16 [==============================] - 0s 2ms/step - loss: 4.2172 - accuracy: 0.1064\n",
      "Epoch 27/100\n",
      "16/16 [==============================] - 0s 2ms/step - loss: 4.1694 - accuracy: 0.1064\n",
      "Epoch 28/100\n",
      "16/16 [==============================] - 0s 2ms/step - loss: 4.1208 - accuracy: 0.1024\n",
      "Epoch 29/100\n",
      "16/16 [==============================] - 0s 2ms/step - loss: 4.0721 - accuracy: 0.1084\n",
      "Epoch 30/100\n",
      "16/16 [==============================] - 0s 2ms/step - loss: 4.0228 - accuracy: 0.1124\n",
      "Epoch 31/100\n",
      "16/16 [==============================] - 0s 2ms/step - loss: 3.9714 - accuracy: 0.1145\n",
      "Epoch 32/100\n",
      "16/16 [==============================] - 0s 2ms/step - loss: 3.9207 - accuracy: 0.1165\n",
      "Epoch 33/100\n",
      "16/16 [==============================] - 0s 2ms/step - loss: 3.8686 - accuracy: 0.1205\n",
      "Epoch 34/100\n",
      "16/16 [==============================] - 0s 2ms/step - loss: 3.8165 - accuracy: 0.1345\n",
      "Epoch 35/100\n",
      "16/16 [==============================] - 0s 3ms/step - loss: 3.7628 - accuracy: 0.1426\n",
      "Epoch 36/100\n",
      "16/16 [==============================] - 0s 2ms/step - loss: 3.7083 - accuracy: 0.1526\n",
      "Epoch 37/100\n",
      "16/16 [==============================] - 0s 2ms/step - loss: 3.6532 - accuracy: 0.1586\n",
      "Epoch 38/100\n",
      "16/16 [==============================] - 0s 2ms/step - loss: 3.5971 - accuracy: 0.1606\n",
      "Epoch 39/100\n",
      "16/16 [==============================] - 0s 2ms/step - loss: 3.5408 - accuracy: 0.1647\n",
      "Epoch 40/100\n",
      "16/16 [==============================] - 0s 2ms/step - loss: 3.4839 - accuracy: 0.1747\n",
      "Epoch 41/100\n",
      "16/16 [==============================] - 0s 2ms/step - loss: 3.4255 - accuracy: 0.1747\n",
      "Epoch 42/100\n",
      "16/16 [==============================] - 0s 2ms/step - loss: 3.3672 - accuracy: 0.1847\n",
      "Epoch 43/100\n",
      "16/16 [==============================] - 0s 2ms/step - loss: 3.3074 - accuracy: 0.1928\n",
      "Epoch 44/100\n",
      "16/16 [==============================] - 0s 2ms/step - loss: 3.2473 - accuracy: 0.2008\n",
      "Epoch 45/100\n",
      "16/16 [==============================] - 0s 2ms/step - loss: 3.1865 - accuracy: 0.2269\n",
      "Epoch 46/100\n",
      "16/16 [==============================] - 0s 2ms/step - loss: 3.1250 - accuracy: 0.2349\n",
      "Epoch 47/100\n",
      "16/16 [==============================] - 0s 2ms/step - loss: 3.0626 - accuracy: 0.2490\n",
      "Epoch 48/100\n",
      "16/16 [==============================] - 0s 2ms/step - loss: 3.0014 - accuracy: 0.2590\n",
      "Epoch 49/100\n",
      "16/16 [==============================] - 0s 2ms/step - loss: 2.9383 - accuracy: 0.2791\n",
      "Epoch 50/100\n",
      "16/16 [==============================] - 0s 3ms/step - loss: 2.8757 - accuracy: 0.3112\n",
      "Epoch 51/100\n",
      "16/16 [==============================] - 0s 2ms/step - loss: 2.8115 - accuracy: 0.3213\n",
      "Epoch 52/100\n",
      "16/16 [==============================] - 0s 2ms/step - loss: 2.7493 - accuracy: 0.3373\n",
      "Epoch 53/100\n",
      "16/16 [==============================] - 0s 2ms/step - loss: 2.6850 - accuracy: 0.3514\n",
      "Epoch 54/100\n",
      "16/16 [==============================] - 0s 2ms/step - loss: 2.6208 - accuracy: 0.3735\n",
      "Epoch 55/100\n",
      "16/16 [==============================] - 0s 2ms/step - loss: 2.5569 - accuracy: 0.4197\n",
      "Epoch 56/100\n",
      "16/16 [==============================] - 0s 2ms/step - loss: 2.4927 - accuracy: 0.4458\n",
      "Epoch 57/100\n",
      "16/16 [==============================] - 0s 2ms/step - loss: 2.4294 - accuracy: 0.4679\n",
      "Epoch 58/100\n",
      "16/16 [==============================] - 0s 2ms/step - loss: 2.3659 - accuracy: 0.4920\n",
      "Epoch 59/100\n",
      "16/16 [==============================] - 0s 2ms/step - loss: 2.3024 - accuracy: 0.5261\n",
      "Epoch 60/100\n",
      "16/16 [==============================] - 0s 2ms/step - loss: 2.2397 - accuracy: 0.5542\n",
      "Epoch 61/100\n",
      "16/16 [==============================] - 0s 3ms/step - loss: 2.1772 - accuracy: 0.5803\n",
      "Epoch 62/100\n",
      "16/16 [==============================] - 0s 2ms/step - loss: 2.1157 - accuracy: 0.5904\n",
      "Epoch 63/100\n",
      "16/16 [==============================] - 0s 2ms/step - loss: 2.0533 - accuracy: 0.6325\n",
      "Epoch 64/100\n",
      "16/16 [==============================] - 0s 2ms/step - loss: 1.9928 - accuracy: 0.6586\n",
      "Epoch 65/100\n",
      "16/16 [==============================] - 0s 2ms/step - loss: 1.9325 - accuracy: 0.6968\n",
      "Epoch 66/100\n",
      "16/16 [==============================] - 0s 2ms/step - loss: 1.8741 - accuracy: 0.7129\n",
      "Epoch 67/100\n",
      "16/16 [==============================] - 0s 2ms/step - loss: 1.8162 - accuracy: 0.7410\n",
      "Epoch 68/100\n",
      "16/16 [==============================] - 0s 2ms/step - loss: 1.7596 - accuracy: 0.7530\n",
      "Epoch 69/100\n",
      "16/16 [==============================] - 0s 2ms/step - loss: 1.7051 - accuracy: 0.7631\n",
      "Epoch 70/100\n",
      "16/16 [==============================] - 0s 2ms/step - loss: 1.6511 - accuracy: 0.7932\n",
      "Epoch 71/100\n",
      "16/16 [==============================] - 0s 2ms/step - loss: 1.5980 - accuracy: 0.8032\n",
      "Epoch 72/100\n",
      "16/16 [==============================] - 0s 2ms/step - loss: 1.5465 - accuracy: 0.8052\n",
      "Epoch 73/100\n",
      "16/16 [==============================] - 0s 2ms/step - loss: 1.4966 - accuracy: 0.8213\n",
      "Epoch 74/100\n",
      "16/16 [==============================] - 0s 2ms/step - loss: 1.4486 - accuracy: 0.8333\n",
      "Epoch 75/100\n",
      "16/16 [==============================] - 0s 3ms/step - loss: 1.4005 - accuracy: 0.8474\n",
      "Epoch 76/100\n",
      "16/16 [==============================] - 0s 2ms/step - loss: 1.3552 - accuracy: 0.8494\n",
      "Epoch 77/100\n",
      "16/16 [==============================] - 0s 2ms/step - loss: 1.3097 - accuracy: 0.8594\n",
      "Epoch 78/100\n",
      "16/16 [==============================] - 0s 2ms/step - loss: 1.2669 - accuracy: 0.8655\n",
      "Epoch 79/100\n",
      "16/16 [==============================] - 0s 2ms/step - loss: 1.2258 - accuracy: 0.8695\n",
      "Epoch 80/100\n",
      "16/16 [==============================] - 0s 2ms/step - loss: 1.1855 - accuracy: 0.8735\n",
      "Epoch 81/100\n",
      "16/16 [==============================] - 0s 2ms/step - loss: 1.1470 - accuracy: 0.8795\n",
      "Epoch 82/100\n",
      "16/16 [==============================] - 0s 2ms/step - loss: 1.1093 - accuracy: 0.8835\n",
      "Epoch 83/100\n"
     ]
    },
    {
     "name": "stdout",
     "output_type": "stream",
     "text": [
      "16/16 [==============================] - 0s 2ms/step - loss: 1.0729 - accuracy: 0.8876\n",
      "Epoch 84/100\n",
      "16/16 [==============================] - 0s 3ms/step - loss: 1.0372 - accuracy: 0.8896\n",
      "Epoch 85/100\n",
      "16/16 [==============================] - 0s 2ms/step - loss: 1.0043 - accuracy: 0.8936\n",
      "Epoch 86/100\n",
      "16/16 [==============================] - 0s 2ms/step - loss: 0.9709 - accuracy: 0.8976\n",
      "Epoch 87/100\n",
      "16/16 [==============================] - 0s 2ms/step - loss: 0.9390 - accuracy: 0.9016\n",
      "Epoch 88/100\n",
      "16/16 [==============================] - 0s 2ms/step - loss: 0.9083 - accuracy: 0.9016\n",
      "Epoch 89/100\n",
      "16/16 [==============================] - 0s 2ms/step - loss: 0.8777 - accuracy: 0.9076\n",
      "Epoch 90/100\n",
      "16/16 [==============================] - 0s 2ms/step - loss: 0.8500 - accuracy: 0.9096\n",
      "Epoch 91/100\n",
      "16/16 [==============================] - 0s 2ms/step - loss: 0.8217 - accuracy: 0.9177\n",
      "Epoch 92/100\n",
      "16/16 [==============================] - 0s 2ms/step - loss: 0.7950 - accuracy: 0.9197\n",
      "Epoch 93/100\n",
      "16/16 [==============================] - 0s 2ms/step - loss: 0.7702 - accuracy: 0.9197\n",
      "Epoch 94/100\n",
      "16/16 [==============================] - 0s 2ms/step - loss: 0.7444 - accuracy: 0.9237\n",
      "Epoch 95/100\n",
      "16/16 [==============================] - 0s 2ms/step - loss: 0.7207 - accuracy: 0.9277\n",
      "Epoch 96/100\n",
      "16/16 [==============================] - 0s 2ms/step - loss: 0.6969 - accuracy: 0.9277\n",
      "Epoch 97/100\n",
      "16/16 [==============================] - 0s 2ms/step - loss: 0.6750 - accuracy: 0.9378\n",
      "Epoch 98/100\n",
      "16/16 [==============================] - 0s 2ms/step - loss: 0.6523 - accuracy: 0.9317\n",
      "Epoch 99/100\n",
      "16/16 [==============================] - 0s 2ms/step - loss: 0.6315 - accuracy: 0.9418\n",
      "Epoch 100/100\n",
      "16/16 [==============================] - 0s 2ms/step - loss: 0.6106 - accuracy: 0.9438\n"
     ]
    },
    {
     "data": {
      "text/plain": [
       "<tensorflow.python.keras.callbacks.History at 0x7fc5a967ee50>"
      ]
     },
     "execution_count": 150,
     "metadata": {},
     "output_type": "execute_result"
    }
   ],
   "source": [
    "# Matriz de entrada y de salida\n",
    "X_I = np.array([x[1] for x in training_data_I])\n",
    "Y_I = np.array([y[0] for y in training_data_I])\n",
    "\n",
    "# Entrenando\n",
    "model_I.fit(X_I,Y_I,epochs=100)"
   ]
  },
  {
   "cell_type": "code",
   "execution_count": 151,
   "metadata": {},
   "outputs": [],
   "source": [
    "# Obteniendo representaciones de los vectores con las matrices de pesos\n",
    "W1 = model_I.get_weights()[0]\n",
    "W2 = model_I.get_weights()[2]\n",
    "D_I = 0.5*(W2.T+W1)"
   ]
  },
  {
   "cell_type": "markdown",
   "metadata": {},
   "source": [
    "### Traducción"
   ]
  },
  {
   "cell_type": "code",
   "execution_count": 152,
   "metadata": {
    "id": "jJ58zjU8pR0I"
   },
   "outputs": [],
   "source": [
    "X = ['consola','siempre','de','ser','sobre','estante','estupidos','ninos','comentarios','controles','sotano','su','madre','fracasados','son','idiotas','odio','creen','mas','que','cualquiera','creditos','saberse','juegos','quisiera','libro','ser','ellos','saben','como','viajando','padres','otro','creadores','respetados','genios','como','contar','pare','diferencia','solo','gorilas','corbatas','penetrantes','unicas','historias','excesivamente','filosofia','sonadores','diablos']\n",
    "Y = ['console','always','of','being','on','shelf','stupid','children','comments','controls','basement','his','mother','losers','are','stupid','hate','believe','more','than','any','credits','knowing','games','would','book','be','they','know','how','traveling','parents','another','creative','respected','geniuses','as','counting','stop','unlike','only','gorillas','ties','penetrating','unique','stories','excessively','philosophy','dreamers','devils']"
   ]
  },
  {
   "cell_type": "code",
   "execution_count": 182,
   "metadata": {
    "id": "bULa_lBlrQoe"
   },
   "outputs": [],
   "source": [
    "# Indices de las palabras\n",
    "X_indx = [word_to_index_E[w] for w in X]\n",
    "Y_indx = [word_to_index_I[w] for w in Y]\n",
    "\n",
    "# Vectores de las palabras\n",
    "X_vec = np.array([D_E[i] for i in X_indx])\n",
    "Y_vec = np.array([D_I[i]for i in Y_indx])"
   ]
  },
  {
   "cell_type": "code",
   "execution_count": 163,
   "metadata": {},
   "outputs": [
    {
     "data": {
      "text/plain": [
       "(50, 30)"
      ]
     },
     "execution_count": 163,
     "metadata": {},
     "output_type": "execute_result"
    }
   ],
   "source": [
    "X_vec.shape"
   ]
  },
  {
   "cell_type": "code",
   "execution_count": 176,
   "metadata": {
    "id": "fnwYP7pfudz8"
   },
   "outputs": [
    {
     "name": "stdout",
     "output_type": "stream",
     "text": [
      "Dimensiones de R:  (30, 30)\n"
     ]
    }
   ],
   "source": [
    "# Matriz R\n",
    "R = np.linalg.inv(X_vec.T@X_vec)@(X_vec.T@Y_vec)\n",
    "print(\"Dimensiones de R: \",R.shape)"
   ]
  },
  {
   "cell_type": "code",
   "execution_count": 177,
   "metadata": {
    "colab": {
     "base_uri": "https://localhost:8080/",
     "height": 35
    },
    "id": "AwMRGrICxDPA",
    "outputId": "8f55539a-fc23-44b5-e8de-2684954c31bf"
   },
   "outputs": [
    {
     "name": "stdout",
     "output_type": "stream",
     "text": [
      "Palabra a traducir:  vive\n"
     ]
    }
   ],
   "source": [
    "inx = 27\n",
    "print(\"Palabra a traducir: \",index_to_word_E[27])\n",
    "I_word = D_E[27]@R"
   ]
  },
  {
   "cell_type": "code",
   "execution_count": 180,
   "metadata": {
    "id": "qfRMcbIAyLd8"
   },
   "outputs": [],
   "source": [
    "# Modelo con 4 divisiones de vecotres en R^30\n",
    "lsh = lshash.LSHash(4, 30)\n",
    "\n",
    "for word in D_I:\n",
    "    lsh.index(word)"
   ]
  },
  {
   "cell_type": "code",
   "execution_count": 181,
   "metadata": {
    "colab": {
     "base_uri": "https://localhost:8080/"
    },
    "id": "zaanzKcGy2L2",
    "outputId": "86c83c17-1ab4-4534-f28c-98f4fbc612be"
   },
   "outputs": [
    {
     "name": "stdout",
     "output_type": "stream",
     "text": [
      "['more', 'than', 'that', 'affects', 'better']\n"
     ]
    }
   ],
   "source": [
    "# Buscando vecinos mas cercanos\n",
    "top = 5\n",
    "vecinos = lsh.query(I_word.tolist(),num_results=top,distance_func='cosine')\n",
    "print([index_to_word_I[getIndex(D_I,vecinos[i][0][0])] for i in range(len(vecinos))])"
   ]
  },
  {
   "cell_type": "code",
   "execution_count": null,
   "metadata": {
    "id": "U4D_ihQUzfwv"
   },
   "outputs": [],
   "source": []
  }
 ],
 "metadata": {
  "colab": {
   "collapsed_sections": [],
   "name": "Proyecto_II_word2vec.ipynb",
   "provenance": []
  },
  "kernelspec": {
   "display_name": "Python 3",
   "language": "python",
   "name": "python3"
  },
  "language_info": {
   "codemirror_mode": {
    "name": "ipython",
    "version": 3
   },
   "file_extension": ".py",
   "mimetype": "text/x-python",
   "name": "python",
   "nbconvert_exporter": "python",
   "pygments_lexer": "ipython3",
   "version": "3.8.5"
  }
 },
 "nbformat": 4,
 "nbformat_minor": 1
}
